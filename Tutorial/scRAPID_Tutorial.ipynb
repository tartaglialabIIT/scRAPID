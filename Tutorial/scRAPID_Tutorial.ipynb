{
 "cells": [
  {
   "cell_type": "markdown",
   "id": "0860a5ed",
   "metadata": {},
   "source": [
    "# scRAPID tutorial"
   ]
  },
  {
   "cell_type": "markdown",
   "id": "533f1254",
   "metadata": {},
   "source": [
    "Rome, 14/06/2023. Jonathan Fiorentino\n",
    "\n",
    "In this notebook we provide a tutorial to run the scRAPID pipeline on a GRN inferred from single-cell transcriptomic data."
   ]
  },
  {
   "cell_type": "code",
   "execution_count": 1,
   "id": "a07e5815",
   "metadata": {},
   "outputs": [],
   "source": [
    "import numpy as np\n",
    "import pandas as pd\n",
    "import scRAPID as scr\n",
    "# from gtfparse import read_gtf\n",
    "# import subprocess"
   ]
  },
  {
   "cell_type": "code",
   "execution_count": 2,
   "id": "54eafc4d",
   "metadata": {},
   "outputs": [],
   "source": [
    "# Define some variables that are needed in the analysis\n",
    "# Id of the dataset: In this case we use \n",
    "# the C2C12 cell line\n",
    "# the dataset is a short-read SpLIT-seq scRNA-seq of myoblasts \n",
    "datasetID = \"C2C12_SR9kMBSC\"\n",
    "\n",
    "# the set_type identifies the regulators and the number of HVGs\n",
    "# chosen at the gene selection step prior to GRN inference\n",
    "# in this case RNA binding proteins + 500 HVGs\n",
    "set_type = \"RBP_RNA500\"\n",
    "# path to file with normalized count matrix\n",
    "norm_data_file = \"./inputs/\"+datasetID+\"_\"+set_type+\"/\"+datasetID+\"NormalizedData_\"+set_type+\".csv\"\n",
    "# specify the organism (Mouse and Human are currently supported\n",
    "# with pre-computed catRAPID scores, but users can run catRAPID on \n",
    "# different organisms using catRAPID or catRAPID omicsv2.0; \n",
    "# visit http://s.tartaglialab.com/page/catrapid_group for more info)\n",
    "organism=\"Mouse\"\n",
    "\n",
    "# Specify the algorithm you used to infer the GRN, in this case DeePSEM\n",
    "# but our pipeline is agnostic to the algorithm used upstream\n",
    "GRN_algo='DeePSEM'"
   ]
  },
  {
   "cell_type": "code",
   "execution_count": 3,
   "id": "7b511f93",
   "metadata": {},
   "outputs": [],
   "source": [
    "# Load the list of RBPs and lncRNAs\n",
    "if organism=='Human':\n",
    "    RBPs=np.loadtxt('Human_RBPs.txt',dtype=str)\n",
    "\n",
    "    # Get the gtf file from GENCODEv41 with lncRNA annotation for human\n",
    "    # https://ftp.ebi.ac.uk/pub/databases/gencode/Gencode_human/release_41/gencode.v41.long_noncoding_RNAs.gtf.gz\n",
    "    gnames_lncRNA=list(np.loadtxt(\"Human_lncRNAs.txt\",dtype=str))\n",
    "elif organism=='Mouse':\n",
    "    RBPs=np.loadtxt('Mouse_RBPs.txt',dtype=str)\n",
    "    # Get the gtf file from GENCODEM30 with lncRNA annotation in mouse\n",
    "    # https://ftp.ebi.ac.uk/pub/databases/gencode/Gencode_mouse/release_M30/gencode.vM30.long_noncoding_RNAs.gtf.gz\n",
    "    gnames_lncRNA=list(np.loadtxt(\"Mouse_lncRNAs.txt\",dtype=str))"
   ]
  },
  {
   "cell_type": "code",
   "execution_count": 4,
   "id": "a6826d62",
   "metadata": {},
   "outputs": [],
   "source": [
    "# Specify path to folder for writing the output\n",
    "res_folder=\"./outputs/\"+datasetID+\"_\"+set_type+\"/\"+GRN_algo+\"/\""
   ]
  },
  {
   "cell_type": "code",
   "execution_count": 5,
   "id": "a5eab5e4",
   "metadata": {},
   "outputs": [],
   "source": [
    "# Load the genes x cells matrix with the normalized counts \n",
    "norm_data=pd.read_csv(norm_data_file, header=0, index_col=0)\n",
    "# All the genes in the dataset\n",
    "all_genes=list(set(norm_data.index))\n",
    "\n",
    "# Possible edges excluding self loops\n",
    "possibleEdges=(len(all_genes)*len(all_genes))-len(all_genes)\n",
    "\n",
    "# RBPs in the dataset\n",
    "RBPs_in_data=list(set(all_genes).intersection(set(RBPs)))\n",
    "\n",
    "# lncRNAs in the dataset\n",
    "lncRNAs_in_data=list(set(all_genes).intersection(set(gnames_lncRNA)))"
   ]
  },
  {
   "cell_type": "code",
   "execution_count": 8,
   "id": "209d2645",
   "metadata": {},
   "outputs": [],
   "source": [
    "# Load Uniprot table to convert gene names to Uniprot IDs\n",
    "uniprot=pd.read_csv(\"./uniprot_mouse.txt\",delimiter=\"\\t\")\n",
    "uniprot_dict=dict(zip(uniprot.protein_name,uniprot.accession_number))"
   ]
  },
  {
   "cell_type": "code",
   "execution_count": 9,
   "id": "85bf5bf7",
   "metadata": {},
   "outputs": [],
   "source": [
    "RBPs_Uniprot_IDs=list(pd.Series(RBPs_in_data).map(uniprot_dict).dropna())\n",
    "np.savetxt(\"RBPs_C2C12SR9kMBSC.txt\",np.c_[RBPs_Uniprot_IDs],fmt=\"%s\")"
   ]
  },
  {
   "cell_type": "code",
   "execution_count": 10,
   "id": "e5e7d190",
   "metadata": {},
   "outputs": [],
   "source": [
    "np.savetxt(\"RNAs_C2C12SR9kMBSC.txt\",np.c_[all_genes],fmt=\"%s\")"
   ]
  },
  {
   "cell_type": "code",
   "execution_count": 12,
   "id": "b2cdaee6",
   "metadata": {},
   "outputs": [],
   "source": [
    "# Load the catRAPID table \n",
    "# see how it can be obtained from our database\n",
    "catRAPIDDF=pd.read_csv(\"catRAPID_table_C2C12SR9KMBSC.csv\")"
   ]
  },
  {
   "cell_type": "code",
   "execution_count": 13,
   "id": "790507f4",
   "metadata": {},
   "outputs": [],
   "source": [
    "uniprot_dict2=dict(zip(uniprot.accession_number,uniprot.protein_name))\n",
    "catRAPIDDF['protein_name']=catRAPIDDF.Uniprot_ID.map(uniprot_dict2)\n",
    "catRAPIDDF[\"Edges\"]=catRAPIDDF['protein_name']+'|'+catRAPIDDF['gene_name']\n",
    "catRAPIDDF=catRAPIDDF.set_index(\"Edges\")"
   ]
  },
  {
   "cell_type": "code",
   "execution_count": 14,
   "id": "e32c17e4",
   "metadata": {},
   "outputs": [],
   "source": [
    "# Read the ranked edges\n",
    "# (formatted as in BEELINE, three columns: Gene1, Gene2, EdgeWeight. Delimiter is \\t)\n",
    "predDF=scr.preprocess(res_folder)\n",
    "\n",
    "# Condition for defining significant edges \n",
    "# (for methods returning more than the 5% of the possible edges)\n",
    "if len(list(predDF.index))>int(0.05*possibleEdges):\n",
    "    predDF=predDF.iloc[:int(0.05*possibleEdges)]\n",
    "\n",
    "# Keep only RBP-RNA interactions\n",
    "predDF=predDF.loc[predDF['Gene1'].isin(RBPs)]\n",
    "        \n",
    "# Run scRAPID\n",
    "# 1. Predict RBP co-interactions based on shared RNA targets\n",
    "# Returns a dataframe with the RBP pairs and the Jaccard coefficient\n",
    "CoInterDF=scr.CoInter(predDF)\n",
    "        \n",
    "# 2. catRAPID based-filter of inferred interactions\n",
    "# (the default threshold on interaction propensity is 30)\n",
    "predDF_catRAPID=scr.FilterRanking(predDF, catRAPIDDF, threshold = 30)\n",
    "        \n",
    "# 3. RBP interactions with long non-coding RNAs\n",
    "predDF_catRAPID_lncRNA=predDF_catRAPID[predDF_catRAPID.Gene2.isin(gnames_lncRNA)].copy()\n",
    "        \n",
    "# 4. Predict hub RBPs\n",
    "# This function returns a dataframe with RBPs and their out-degree centrality\n",
    "# In the manuscript we considered as hubs the top 10%\n",
    "# but different thresholds can be considered\n",
    "HubRBPs=scr.HubReg(predDF_catRAPID,RBPs_in_data,GRN_algo)\n",
    "        \n",
    "# 5. Predict hub target RNAs (specify if you are interested only in lncRNAs or any RNA)\n",
    "# This function returns a dataframe with RNAs and their in-degree centrality\n",
    "# In the manuscript we considered as hubs the top 10% \n",
    "# but different thresholds can be considered\n",
    "HubRNAs=scr.HubTarget(predDF_catRAPID,all_genes,GRN_algo)\n",
    "        \n",
    "# 6. Predict hub target lncRNAs\n",
    "HublncRNAs=scr.HubTarget(predDF_catRAPID_lncRNA,lncRNAs_in_data,GRN_algo)"
   ]
  },
  {
   "cell_type": "code",
   "execution_count": null,
   "id": "c31b2391",
   "metadata": {},
   "outputs": [],
   "source": []
  }
 ],
 "metadata": {
  "kernelspec": {
   "display_name": "scRAPID-venv",
   "language": "python",
   "name": "scrapid-venv"
  },
  "language_info": {
   "codemirror_mode": {
    "name": "ipython",
    "version": 3
   },
   "file_extension": ".py",
   "mimetype": "text/x-python",
   "name": "python",
   "nbconvert_exporter": "python",
   "pygments_lexer": "ipython3",
   "version": "3.9.5"
  },
  "toc": {
   "base_numbering": 1,
   "nav_menu": {},
   "number_sections": true,
   "sideBar": true,
   "skip_h1_title": false,
   "title_cell": "Table of Contents",
   "title_sidebar": "Contents",
   "toc_cell": false,
   "toc_position": {},
   "toc_section_display": true,
   "toc_window_display": false
  }
 },
 "nbformat": 4,
 "nbformat_minor": 5
}
