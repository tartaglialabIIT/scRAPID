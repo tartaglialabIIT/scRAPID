{
 "cells": [
  {
   "cell_type": "markdown",
   "id": "5a4b83ed",
   "metadata": {},
   "source": [
    "# Gene selection for GRN inference"
   ]
  },
  {
   "cell_type": "markdown",
   "id": "c58fb41d",
   "metadata": {},
   "source": [
    "02/12/2022\n",
    "\n",
    "Here we select the set of genes for the GRN inference for RBP-mRNA and RBP-lncRNA interactions\n",
    "\n",
    "We use the Smart-seq2, 10x and SCAN-seq2 (9CL) data for Hepg2, the CEL-seq, STORM-seq 1M reads, Smart-seq3, SCAN-seq2 9CL and UMI200 for K562.\n",
    "\n",
    "For each dataset we consider only genes present in the fasta file of the canonical isoforms used for the annotation of the eCLIP data. \n",
    "\n",
    "We select the following sets of genes:\n",
    "\n",
    "- eCLIP RBPs + top 400 HVmRNAs\n",
    "- eCLIP RBPs + top 400 HVlncRNAs"
   ]
  },
  {
   "cell_type": "code",
   "execution_count": null,
   "id": "1c30e737",
   "metadata": {},
   "outputs": [],
   "source": [
    "%matplotlib inline"
   ]
  },
  {
   "cell_type": "code",
   "execution_count": null,
   "id": "9b35de34",
   "metadata": {},
   "outputs": [],
   "source": [
    "import scanpy as sc\n",
    "import anndata as ad\n",
    "import numpy as np\n",
    "import pandas as pd\n",
    "import os"
   ]
  },
  {
   "cell_type": "code",
   "execution_count": null,
   "id": "2f0a8190",
   "metadata": {},
   "outputs": [],
   "source": [
    "input_folder='./'\n",
    "proc_folder=input_folder+'processed_data/'"
   ]
  },
  {
   "cell_type": "markdown",
   "id": "ed9903a2",
   "metadata": {},
   "source": [
    "## Load the fasta file with the canonical isoforms"
   ]
  },
  {
   "cell_type": "code",
   "execution_count": null,
   "id": "6818ed71",
   "metadata": {},
   "outputs": [],
   "source": [
    "from Bio import SeqIO\n",
    "gname=[]\n",
    "gid=[]\n",
    "f_open = open(\"/Users/jonathan/Desktop/IIT/INTERACTomics/ENCODE_eCLIP_DATA/transcriptomes/hsapiens_gene_ensembl_107_canonical_new.fa\", \"rU\")\n",
    "for rec in SeqIO.parse(f_open, \"fasta\"):\n",
    "    myid = rec.id\n",
    "    gname.append(myid.split('|')[4])\n",
    "    gid.append(myid.split('|')[0])"
   ]
  },
  {
   "cell_type": "markdown",
   "id": "e8d31d33",
   "metadata": {},
   "source": [
    "## Loading scRNA-seq pre-processed data"
   ]
  },
  {
   "cell_type": "code",
   "execution_count": null,
   "id": "8bafbca9",
   "metadata": {},
   "outputs": [],
   "source": [
    "HepG2_SMART=ad.read_h5ad(proc_folder+'processed_HepG2_Smartseq2.h5ad')\n",
    "HepG2_10x=ad.read_h5ad(proc_folder+'processed_HepG2_10x.h5ad')\n",
    "\n",
    "K562_CEL=ad.read_h5ad(proc_folder+'processed_K562_CELseq.h5ad')\n",
    "K562_CEL_ARACNe=ad.read_h5ad(proc_folder+'processed_K562_CELseq_ARACNe.h5ad')\n",
    "\n",
    "K562_STORM=ad.read_h5ad(proc_folder+'processed_K562_STORMseq1M.h5ad')\n",
    "\n",
    "K562_SMART3=ad.read_h5ad(proc_folder+'processed_K562_Smartseq3.h5ad')\n",
    "K562_SMART3_ARACNe=ad.read_h5ad(proc_folder+'processed_K562_Smartseq3.h5ad')"
   ]
  },
  {
   "cell_type": "code",
   "execution_count": null,
   "id": "d18d5980",
   "metadata": {},
   "outputs": [],
   "source": [
    "# Consider only genes present in the fasta file\n",
    "def Genes_in_fasta(adata,gnames):\n",
    "    print(adata)\n",
    "    inters=list(set(adata.var_names).intersection(set(gnames)))\n",
    "    adata=adata[:,inters].copy()\n",
    "    print(adata)\n",
    "    return adata;"
   ]
  },
  {
   "cell_type": "code",
   "execution_count": null,
   "id": "72e68afa",
   "metadata": {},
   "outputs": [],
   "source": [
    "HepG2_SMART=Genes_in_fasta(HepG2_SMART,gname)\n",
    "HepG2_10x=Genes_in_fasta(HepG2_10x,gname)\n",
    "# HepG2_10x_ARACNe=Genes_in_fasta(HepG2_10x_ARACNe,gname)\n",
    "\n",
    "K562_CEL=Genes_in_fasta(K562_CEL,gname)\n",
    "K562_CEL_ARACNe=Genes_in_fasta(K562_CEL_ARACNe,gname)\n",
    "\n",
    "K562_STORM=Genes_in_fasta(K562_STORM,gname)\n",
    "K562_SMART3=Genes_in_fasta(K562_SMART3,gname)\n",
    "K562_SMART3_ARACNe=Genes_in_fasta(K562_SMART3_ARACNe,gname)"
   ]
  },
  {
   "cell_type": "markdown",
   "id": "07a4875f",
   "metadata": {},
   "source": [
    "## Load TFs and RBPs"
   ]
  },
  {
   "cell_type": "code",
   "execution_count": null,
   "id": "42a97436",
   "metadata": {},
   "outputs": [],
   "source": [
    "# Load TFs from Beeline\n",
    "TFs=pd.read_csv('human-tfs.csv')\n",
    "TFs=list(set(TFs['TF']))\n",
    "len(TFs)"
   ]
  },
  {
   "cell_type": "code",
   "execution_count": null,
   "id": "973a131a",
   "metadata": {},
   "outputs": [],
   "source": [
    "RBPs=list(np.loadtxt(\"eCLIP_RBPs.txt\",dtype=str))"
   ]
  },
  {
   "cell_type": "markdown",
   "id": "bacb03ae",
   "metadata": {},
   "source": [
    "## Gene sets"
   ]
  },
  {
   "cell_type": "markdown",
   "id": "8ba476c8",
   "metadata": {},
   "source": [
    "### Highly variable long non-coding RNAs"
   ]
  },
  {
   "cell_type": "code",
   "execution_count": null,
   "id": "115d047f",
   "metadata": {},
   "outputs": [],
   "source": [
    "from gtfparse import read_gtf\n",
    "gtf_df_lnc = read_gtf(\"/Users/jonathan/Desktop/IIT/INTERACTomics/ENCODE_eCLIP_DATA/transcriptomes_gencode_V41/gencode.v41.long_noncoding_RNAs.gtf\")\n",
    "#     print(gtf_df_lnc.gene_type.value_counts())\n",
    "gnames_nc=set(gtf_df_lnc.gene_name)\n",
    "    \n",
    "def HVlnc(adata,eclip,ct,n):\n",
    "    print(ct)\n",
    "    \n",
    "    \n",
    "    print('Total nr lncRNA',len(set(gnames_nc).intersection(set(adata.var_names))))\n",
    "    inters_lnc=list(set(gnames_nc).intersection(set(adata.var_names)))\n",
    "    \n",
    "    adata_lnc=adata[:,inters_lnc].copy()\n",
    "    sc.pp.highly_variable_genes(adata_lnc,max_mean=10,n_top_genes=n)\n",
    "    adata_HVlnc=adata_lnc[:,adata_lnc.var['highly_variable']==True].copy()\n",
    "    \n",
    "    ordered_HVlnc=adata_HVlnc.var.sort_values('dispersions_norm',ascending=False).index\n",
    "    \n",
    "    return ordered_HVlnc;"
   ]
  },
  {
   "cell_type": "code",
   "execution_count": null,
   "id": "bc9ac5e6",
   "metadata": {},
   "outputs": [],
   "source": [
    "import seaborn as sns\n",
    "import matplotlib.pyplot as plt\n",
    "\n",
    "def jaccard_similarity(list1, list2):\n",
    "    intersection = len(list(set(list1).intersection(list2)))\n",
    "    union = (len(set(list1)) + len(set(list2))) - intersection\n",
    "    return float(intersection) / union\n",
    "\n",
    "def jaccard_heatmap(adatas,protocols,ct):\n",
    "    jaccard=np.zeros((len(adatas),len(adatas)))\n",
    "    i=0\n",
    "    for (adata1,prot1) in zip(adatas,protocols):\n",
    "        j=0\n",
    "        for (adata2,prot2) in zip(adatas,protocols):\n",
    "            jaccard[i,j]=jaccard_similarity(list(adata1),list(adata2))\n",
    "            j+=1\n",
    "        i+=1\n",
    "    \n",
    "    # Getting the Upper Triangle of the co-relation matrix\n",
    "    matrix = np.triu(jaccard)\n",
    "\n",
    "    fig,ax =plt.subplots()\n",
    "    ax.set_title(ct)\n",
    "    # using the upper triangle matrix as mask \n",
    "    sns.heatmap(jaccard, annot=True, mask=matrix,ax=ax,\n",
    "           xticklabels=protocols,yticklabels=protocols)\n",
    "    plt.show(),plt.close()"
   ]
  },
  {
   "cell_type": "code",
   "execution_count": null,
   "id": "2c46d021",
   "metadata": {},
   "outputs": [],
   "source": [
    "HVlnc_HepG2_Smartseq2=HVlnc(HepG2_SMART,eclip_HepG2,'HepG2_Smartseq2',400)\n",
    "HVlnc_HepG2_10x=HVlnc(HepG2_10x,eclip_HepG2,'HepG2_10x',400)"
   ]
  },
  {
   "cell_type": "code",
   "execution_count": null,
   "id": "6d15c8b3",
   "metadata": {},
   "outputs": [],
   "source": [
    "jaccard_heatmap([HVlnc_HepG2_Smartseq2,HVlnc_HepG2_10x],['Smart-seq2','10x'],'HepG2')"
   ]
  },
  {
   "cell_type": "code",
   "execution_count": null,
   "id": "e39df60f",
   "metadata": {},
   "outputs": [],
   "source": [
    "HVlnc_K562_CELseq=HVlnc(K562_CEL,eclip_K562,'K562_CELseq',400)\n",
    "HVlnc_K562_STORMseq=HVlnc(K562_STORM,eclip_K562,'K562_STORMseq',400)\n",
    "HVlnc_K562_Smartseq3=HVlnc(K562_SMART3,eclip_K562,'K562_Smartseq3',400)"
   ]
  },
  {
   "cell_type": "code",
   "execution_count": null,
   "id": "33b62577",
   "metadata": {},
   "outputs": [],
   "source": [
    "jaccard_heatmap([HVlnc_K562_CELseq,HVlnc_K562_STORMseq,HVlnc_K562_Smartseq3],\n",
    "                ['CEL-seq','STORM-seq','Smart-seq3'],'K562')"
   ]
  },
  {
   "cell_type": "markdown",
   "id": "d0d70a05",
   "metadata": {},
   "source": [
    "### Highly variable mRNAs"
   ]
  },
  {
   "cell_type": "code",
   "execution_count": null,
   "id": "9e83eee9",
   "metadata": {},
   "outputs": [],
   "source": [
    "from gtfparse import read_gtf\n",
    "\n",
    "gtf_df = read_gtf(\"/Users/jonathan/Desktop/IIT/INTERACTomics/ENCODE_eCLIP_DATA/transcriptomes_gencode_V41/gencode.v41.primary_assembly.annotation.gtf\")\n",
    "# Select only protein coding\n",
    "gtf_df_pc=gtf_df[gtf_df.gene_type=='protein_coding']\n",
    "gnames_pc=set(gtf_df_pc.gene_name)\n",
    "\n",
    "def HVmRNA(adata,eclip,ct,n):\n",
    "    \n",
    "        \n",
    "    print('Total nr mRNA',len(set(gnames_pc).intersection(set(adata.var_names))))\n",
    "    inters_mRNA=list(set(gnames_pc).intersection(set(adata.var_names)))\n",
    "    \n",
    "    adata_mRNA=adata[:,inters_mRNA].copy()\n",
    "    sc.pp.highly_variable_genes(adata_mRNA,max_mean=10,n_top_genes=n)\n",
    "    adata_HVmRNA=adata_mRNA[:,adata_mRNA.var['highly_variable']==True].copy()\n",
    "    \n",
    "    ordered_HVmRNA=adata_HVmRNA.var.sort_values('dispersions_norm',ascending=False).index\n",
    "    \n",
    "    return ordered_HVmRNA;"
   ]
  },
  {
   "cell_type": "code",
   "execution_count": null,
   "id": "f4ec455a",
   "metadata": {},
   "outputs": [],
   "source": [
    "HVmRNA_HepG2_Smartseq2=HVmRNA(HepG2_SMART,eclip_HepG2,'HepG2_Smartseq2',400)\n",
    "HVmRNA_HepG2_10x=HVmRNA(HepG2_10x,eclip_HepG2,'HepG2_10x',400)"
   ]
  },
  {
   "cell_type": "code",
   "execution_count": null,
   "id": "5260b59f",
   "metadata": {},
   "outputs": [],
   "source": [
    "jaccard_heatmap([HVmRNA_HepG2_Smartseq2,HVmRNA_HepG2_10x],['Smart-seq2','10x'],'HepG2')"
   ]
  },
  {
   "cell_type": "code",
   "execution_count": null,
   "id": "93894a6b",
   "metadata": {},
   "outputs": [],
   "source": [
    "HVmRNA_K562_CELseq=HVmRNA(K562_CEL,eclip_K562,'K562_CELseq',400)\n",
    "HVmRNA_K562_STORMseq=HVmRNA(K562_STORM,eclip_K562,'K562_STORMseq',400)\n",
    "HVmRNA_K562_Smartseq3=HVmRNA(K562_SMART3,eclip_K562,'K562_Smartseq3',400)"
   ]
  },
  {
   "cell_type": "code",
   "execution_count": null,
   "id": "2c3f7bd2",
   "metadata": {},
   "outputs": [],
   "source": [
    "jaccard_heatmap([HVmRNA_K562_CELseq,HVmRNA_K562_STORMseq,HVmRNA_K562_Smartseq3],\n",
    "                ['CEL-seq','STORM-seq','Smart-seq3'],'K562')"
   ]
  },
  {
   "cell_type": "markdown",
   "id": "89415076",
   "metadata": {},
   "source": [
    "## TFs and RBP selection"
   ]
  },
  {
   "cell_type": "code",
   "execution_count": null,
   "id": "9ea3f1d8",
   "metadata": {},
   "outputs": [],
   "source": [
    "def RBP_TF_selection(adata,all_TFs,all_RBPs):\n",
    "    sc.pp.highly_variable_genes(adata,max_mean=10)\n",
    "    high_var=adata[:,adata.var['highly_variable']==True].copy()\n",
    "    \n",
    "    myRBPs=list(set(all_RBPs).intersection(set(adata.var_names)))\n",
    "    \n",
    "    myHVTFs=list(set(all_TFs).intersection(set(high_var.var_names)))\n",
    "    \n",
    "    print(len(myRBPs),len(myHVTFs));\n",
    "    \n",
    "    return myRBPs, myHVTFs;"
   ]
  },
  {
   "cell_type": "code",
   "execution_count": null,
   "id": "577eec8d",
   "metadata": {},
   "outputs": [],
   "source": [
    "RBP_HepG2_Smartseq2, HVTFs_HepG2_Smartseq2 = RBP_TF_selection(HepG2_SMART,TFs,RBPs)\n",
    "RBP_HepG2_10x, HVTFs_HepG2_10x = RBP_TF_selection(HepG2_10x,TFs,RBPs)\n",
    "\n",
    "RBP_K562_CELseq, HVTFs_K562_CELseq = RBP_TF_selection(K562_CEL,TFs,RBPs)\n",
    "RBP_K562_STORMseq, HVTFs_K562_STORMseq = RBP_TF_selection(K562_STORM,TFs,RBPs)\n",
    "RBP_K562_Smartseq3, HVTFs_K562_Smartseq3 = RBP_TF_selection(K562_SMART3,TFs,RBPs)"
   ]
  },
  {
   "cell_type": "code",
   "execution_count": null,
   "id": "ee0ba741",
   "metadata": {},
   "outputs": [],
   "source": [
    "## Define the three sets of genes for all the datasets\n",
    "HepG2_Smartseq2_RBP_lnc_all_genes = list(set(list(HVlnc_HepG2_Smartseq2)+list(RBP_HepG2_Smartseq2)))\n",
    "HepG2_Smartseq2_RBP_mRNA_all_genes = list(set(list(HVmRNA_HepG2_Smartseq2)+list(RBP_HepG2_Smartseq2)))\n",
    "HepG2_Smartseq2_TF_mRNA_all_genes = list(set(list(HVmRNA_HepG2_Smartseq2)+list(HVTFs_HepG2_Smartseq2)))\n",
    "\n",
    "print(len(HepG2_Smartseq2_RBP_lnc_all_genes),len(HepG2_Smartseq2_RBP_mRNA_all_genes),\n",
    "     len(HepG2_Smartseq2_TF_mRNA_all_genes))"
   ]
  },
  {
   "cell_type": "code",
   "execution_count": null,
   "id": "ca2a4d32",
   "metadata": {},
   "outputs": [],
   "source": [
    "## Define the three sets of genes for all the datasets\n",
    "HepG2_10x_RBP_lnc_all_genes = list(set(list(HVlnc_HepG2_10x)+list(RBP_HepG2_10x)))\n",
    "HepG2_10x_RBP_mRNA_all_genes = list(set(list(HVmRNA_HepG2_10x)+list(RBP_HepG2_10x)))\n",
    "HepG2_10x_TF_mRNA_all_genes = list(set(list(HVmRNA_HepG2_10x)+list(HVTFs_HepG2_10x)))\n",
    "\n",
    "print(len(HepG2_10x_RBP_lnc_all_genes),len(HepG2_10x_RBP_mRNA_all_genes),\n",
    "     len(HepG2_10x_TF_mRNA_all_genes))"
   ]
  },
  {
   "cell_type": "code",
   "execution_count": null,
   "id": "5692ebfb",
   "metadata": {},
   "outputs": [],
   "source": [
    "## Define the three sets of genes for all the datasets\n",
    "K562_CELseq_RBP_lnc_all_genes = list(set(list(HVlnc_K562_CELseq)+list(RBP_K562_CELseq)))\n",
    "K562_CELseq_RBP_mRNA_all_genes = list(set(list(HVmRNA_K562_CELseq)+list(RBP_K562_CELseq)))\n",
    "K562_CELseq_TF_mRNA_all_genes = list(set(list(HVmRNA_K562_CELseq)+list(HVTFs_K562_CELseq)))\n",
    "\n",
    "print(len(K562_CELseq_RBP_lnc_all_genes),len(K562_CELseq_RBP_mRNA_all_genes),\n",
    "     len(K562_CELseq_TF_mRNA_all_genes))"
   ]
  },
  {
   "cell_type": "code",
   "execution_count": null,
   "id": "ceac84fe",
   "metadata": {},
   "outputs": [],
   "source": [
    "## Define the three sets of genes for all the datasets\n",
    "K562_STORMseq_RBP_lnc_all_genes = list(set(list(HVlnc_K562_STORMseq)+list(RBP_K562_STORMseq)))\n",
    "K562_STORMseq_RBP_mRNA_all_genes = list(set(list(HVmRNA_K562_STORMseq)+list(RBP_K562_STORMseq)))\n",
    "K562_STORMseq_TF_mRNA_all_genes = list(set(list(HVmRNA_K562_STORMseq)+list(HVTFs_K562_STORMseq)))\n",
    "\n",
    "print(len(K562_STORMseq_RBP_lnc_all_genes),len(K562_STORMseq_RBP_mRNA_all_genes),\n",
    "     len(K562_STORMseq_TF_mRNA_all_genes))"
   ]
  },
  {
   "cell_type": "code",
   "execution_count": null,
   "id": "10399cec",
   "metadata": {},
   "outputs": [],
   "source": [
    "## Define the three sets of genes for all the datasets\n",
    "K562_Smartseq3_RBP_lnc_all_genes = list(set(list(HVlnc_K562_Smartseq3)+list(RBP_K562_Smartseq3)))\n",
    "K562_Smartseq3_RBP_mRNA_all_genes = list(set(list(HVmRNA_K562_Smartseq3)+list(RBP_K562_Smartseq3)))\n",
    "K562_Smartseq3_TF_mRNA_all_genes = list(set(list(HVmRNA_K562_Smartseq3)+list(HVTFs_K562_Smartseq3)))\n",
    "\n",
    "print(len(K562_Smartseq3_RBP_lnc_all_genes),len(K562_Smartseq3_RBP_mRNA_all_genes),\n",
    "     len(K562_Smartseq3_TF_mRNA_all_genes))"
   ]
  },
  {
   "cell_type": "markdown",
   "id": "e9cf256a",
   "metadata": {},
   "source": [
    "# Save the data"
   ]
  },
  {
   "cell_type": "code",
   "execution_count": null,
   "id": "7d9aa5aa",
   "metadata": {},
   "outputs": [],
   "source": [
    "def SaveData(folder, adata, geneset, label1, label2):\n",
    "    \n",
    "    # Save the normalized data in a csv file\n",
    "    tmp_df=pd.DataFrame(data=adata[:,geneset].X.T, index=adata[:,geneset].var_names,\n",
    "                        columns=adata[:,geneset].obs_names)\n",
    "    tmp_df.to_csv(folder+label1+'NormalizedData_'+label2+'.csv')\n",
    "\n",
    "    # Save the raw data in a csv file\n",
    "    tmp_df=pd.DataFrame(data=adata.raw[:, geneset].X.T, index=adata.raw[:, geneset].var_names, \n",
    "                        columns=adata[:, geneset].obs_names)\n",
    "    tmp_df.to_csv(folder+label1+'RawData_'+label2+'.csv')"
   ]
  },
  {
   "cell_type": "code",
   "execution_count": null,
   "id": "342d75a5",
   "metadata": {},
   "outputs": [],
   "source": [
    "input_folder2=input_folder+'GENE_SELECTION_mRNA_lncRNA/'\n",
    "\n",
    "if os.path.isdir(input_folder2)==False:\n",
    "    os.mkdir(input_folder2)"
   ]
  },
  {
   "cell_type": "code",
   "execution_count": null,
   "id": "120c016f",
   "metadata": {},
   "outputs": [],
   "source": [
    "os.mkdir(input_folder2+'HepG2_Smartseq2_RBP_lnc400')\n",
    "os.mkdir(input_folder2+'HepG2_Smartseq2_TF_mRNA400')\n",
    "os.mkdir(input_folder2+'HepG2_Smartseq2_RBP_mRNA400')\n",
    "\n",
    "os.mkdir(input_folder2+'HepG2_10x_RBP_lnc400')\n",
    "os.mkdir(input_folder2+'HepG2_10x_TF_mRNA400')\n",
    "os.mkdir(input_folder2+'HepG2_10x_RBP_mRNA400')\n",
    "\n",
    "SaveData(input_folder2+'HepG2_Smartseq2_RBP_lnc400/', HepG2_SMART, HepG2_Smartseq2_RBP_lnc_all_genes,\n",
    "         'HepG2_Smartseq2', 'RBP_lnc400')\n",
    "SaveData(input_folder2+'HepG2_Smartseq2_TF_mRNA400/', HepG2_SMART, HepG2_Smartseq2_TF_mRNA_all_genes,\n",
    "         'HepG2_Smartseq2', 'TF_mRNA400')\n",
    "SaveData(input_folder2+'HepG2_Smartseq2_RBP_mRNA400/', HepG2_SMART, HepG2_Smartseq2_RBP_mRNA_all_genes,\n",
    "         'HepG2_Smartseq2', 'RBP_mRNA400')\n",
    "\n",
    "SaveData(input_folder2+'HepG2_10x_RBP_lnc400/', HepG2_10x, HepG2_10x_RBP_lnc_all_genes,\n",
    "         'HepG2_10x', 'RBP_lnc400')\n",
    "SaveData(input_folder2+'HepG2_10x_TF_mRNA400/', HepG2_10x, HepG2_10x_TF_mRNA_all_genes,\n",
    "         'HepG2_10x', 'TF_mRNA400')\n",
    "SaveData(input_folder2+'HepG2_10x_RBP_mRNA400/', HepG2_10x, HepG2_10x_RBP_mRNA_all_genes,\n",
    "         'HepG2_10x', 'RBP_mRNA400')"
   ]
  },
  {
   "cell_type": "code",
   "execution_count": null,
   "id": "681231a3",
   "metadata": {},
   "outputs": [],
   "source": [
    "os.mkdir(input_folder2+'K562_CELseq_RBP_lnc400')\n",
    "os.mkdir(input_folder2+'K562_CELseq_TF_mRNA400')\n",
    "os.mkdir(input_folder2+'K562_CELseq_RBP_mRNA400')\n",
    "\n",
    "os.mkdir(input_folder2+'K562_STORMseq_RBP_lnc400')\n",
    "os.mkdir(input_folder2+'K562_STORMseq_TF_mRNA400')\n",
    "os.mkdir(input_folder2+'K562_STORMseq_RBP_mRNA400')\n",
    "\n",
    "os.mkdir(input_folder2+'K562_Smartseq3_RBP_lnc400')\n",
    "os.mkdir(input_folder2+'K562_Smartseq3_TF_mRNA400')\n",
    "os.mkdir(input_folder2+'K562_Smartseq3_RBP_mRNA400')\n",
    "\n",
    "SaveData(input_folder2+'K562_CELseq_RBP_lnc400/', K562_CEL, K562_CELseq_RBP_lnc_all_genes,\n",
    "         'K562_CELseq', 'RBP_lnc400')\n",
    "SaveData(input_folder2+'K562_CELseq_TF_mRNA400/', K562_CEL, K562_CELseq_TF_mRNA_all_genes,\n",
    "         'K562_CELseq', 'TF_mRNA400')\n",
    "SaveData(input_folder2+'K562_CELseq_RBP_mRNA400/', K562_CEL, K562_CELseq_RBP_mRNA_all_genes,\n",
    "         'K562_CELseq', 'RBP_mRNA400')\n",
    "\n",
    "SaveData(input_folder2+'K562_STORMseq_RBP_lnc400/', K562_STORM, K562_STORMseq_RBP_lnc_all_genes,\n",
    "         'K562_STORMseq', 'RBP_lnc400')\n",
    "SaveData(input_folder2+'K562_STORMseq_TF_mRNA400/', K562_STORM, K562_STORMseq_TF_mRNA_all_genes,\n",
    "         'K562_STORMseq', 'TF_mRNA400')\n",
    "SaveData(input_folder2+'K562_STORMseq_RBP_mRNA400/', K562_STORM, K562_STORMseq_RBP_mRNA_all_genes,\n",
    "         'K562_STORMseq', 'RBP_mRNA400')\n",
    "\n",
    "SaveData(input_folder2+'K562_Smartseq3_RBP_lnc400/', K562_SMART3, K562_Smartseq3_RBP_lnc_all_genes,\n",
    "         'K562_Smartseq3', 'RBP_lnc400')\n",
    "SaveData(input_folder2+'K562_Smartseq3_TF_mRNA400/', K562_SMART3, K562_Smartseq3_TF_mRNA_all_genes,\n",
    "         'K562_Smartseq3', 'TF_mRNA400')\n",
    "SaveData(input_folder2+'K562_Smartseq3_RBP_mRNA400/', K562_SMART3, K562_Smartseq3_RBP_mRNA_all_genes,\n",
    "         'K562_Smartseq3', 'RBP_mRNA400')"
   ]
  },
  {
   "cell_type": "code",
   "execution_count": null,
   "id": "00ff2c40",
   "metadata": {},
   "outputs": [],
   "source": [
    "input_folder3=input_folder+'GENE_SELECTION_mRNA_lncRNA/ARACNe_INPUT/'\n",
    "\n",
    "if os.path.isdir(input_folder3)==False:\n",
    "    os.mkdir(input_folder3)"
   ]
  },
  {
   "cell_type": "code",
   "execution_count": null,
   "id": "80cea28d",
   "metadata": {},
   "outputs": [],
   "source": [
    "def SaveDataforARACNe(folder, adata, geneset, label1, label2):\n",
    "    adata_temp=ad.AnnData(X=adata[:,geneset].X)\n",
    "    adata_temp.obs_names=adata[:,geneset].obs_names\n",
    "    adata_temp.var_names=adata[:,geneset].var_names\n",
    "    adata_temp.obs['batch']=label1\n",
    "    adata_temp.write(folder+'processed_'+label1+'_'+label2+'.h5ad')"
   ]
  },
  {
   "cell_type": "code",
   "execution_count": null,
   "id": "66a8f22e",
   "metadata": {},
   "outputs": [],
   "source": [
    "SaveDataforARACNe(input_folder3+'HepG2_Smartseq2_RBP_lnc400', HepG2_SMART.raw, HepG2_Smartseq2_RBP_lnc_all_genes,\n",
    "         'HepG2_Smartseq2', 'RBP_lnc400')\n",
    "SaveDataforARACNe(input_folder3+'HepG2_Smartseq2_TF_mRNA400', HepG2_SMART.raw, HepG2_Smartseq2_TF_mRNA_all_genes,\n",
    "         'HepG2_Smartseq2', 'TF_mRNA400')\n",
    "SaveDataforARACNe(input_folder3+'HepG2_Smartseq2_RBP_mRNA400', HepG2_SMART.raw, HepG2_Smartseq2_RBP_mRNA_all_genes,\n",
    "         'HepG2_Smartseq2', 'RBP_mRNA400')"
   ]
  },
  {
   "cell_type": "code",
   "execution_count": null,
   "id": "afdb6f1a",
   "metadata": {},
   "outputs": [],
   "source": [
    "SaveDataforARACNe(input_folder3+'K562_CELseq_RBP_lnc400', K562_CEL_ARACNe, K562_CELseq_RBP_lnc_all_genes,\n",
    "         'K562_CELseq', 'RBP_lnc400')\n",
    "SaveDataforARACNe(input_folder3+'K562_CELseq_TF_mRNA400', K562_CEL_ARACNe, K562_CELseq_TF_mRNA_all_genes,\n",
    "         'K562_CELseq', 'TF_mRNA400')\n",
    "SaveDataforARACNe(input_folder3+'K562_CELseq_RBP_mRNA400', K562_CEL_ARACNe, K562_CELseq_RBP_mRNA_all_genes,\n",
    "         'K562_CELseq', 'RBP_mRNA400')\n",
    "\n",
    "SaveDataforARACNe(input_folder3+'K562_STORMseq_RBP_lnc400', K562_STORM.raw, K562_STORMseq_RBP_lnc_all_genes,\n",
    "         'K562_STORMseq', 'RBP_lnc400')\n",
    "SaveDataforARACNe(input_folder3+'K562_STORMseq_TF_mRNA400', K562_STORM.raw, K562_STORMseq_TF_mRNA_all_genes,\n",
    "         'K562_STORMseq', 'TF_mRNA400')\n",
    "SaveDataforARACNe(input_folder3+'K562_STORMseq_RBP_mRNA400', K562_STORM.raw, K562_STORMseq_RBP_mRNA_all_genes,\n",
    "         'K562_STORMseq', 'RBP_mRNA400')\n",
    "\n",
    "SaveDataforARACNe(input_folder3+'K562_Smartseq3_RBP_lnc400', K562_SMART3_ARACNe, K562_Smartseq3_RBP_lnc_all_genes,\n",
    "         'K562_Smartseq3', 'RBP_lnc400')\n",
    "SaveDataforARACNe(input_folder3+'K562_Smartseq3_TF_mRNA400', K562_SMART3_ARACNe, K562_Smartseq3_TF_mRNA_all_genes,\n",
    "         'K562_Smartseq3', 'TF_mRNA400')\n",
    "SaveDataforARACNe(input_folder3+'K562_Smartseq3_RBP_mRNA400', K562_SMART3_ARACNe, K562_Smartseq3_RBP_mRNA_all_genes,\n",
    "         'K562_Smartseq3', 'RBP_mRNA400')"
   ]
  },
  {
   "cell_type": "code",
   "execution_count": null,
   "id": "1d255aa5",
   "metadata": {},
   "outputs": [],
   "source": [
    "gname_folder='/Users/jonathan/Desktop/IIT/INTERACTomics/scRNA-seq_data/ANALYSIS_FEB_2023_RIBO/GENE_SELECTION_mRNA_lncRNA/gene_names/'\n",
    "\n",
    "if os.path.isdir(gname_folder)==False:\n",
    "    os.mkdir(gname_folder)"
   ]
  },
  {
   "cell_type": "code",
   "execution_count": null,
   "id": "81c40f55",
   "metadata": {},
   "outputs": [],
   "source": [
    "# Save the gene names for each dataset and their union for running catRAPID\n",
    "np.savetxt(gname_folder+'gnamesHepG2_Smartseq2_RBP_lnc400.txt',np.c_[HepG2_Smartseq2_RBP_lnc_all_genes],fmt='%s')\n",
    "np.savetxt(gname_folder+'gnamesHepG2_Smartseq2_TF_mRNA400.txt',np.c_[HepG2_Smartseq2_TF_mRNA_all_genes],fmt='%s')\n",
    "np.savetxt(gname_folder+'gnamesHepG2_Smartseq2_RBP_mRNA400.txt',np.c_[HepG2_Smartseq2_RBP_mRNA_all_genes],fmt='%s')\n",
    "\n",
    "np.savetxt(gname_folder+'gnamesHepG2_10x_RBP_lnc400.txt',np.c_[HepG2_10x_RBP_lnc_all_genes],fmt='%s')\n",
    "np.savetxt(gname_folder+'gnamesHepG2_10x_TF_mRNA400.txt',np.c_[HepG2_10x_TF_mRNA_all_genes],fmt='%s')\n",
    "np.savetxt(gname_folder+'gnamesHepG2_10x_RBP_mRNA400.txt',np.c_[HepG2_10x_RBP_mRNA_all_genes],fmt='%s')\n",
    "\n",
    "np.savetxt(gname_folder+'gnamesK562_CELseq_RBP_lnc400.txt',np.c_[K562_CELseq_RBP_lnc_all_genes],fmt='%s')\n",
    "np.savetxt(gname_folder+'gnamesK562_CELseq_TF_mRNA400.txt',np.c_[K562_CELseq_TF_mRNA_all_genes],fmt='%s')\n",
    "np.savetxt(gname_folder+'gnamesK562_CELseq_RBP_mRNA400.txt',np.c_[K562_CELseq_RBP_mRNA_all_genes],fmt='%s')\n",
    "\n",
    "np.savetxt(gname_folder+'gnamesK562_STORMseq_RBP_lnc400.txt',np.c_[K562_STORMseq_RBP_lnc_all_genes],fmt='%s')\n",
    "np.savetxt(gname_folder+'gnamesK562_STORMseq_TF_mRNA400.txt',np.c_[K562_STORMseq_TF_mRNA_all_genes],fmt='%s')\n",
    "np.savetxt(gname_folder+'gnamesK562_STORMseq_RBP_mRNA400.txt',np.c_[K562_STORMseq_RBP_mRNA_all_genes],fmt='%s')\n",
    "\n",
    "np.savetxt(gname_folder+'gnamesK562_Smartseq3_RBP_lnc400.txt',np.c_[K562_Smartseq3_RBP_lnc_all_genes],fmt='%s')\n",
    "np.savetxt(gname_folder+'gnamesK562_Smartseq3_TF_mRNA400.txt',np.c_[K562_Smartseq3_TF_mRNA_all_genes],fmt='%s')\n",
    "np.savetxt(gname_folder+'gnamesK562_Smartseq3_RBP_mRNA400.txt',np.c_[K562_Smartseq3_RBP_mRNA_all_genes],fmt='%s')"
   ]
  }
 ],
 "metadata": {
  "kernelspec": {
   "display_name": "INTERACTomics-venv",
   "language": "python",
   "name": "interactomics-venv"
  },
  "language_info": {
   "codemirror_mode": {
    "name": "ipython",
    "version": 3
   },
   "file_extension": ".py",
   "mimetype": "text/x-python",
   "name": "python",
   "nbconvert_exporter": "python",
   "pygments_lexer": "ipython3",
   "version": "3.7.7"
  },
  "toc": {
   "base_numbering": 1,
   "nav_menu": {},
   "number_sections": true,
   "sideBar": true,
   "skip_h1_title": false,
   "title_cell": "Table of Contents",
   "title_sidebar": "Contents",
   "toc_cell": false,
   "toc_position": {
    "height": "calc(100% - 180px)",
    "left": "10px",
    "top": "150px",
    "width": "239.2916717529297px"
   },
   "toc_section_display": true,
   "toc_window_display": true
  }
 },
 "nbformat": 4,
 "nbformat_minor": 5
}
