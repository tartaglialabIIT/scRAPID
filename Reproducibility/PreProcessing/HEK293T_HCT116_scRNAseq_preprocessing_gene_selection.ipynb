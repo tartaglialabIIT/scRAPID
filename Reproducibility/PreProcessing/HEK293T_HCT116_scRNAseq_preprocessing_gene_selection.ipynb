{
 "cells": [
  {
   "cell_type": "markdown",
   "id": "bb62e4fe",
   "metadata": {},
   "source": [
    "# Pre-processing and gene selection for HEK293T and HCT116 single-cell RNA-seq data"
   ]
  },
  {
   "cell_type": "markdown",
   "id": "53ee3a43",
   "metadata": {},
   "source": [
    "Rome, 04/03/2022 Jonathan Fiorentino\n",
    "\n",
    "Here we analyze two HEK293T and one HCT116 scRNA-seq datasets, which we use for the prediction of RBP co-interactions. \n",
    "\n",
    "Description of the datasets and of the analysis:\n",
    "\n",
    "HEK293T\n",
    "\n",
    "We selected two scRNA-seq datasets for the HEK293T cell line. The 10x dataset is available from the website of 10x Genomics [https://support.10xgenomics.com/single-cell-gene-expression/datasets/1.1.0/293t](https://support.10xgenomics.com/single-cell-gene-expression/datasets/1.1.0/293t) and it contains 2885 cells. \n",
    "\n",
    "The [Smart-seq3 dataset][https://pubmed.ncbi.nlm.nih.gov/32518404/] is available in ArrayExpress with accession [E-MTAB-8735](https://www.ebi.ac.uk/arrayexpress/experiments/E-MTAB-8735/) and the single cell identifier column in the sample information table is “HEK293T Smart-seq3”; it contains 117 cells. We followed the same pre-processing steps explained above for the HepG2 and K562 datasets.\n",
    "\n",
    "HCT116\n",
    "The Drop-seq scRNA-seq dataset for the HCT116 cell line [https://pubmed.ncbi.nlm.nih.gov/32846134/](https://pubmed.ncbi.nlm.nih.gov/32846134/) is available on GEO with accession number [GSE149224](https://www.ncbi.nlm.nih.gov/geo/query/acc.cgi?acc=GSE149224) . The dataset includes three different cell lines (RKO, HCT116 and SW480) treated with different doses of 5-fluorouracil treatment to study the DNA-damage response of the transcriptome.\n",
    "\n",
    "We selected only the 3011 HCT116 cells and we exploited the presence of treated cells to compute the diffusion pseudotime. We followed the pre-processing steps explained above for the HepG2 and K562 datasets, then we computed a diffusion map of HCT116 cells. We computed the diffusion pseudotime choosing as the root cell the control cell farthest from the treated ones. Next, we kept only the 2161 control cells for downstream analysis, following the analyses done for the HepG2 and K562 cell lines for gene selection and GRN inference.\n"
   ]
  },
  {
   "cell_type": "code",
   "execution_count": null,
   "id": "dca1baed",
   "metadata": {},
   "outputs": [],
   "source": [
    "%matplotlib inline"
   ]
  },
  {
   "cell_type": "code",
   "execution_count": null,
   "id": "60bd9dc7",
   "metadata": {},
   "outputs": [],
   "source": [
    "import scanpy as sc\n",
    "import anndata as ad\n",
    "import scprep as scp\n",
    "import matplotlib.pyplot as plt\n",
    "import numpy as np\n",
    "import pandas as pd\n",
    "import os"
   ]
  },
  {
   "cell_type": "markdown",
   "id": "6d7e300d",
   "metadata": {},
   "source": [
    "# HEK293T"
   ]
  },
  {
   "cell_type": "markdown",
   "id": "95815d61",
   "metadata": {},
   "source": [
    "## 10x"
   ]
  },
  {
   "cell_type": "code",
   "execution_count": null,
   "id": "6f743f36",
   "metadata": {},
   "outputs": [],
   "source": [
    "data_folder='./HEK293T/10x/'\n",
    "input_folder=\"./ANALYSIS_FEB_2023_RIBO/COINTER_RBPs/HEK293T/\""
   ]
  },
  {
   "cell_type": "code",
   "execution_count": null,
   "id": "7886a2b2",
   "metadata": {},
   "outputs": [],
   "source": [
    "if os.path.isdir(input_folder)==False:\n",
    "    os.mkdir(input_folder)"
   ]
  },
  {
   "cell_type": "code",
   "execution_count": null,
   "id": "ade625af",
   "metadata": {},
   "outputs": [],
   "source": [
    "out_folder=\"./ANALYSIS_FEB_2023_RIBO/COINTER_RBPs/HEK293T/GENE_SELECTION/\"\n",
    "aracne_folder=\"./ANALYSIS_FEB_2023_RIBO/COINTER_RBPs/HEK293T/GENE_SELECTION/ARACNe_INPUT\"\n",
    "\n",
    "if os.path.isdir(out_folder)==False:\n",
    "    os.mkdir(out_folder)\n",
    "if os.path.isdir(aracne_folder)==False:\n",
    "    os.mkdir(aracne_folder)"
   ]
  },
  {
   "cell_type": "markdown",
   "id": "a8684a33",
   "metadata": {},
   "source": [
    "### Load the data"
   ]
  },
  {
   "cell_type": "code",
   "execution_count": null,
   "id": "6372268a",
   "metadata": {},
   "outputs": [],
   "source": [
    "adata_hek293t=sc.read_10x_mtx(data_folder)\n",
    "adata_hek293t\n",
    "# Filter genes expressed in less than 1% of the cells\n",
    "sc.pp.filter_genes(adata_hek293t, min_cells=int(0.01*adata_hek293t.n_obs))\n",
    "print(adata_hek293t)\n",
    "adata_hek293t.obs['batch']='HEK293'\n",
    "adata_hek293t_UMI=adata_hek293t.copy()\n",
    "# adata_hek293t.write_h5ad(ARACNe_folder+\"processed_HEK293.h5ad\")\n",
    "# Store the UMIs\n",
    "adata_hek293t.raw=adata_hek293t\n",
    "\n",
    "# Normalize the data\n",
    "sc.pp.normalize_total(adata_hek293t,inplace=True)\n",
    "adata_hek293t_for_ARACNe=adata_hek293t.copy()\n",
    "sc.pp.log1p(adata_hek293t)"
   ]
  },
  {
   "cell_type": "code",
   "execution_count": null,
   "id": "6c74f721",
   "metadata": {},
   "outputs": [],
   "source": [
    "def FilterMito(adata):\n",
    "    mito_genes = adata.var_names.str.startswith('MT-')\n",
    "    genes_to_keep = np.invert(mito_genes)\n",
    "    print('before',adata)\n",
    "    adata = adata[:,genes_to_keep].copy()\n",
    "    print('after',adata)\n",
    "    return adata;"
   ]
  },
  {
   "cell_type": "code",
   "execution_count": null,
   "id": "67328049",
   "metadata": {},
   "outputs": [],
   "source": [
    "# Remove mitochondrial and ribosomal genes\n",
    "adata_hek293t=FilterMito(adata_hek293t)"
   ]
  },
  {
   "cell_type": "markdown",
   "id": "235f3cdd",
   "metadata": {},
   "source": [
    "### Compute diffusion pseudotime"
   ]
  },
  {
   "cell_type": "code",
   "execution_count": null,
   "id": "07614900",
   "metadata": {},
   "outputs": [],
   "source": [
    "sc.pp.highly_variable_genes(adata_hek293t,max_mean=10,n_top_genes=2000)  #calculate highly variable genes\n",
    "adata_hek293t_high_var = adata_hek293t[:,adata_hek293t.var['highly_variable']==True]  #select only highly variable genes\n",
    "sc.pp.scale(adata_hek293t_high_var,max_value=10)\n",
    "sc.tl.pca(adata_hek293t_high_var,svd_solver='arpack')\n",
    "sc.pl.pca_overview(adata_hek293t_high_var)"
   ]
  },
  {
   "cell_type": "code",
   "execution_count": null,
   "id": "9ddc5acf",
   "metadata": {},
   "outputs": [],
   "source": [
    "sc.pp.neighbors(adata_hek293t_high_var)#), n_neighbors=10, n_pcs=10)\n",
    "sc.tl.umap(adata_hek293t_high_var)\n",
    "sc.pl.umap(adata_hek293t_high_var)"
   ]
  },
  {
   "cell_type": "code",
   "execution_count": null,
   "id": "68f4fa55",
   "metadata": {},
   "outputs": [],
   "source": [
    "sc.tl.leiden(adata_hek293t_high_var)\n",
    "sc.pl.umap(adata_hek293t_high_var,color='leiden')"
   ]
  },
  {
   "cell_type": "code",
   "execution_count": null,
   "id": "09f39d95",
   "metadata": {},
   "outputs": [],
   "source": [
    "# Create the diffusion map\n",
    "sc.tl.diffmap(adata_hek293t_high_var)\n",
    "sc.pl.diffmap(adata_hek293t_high_var,color=['leiden'])"
   ]
  },
  {
   "cell_type": "code",
   "execution_count": null,
   "id": "52628c39",
   "metadata": {},
   "outputs": [],
   "source": [
    "adata_hek293t_high_var.uns['iroot'] = np.argmin(adata_hek293t_high_var.obsm['X_diffmap'][:,1])\n",
    "\n",
    "# Run Diffusion Pseudotime with 1 branching event\n",
    "sc.tl.dpt(adata_hek293t_high_var)\n",
    "\n",
    "# Grab the output and store in our metadata DataFrame\n",
    "adata_hek293t_high_var.obs['dpt'] = adata_hek293t_high_var.obs['dpt_pseudotime']\n",
    "# adata_hek293t_high_var.obs['dpt_branch'] = adata_hek293t_high_var.obs['dpt_groups'].astype(int)\n",
    "adata_hek293t_high_var.obs.head()"
   ]
  },
  {
   "cell_type": "code",
   "execution_count": null,
   "id": "f4e8f050",
   "metadata": {},
   "outputs": [],
   "source": [
    "pseudo_df=pd.DataFrame(data=adata_hek293t_high_var.obs['dpt'], index=adata_hek293t_high_var.obs_names)\n",
    "pseudo_df.to_csv(out_folder+'HEK293TPseudoTime.csv')"
   ]
  },
  {
   "cell_type": "markdown",
   "id": "a297c77e",
   "metadata": {},
   "source": [
    "### Gene Selection"
   ]
  },
  {
   "cell_type": "code",
   "execution_count": null,
   "id": "dba0134f",
   "metadata": {},
   "outputs": [],
   "source": [
    "from Bio import SeqIO\n",
    "gname=[]\n",
    "gid=[]\n",
    "f_open = open(\"/Users/jonathan/Desktop/IIT/INTERACTomics/ENCODE_eCLIP_DATA/transcriptomes/hsapiens_gene_ensembl_107_canonical_new.fa\", \"rU\")\n",
    "for rec in SeqIO.parse(f_open, \"fasta\"):\n",
    "    myid = rec.id\n",
    "    gname.append(myid.split('|')[4])\n",
    "    gid.append(myid.split('|')[0])"
   ]
  },
  {
   "cell_type": "code",
   "execution_count": null,
   "id": "4e35da58",
   "metadata": {},
   "outputs": [],
   "source": [
    "# Consider only genes present in the fasta file\n",
    "def Genes_in_fasta(adata,gnames):\n",
    "    print(adata)\n",
    "    inters=list(set(adata.var_names).intersection(set(gnames)))\n",
    "    adata=adata[:,inters].copy()\n",
    "    print(adata)\n",
    "    return adata;"
   ]
  },
  {
   "cell_type": "code",
   "execution_count": null,
   "id": "a31cb251",
   "metadata": {},
   "outputs": [],
   "source": [
    "adata_hek293t=Genes_in_fasta(adata_hek293t,gname)"
   ]
  },
  {
   "cell_type": "code",
   "execution_count": null,
   "id": "b944a979",
   "metadata": {},
   "outputs": [],
   "source": [
    "tmp_adata=adata_hek293t.copy()\n",
    "sc.pp.highly_variable_genes(tmp_adata,max_mean=10,n_top_genes=500)\n",
    "adata_HVGs=tmp_adata[:,tmp_adata.var['highly_variable']==True].copy()\n",
    "\n",
    "HEK293T_RBP_RNA500=list(adata_HVGs.var_names)\n",
    "print(len(HEK293T_RBP_RNA500))\n",
    "\n",
    "tmp_adata=adata_hek293t.copy()\n",
    "sc.pp.highly_variable_genes(tmp_adata,max_mean=10,n_top_genes=1000)\n",
    "adata_HVGs=tmp_adata[:,tmp_adata.var['highly_variable']==True].copy()\n",
    "\n",
    "HEK293T_RBP_RNA1000=list(adata_HVGs.var_names)\n",
    "print(len(HEK293T_RBP_RNA1000))\n",
    "\n",
    "tmp_adata=adata_hek293t.copy()\n",
    "sc.pp.highly_variable_genes(tmp_adata,max_mean=10,n_top_genes=2000)\n",
    "adata_HVGs=tmp_adata[:,tmp_adata.var['highly_variable']==True].copy()\n",
    "\n",
    "HEK293T_RBP_RNA2000=list(adata_HVGs.var_names)\n",
    "print(len(HEK293T_RBP_RNA2000))\n",
    "\n",
    "tmp_adata=adata_hek293t.copy()\n",
    "sc.pp.highly_variable_genes(tmp_adata,max_mean=10,n_top_genes=3000)\n",
    "adata_HVGs=tmp_adata[:,tmp_adata.var['highly_variable']==True].copy()\n",
    "\n",
    "HEK293T_RBP_RNA3000=list(adata_HVGs.var_names)\n",
    "print(len(HEK293T_RBP_RNA3000))\n",
    "\n",
    "tmp_adata=adata_hek293t.copy()\n",
    "sc.pp.highly_variable_genes(tmp_adata,max_mean=10)\n",
    "adata_HVGs=tmp_adata[:,tmp_adata.var['highly_variable']==True].copy()\n",
    "\n",
    "HEK293T_RBP_RNAHVG=list(adata_HVGs.var_names)\n",
    "print(len(HEK293T_RBP_RNAHVG))"
   ]
  },
  {
   "cell_type": "code",
   "execution_count": null,
   "id": "4428cf93",
   "metadata": {},
   "outputs": [],
   "source": [
    "# Bioplex data for HEK293T\n",
    "Bioplex_HEK293T=pd.read_csv(\"/Users/jonathan/Desktop/IIT/INTERACTomics/scRNA-seq_data/ANALYSIS_FEB_2023_RIBO/Evaluation/COMPLEXES/BioPlex_293T_Network_10K_Dec_2019.tsv\",delimiter=\"\\t\")\n",
    "Bioplex_HEK293T=Bioplex_HEK293T.loc[:,['SymbolA','SymbolB']].copy()\n",
    "\n",
    "# Load RBPs\n",
    "human_RBPs=pd.read_csv(\"/Users/jonathan/Desktop/IIT/INTERACTomics/scRNA-seq_data/Datasets_Applications/RBPs/Table_HS_RBP.txt\",delimiter='\\t',skiprows=4)\n",
    "human_RBPs=human_RBPs[human_RBPs.RBP2GO_Score>=10]\n",
    "print(len(human_RBPs))\n",
    "\n",
    "Bioplex_HEK293T_proteins=list(set(list(Bioplex_HEK293T.SymbolA)+list(Bioplex_HEK293T.SymbolB)))\n",
    "Bioplex_HEK293T_RBPs=list(set(human_RBPs.Gene_Name).intersection(set(Bioplex_HEK293T_proteins)))\n",
    "len(Bioplex_HEK293T_RBPs)"
   ]
  },
  {
   "cell_type": "code",
   "execution_count": null,
   "id": "952d8151",
   "metadata": {},
   "outputs": [],
   "source": [
    "Bioplex_HEK293T[(Bioplex_HEK293T.SymbolA.isin(Bioplex_HEK293T_RBPs)) & (Bioplex_HEK293T.SymbolB.isin(Bioplex_HEK293T_RBPs))]\n"
   ]
  },
  {
   "cell_type": "code",
   "execution_count": null,
   "id": "2e2c2f9b",
   "metadata": {},
   "outputs": [],
   "source": [
    "print(len(set(HEK293T_RBP_RNA500)),len(set(HEK293T_RBP_RNA500).intersection(Bioplex_HEK293T_RBPs)))\n",
    "print(len(set(HEK293T_RBP_RNA1000)),len(set(HEK293T_RBP_RNA1000).intersection(Bioplex_HEK293T_RBPs)))\n",
    "print(len(set(HEK293T_RBP_RNA2000)),len(set(HEK293T_RBP_RNA2000).intersection(Bioplex_HEK293T_RBPs)))\n",
    "print(len(set(HEK293T_RBP_RNA3000)),len(set(HEK293T_RBP_RNA3000).intersection(Bioplex_HEK293T_RBPs)))\n",
    "print(len(set(HEK293T_RBP_RNAHVG)),len(set(HEK293T_RBP_RNAHVG).intersection(Bioplex_HEK293T_RBPs)))"
   ]
  },
  {
   "cell_type": "code",
   "execution_count": null,
   "id": "0111ec7d",
   "metadata": {},
   "outputs": [],
   "source": [
    "def SaveData(folder, adata,adata_UMI, geneset, label1, label2):\n",
    "    \n",
    "    # Save the normalized data in a csv file\n",
    "    tmp_df=pd.DataFrame(data=adata[:,geneset].X.T.todense(), index=adata[:,geneset].var_names,\n",
    "                        columns=adata[:,geneset].obs_names)\n",
    "    tmp_df.to_csv(folder+label1+'NormalizedData_'+label2+'.csv')\n",
    "\n",
    "    # Save the raw data in a csv file\n",
    "    tmp_df=pd.DataFrame(data=adata_UMI[:, geneset].X.T.todense(), index=adata_UMI[:, geneset].var_names, \n",
    "                        columns=adata_UMI[:, geneset].obs_names)\n",
    "    tmp_df.to_csv(folder+label1+'RawData_'+label2+'.csv')"
   ]
  },
  {
   "cell_type": "code",
   "execution_count": null,
   "id": "351ae1a8",
   "metadata": {},
   "outputs": [],
   "source": [
    "if os.path.isdir(out_folder+'HEK293T_RBP_RNA500')==False:\n",
    "    os.mkdir(out_folder+'HEK293T_RBP_RNA500')\n",
    "    \n",
    "if os.path.isdir(out_folder+'HEK293T_RBP_RNA1000')==False:\n",
    "    os.mkdir(out_folder+'HEK293T_RBP_RNA1000')\n",
    "\n",
    "if os.path.isdir(out_folder+'HEK293T_RBP_RNA2000')==False:\n",
    "    os.mkdir(out_folder+'HEK293T_RBP_RNA2000')\n",
    "    \n",
    "if os.path.isdir(out_folder+'HEK293T_RBP_RNA3000')==False:\n",
    "    os.mkdir(out_folder+'HEK293T_RBP_RNA3000')\n",
    "\n",
    "if os.path.isdir(out_folder+'HEK293T_RBP_RNAHVG')==False:\n",
    "    os.mkdir(out_folder+'HEK293T_RBP_RNAHVG')"
   ]
  },
  {
   "cell_type": "code",
   "execution_count": null,
   "id": "364865a9",
   "metadata": {},
   "outputs": [],
   "source": [
    "SaveData(out_folder+'HEK293T_RBP_RNA500/', adata_hek293t,adata_hek293t_UMI, HEK293T_RBP_RNA500,\n",
    "         'HEK293T', 'RBP_RNA500')\n",
    "SaveData(out_folder+'HEK293T_RBP_RNA1000/', adata_hek293t,adata_hek293t_UMI, HEK293T_RBP_RNA1000,\n",
    "         'HEK293T', 'RBP_RNA1000')\n",
    "SaveData(out_folder+'HEK293T_RBP_RNA2000/', adata_hek293t,adata_hek293t_UMI, HEK293T_RBP_RNA2000,\n",
    "         'HEK293T', 'RBP_RNA2000')\n",
    "SaveData(out_folder+'HEK293T_RBP_RNA3000/', adata_hek293t,adata_hek293t_UMI, HEK293T_RBP_RNA3000,\n",
    "         'HEK293T', 'RBP_RNA3000')\n",
    "SaveData(out_folder+'HEK293T_RBP_RNAHVG/', adata_hek293t,adata_hek293t_UMI, HEK293T_RBP_RNAHVG,\n",
    "         'HEK293T', 'RBP_RNAHVG')"
   ]
  },
  {
   "cell_type": "code",
   "execution_count": null,
   "id": "bf7e7f59",
   "metadata": {},
   "outputs": [],
   "source": [
    "gname_folder='./ANALYSIS_FEB_2023_RIBO/COINTER_RBPs/HEK293T/GENE_SELECTION/gene_names/'\n",
    "\n",
    "if os.path.isdir(gname_folder)==False:\n",
    "    os.mkdir(gname_folder)"
   ]
  },
  {
   "cell_type": "code",
   "execution_count": null,
   "id": "59f2c540",
   "metadata": {},
   "outputs": [],
   "source": [
    "np.savetxt(gname_folder+'gnamesHEK293T_RBP_RNA500.txt',np.c_[HEK293T_RBP_RNA500],fmt='%s')\n",
    "np.savetxt(gname_folder+'gnamesHEK293T_RBP_RNA1000.txt',np.c_[HEK293T_RBP_RNA1000],fmt='%s')\n",
    "np.savetxt(gname_folder+'gnamesHEK293T_RBP_RNA2000.txt',np.c_[HEK293T_RBP_RNA2000],fmt='%s')\n",
    "np.savetxt(gname_folder+'gnamesHEK293T_RBP_RNA3000.txt',np.c_[HEK293T_RBP_RNA3000],fmt='%s')\n",
    "np.savetxt(gname_folder+'gnamesHEK293T_RBP_RNAHVG.txt',np.c_[HEK293T_RBP_RNAHVG],fmt='%s')"
   ]
  },
  {
   "cell_type": "markdown",
   "id": "006d8b87",
   "metadata": {},
   "source": [
    "## Smart-seq3"
   ]
  },
  {
   "cell_type": "code",
   "execution_count": null,
   "id": "858ea7d8",
   "metadata": {},
   "outputs": [],
   "source": [
    "data_folder='./HEK293T/Smart-seq3/Normal/'\n",
    "input_folder=\"./ANALYSIS_FEB_2023_RIBO/COINTER_RBPs/HEK293T_smartseq3/\""
   ]
  },
  {
   "cell_type": "code",
   "execution_count": null,
   "id": "2a48e2a3",
   "metadata": {},
   "outputs": [],
   "source": [
    "if os.path.isdir(input_folder)==False:\n",
    "    os.mkdir(input_folder)"
   ]
  },
  {
   "cell_type": "code",
   "execution_count": null,
   "id": "149bc3ff",
   "metadata": {},
   "outputs": [],
   "source": [
    "out_folder=\"./ANALYSIS_FEB_2023_RIBO/COINTER_RBPs/HEK293T_smartseq3/GENE_SELECTION/\"\n",
    "aracne_folder=\"./ANALYSIS_FEB_2023_RIBO/COINTER_RBPs/HEK293T_smartseq3/GENE_SELECTION/ARACNe_INPUT\"\n",
    "\n",
    "if os.path.isdir(out_folder)==False:\n",
    "    os.mkdir(out_folder)\n",
    "if os.path.isdir(aracne_folder)==False:\n",
    "    os.mkdir(aracne_folder)"
   ]
  },
  {
   "cell_type": "markdown",
   "id": "a8f40308",
   "metadata": {},
   "source": [
    "### Load the data"
   ]
  },
  {
   "cell_type": "code",
   "execution_count": null,
   "id": "3c937d66",
   "metadata": {},
   "outputs": [],
   "source": [
    "adata_hek293t_smart=ad.read_text(data_folder+\"Smartseq3.HEK.fwdprimer.UMIcounts_gnames.txt\")\n",
    "adata_hek293t_smart=adata_hek293t_smart.T"
   ]
  },
  {
   "cell_type": "code",
   "execution_count": null,
   "id": "9887239d",
   "metadata": {},
   "outputs": [],
   "source": [
    "adata_hek293t_smart_metadata=pd.read_csv(data_folder+\"Smartseq3.HEK.fwdprimer.sample_annotation.txt\",\n",
    "                                        delimiter=\"\\t\")\n",
    "adata_hek293t_smart_metadata=adata_hek293t_smart_metadata.set_index(\"BC\")"
   ]
  },
  {
   "cell_type": "code",
   "execution_count": null,
   "id": "b10cc748",
   "metadata": {},
   "outputs": [],
   "source": [
    "adata_hek293t_smart.obs_names"
   ]
  },
  {
   "cell_type": "code",
   "execution_count": null,
   "id": "ff17dc65",
   "metadata": {},
   "outputs": [],
   "source": [
    "len(set(adata_hek293t_smart_metadata.index).intersection(adata_hek293t_smart.obs_names))"
   ]
  },
  {
   "cell_type": "code",
   "execution_count": null,
   "id": "a4bef579",
   "metadata": {},
   "outputs": [],
   "source": [
    "adata_hek293t_smart_metadata=adata_hek293t_smart_metadata.reindex(adata_hek293t_smart.obs_names)\n",
    "(adata_hek293t_smart_metadata.index==adata_hek293t_smart.obs_names).all()"
   ]
  },
  {
   "cell_type": "code",
   "execution_count": null,
   "id": "b155e625",
   "metadata": {},
   "outputs": [],
   "source": [
    "adata_hek293t_smart.obs=adata_hek293t_smart_metadata"
   ]
  },
  {
   "cell_type": "code",
   "execution_count": null,
   "id": "ac4cc771",
   "metadata": {},
   "outputs": [],
   "source": [
    "# Filter genes expressed in less than 10 cells\n",
    "sc.pp.filter_genes(adata_hek293t_smart, min_cells=10)\n",
    "print(adata_hek293t_smart)\n",
    "adata_hek293t_smart.obs['batch']='HEK293'\n",
    "adata_hek293t_smart_UMI=adata_hek293t_smart.copy()\n",
    "# adata_hek293t.write_h5ad(ARACNe_folder+\"processed_HEK293.h5ad\")\n",
    "# Store the UMIs\n",
    "adata_hek293t_smart.raw=adata_hek293t_smart\n",
    "\n",
    "# Normalize the data\n",
    "sc.pp.normalize_total(adata_hek293t_smart,inplace=True)\n",
    "adata_hek293t_smart_for_ARACNe=adata_hek293t_smart.copy()\n",
    "sc.pp.log1p(adata_hek293t_smart)"
   ]
  },
  {
   "cell_type": "code",
   "execution_count": null,
   "id": "f84b8685",
   "metadata": {},
   "outputs": [],
   "source": [
    "def FilterMito(adata):\n",
    "    mito_genes = adata.var_names.str.startswith('MT-')\n",
    "    genes_to_keep = np.invert(mito_genes)\n",
    "    print('before',adata)\n",
    "    adata = adata[:,genes_to_keep].copy()\n",
    "    print('after',adata)\n",
    "    return adata;"
   ]
  },
  {
   "cell_type": "code",
   "execution_count": null,
   "id": "50ac8246",
   "metadata": {},
   "outputs": [],
   "source": [
    "# Remove mitochondrial and ribosomal genes\n",
    "adata_hek293t_smart=FilterMito(adata_hek293t_smart)"
   ]
  },
  {
   "cell_type": "markdown",
   "id": "c7ac4ef0",
   "metadata": {},
   "source": [
    "### Compute diffusion pseudotime"
   ]
  },
  {
   "cell_type": "code",
   "execution_count": null,
   "id": "84c82490",
   "metadata": {},
   "outputs": [],
   "source": [
    "sc.pp.highly_variable_genes(adata_hek293t_smart,max_mean=10,n_top_genes=2000)  #calculate highly variable genes\n",
    "adata_hek293t_smart_high_var = adata_hek293t_smart[:,adata_hek293t_smart.var['highly_variable']==True]  #select only highly variable genes\n",
    "sc.pp.scale(adata_hek293t_smart_high_var,max_value=10)\n",
    "sc.tl.pca(adata_hek293t_smart_high_var,svd_solver='arpack')\n",
    "sc.pl.pca_overview(adata_hek293t_smart_high_var)"
   ]
  },
  {
   "cell_type": "code",
   "execution_count": null,
   "id": "1f6ef5d3",
   "metadata": {},
   "outputs": [],
   "source": [
    "adata_hek293t_smart"
   ]
  },
  {
   "cell_type": "code",
   "execution_count": null,
   "id": "196a7bc4",
   "metadata": {},
   "outputs": [],
   "source": [
    "sc.pp.neighbors(adata_hek293t_smart_high_var)#), n_neighbors=10, n_pcs=10)\n",
    "sc.tl.umap(adata_hek293t_smart_high_var)\n"
   ]
  },
  {
   "cell_type": "code",
   "execution_count": null,
   "id": "51ecea1b",
   "metadata": {},
   "outputs": [],
   "source": [
    "sc.pl.umap(adata_hek293t_smart_high_var)"
   ]
  },
  {
   "cell_type": "code",
   "execution_count": null,
   "id": "24027d55",
   "metadata": {},
   "outputs": [],
   "source": [
    "# Create the diffusion map\n",
    "sc.tl.diffmap(adata_hek293t_smart_high_var)\n",
    "sc.pl.diffmap(adata_hek293t_smart_high_var)"
   ]
  },
  {
   "cell_type": "code",
   "execution_count": null,
   "id": "e5d338ff",
   "metadata": {},
   "outputs": [],
   "source": [
    "adata_hek293t_smart_high_var.uns['iroot'] = np.argmin(adata_hek293t_smart_high_var.obsm['X_diffmap'][:,1])\n",
    "\n",
    "# Run Diffusion Pseudotime with 1 branching event\n",
    "sc.tl.dpt(adata_hek293t_smart_high_var)\n",
    "\n",
    "# Grab the output and store in our metadata DataFrame\n",
    "adata_hek293t_smart_high_var.obs['dpt'] = adata_hek293t_smart_high_var.obs['dpt_pseudotime']\n",
    "# adata_hek293t_high_var.obs['dpt_branch'] = adata_hek293t_high_var.obs['dpt_groups'].astype(int)\n",
    "adata_hek293t_smart_high_var.obs.head()"
   ]
  },
  {
   "cell_type": "code",
   "execution_count": null,
   "id": "af4321d9",
   "metadata": {},
   "outputs": [],
   "source": [
    "adata_hek293t_smart_high_var.obs_names"
   ]
  },
  {
   "cell_type": "code",
   "execution_count": null,
   "id": "4c167ec6",
   "metadata": {},
   "outputs": [],
   "source": [
    "adata_hek293t_smart.obs_names"
   ]
  },
  {
   "cell_type": "code",
   "execution_count": null,
   "id": "e51d3662",
   "metadata": {},
   "outputs": [],
   "source": [
    "pseudo_df=pd.DataFrame(data=adata_hek293t_smart_high_var.obs['dpt'], index=adata_hek293t_smart_high_var.obs_names)\n",
    "pseudo_df.to_csv(out_folder+'HEK293T_smartseq3PseudoTime.csv')"
   ]
  },
  {
   "cell_type": "code",
   "execution_count": null,
   "id": "8b81ab52",
   "metadata": {},
   "outputs": [],
   "source": [
    "# adata_hek293t_smart.var_names_make_unique()"
   ]
  },
  {
   "cell_type": "code",
   "execution_count": null,
   "id": "b5fe70cb",
   "metadata": {},
   "outputs": [],
   "source": [
    "from Bio import SeqIO\n",
    "gname=[]\n",
    "gid=[]\n",
    "f_open = open(\"/Users/jonathan/Desktop/IIT/INTERACTomics/ENCODE_eCLIP_DATA/transcriptomes/hsapiens_gene_ensembl_107_canonical_new.fa\", \"rU\")\n",
    "for rec in SeqIO.parse(f_open, \"fasta\"):\n",
    "    myid = rec.id\n",
    "    gname.append(myid.split('|')[4])\n",
    "    gid.append(myid.split('|')[0])"
   ]
  },
  {
   "cell_type": "code",
   "execution_count": null,
   "id": "975f1dc6",
   "metadata": {},
   "outputs": [],
   "source": [
    "# Consider only genes present in the fasta file\n",
    "def Genes_in_fasta(adata,gnames):\n",
    "    print(adata)\n",
    "    inters=list(set(adata.var_names).intersection(set(gname)))\n",
    "    adata=adata[:,inters].copy()\n",
    "    print(adata)\n",
    "    return adata;"
   ]
  },
  {
   "cell_type": "code",
   "execution_count": null,
   "id": "7eab1d11",
   "metadata": {},
   "outputs": [],
   "source": [
    "adata_hek293t_smart=Genes_in_fasta(adata_hek293t_smart,gname)"
   ]
  },
  {
   "cell_type": "code",
   "execution_count": null,
   "id": "c354171e",
   "metadata": {},
   "outputs": [],
   "source": [
    "len(set(HEK293T_SMART_RBP_RNA500).intersection(set(adata_hek293t_smart.var_names)))"
   ]
  },
  {
   "cell_type": "code",
   "execution_count": null,
   "id": "bd25efe3",
   "metadata": {},
   "outputs": [],
   "source": [
    "tmp_adata=adata_hek293t_smart.copy()\n",
    "sc.pp.highly_variable_genes(tmp_adata,max_mean=10,n_top_genes=500)\n",
    "adata_HVGs=tmp_adata[:,tmp_adata.var['highly_variable']==True].copy()\n",
    "\n",
    "HEK293T_SMART_RBP_RNA500=list(adata_HVGs.var_names)\n",
    "print(len(HEK293T_SMART_RBP_RNA500))\n",
    "\n",
    "tmp_adata=adata_hek293t_smart.copy()\n",
    "sc.pp.highly_variable_genes(tmp_adata,max_mean=10,n_top_genes=1000)\n",
    "adata_HVGs=tmp_adata[:,tmp_adata.var['highly_variable']==True].copy()\n",
    "\n",
    "HEK293T_SMART_RBP_RNA1000=list(adata_HVGs.var_names)\n",
    "print(len(HEK293T_SMART_RBP_RNA1000))\n",
    "\n",
    "tmp_adata=adata_hek293t_smart.copy()\n",
    "sc.pp.highly_variable_genes(tmp_adata,max_mean=10,n_top_genes=2000)\n",
    "adata_HVGs=tmp_adata[:,tmp_adata.var['highly_variable']==True].copy()\n",
    "\n",
    "HEK293T_SMART_RBP_RNA2000=list(adata_HVGs.var_names)\n",
    "print(len(HEK293T_SMART_RBP_RNA2000))\n",
    "\n",
    "tmp_adata=adata_hek293t_smart.copy()\n",
    "sc.pp.highly_variable_genes(tmp_adata,max_mean=10,n_top_genes=3000)\n",
    "adata_HVGs=tmp_adata[:,tmp_adata.var['highly_variable']==True].copy()\n",
    "\n",
    "HEK293T_SMART_RBP_RNA3000=list(adata_HVGs.var_names)\n",
    "print(len(HEK293T_SMART_RBP_RNA3000))\n",
    "\n",
    "tmp_adata=adata_hek293t_smart.copy()\n",
    "sc.pp.highly_variable_genes(tmp_adata,max_mean=10)\n",
    "adata_HVGs=tmp_adata[:,tmp_adata.var['highly_variable']==True].copy()\n",
    "\n",
    "HEK293T_SMART_RBP_RNAHVG=list(adata_HVGs.var_names)\n",
    "print(len(HEK293T_SMART_RBP_RNAHVG))"
   ]
  },
  {
   "cell_type": "code",
   "execution_count": null,
   "id": "ad673990",
   "metadata": {},
   "outputs": [],
   "source": [
    "# Bioplex data for HEK293T\n",
    "Bioplex_HEK293T=pd.read_csv(\"/Users/jonathan/Desktop/IIT/INTERACTomics/scRNA-seq_data/ANALYSIS_FEB_2023_RIBO/Evaluation/COMPLEXES/BioPlex_293T_Network_10K_Dec_2019.tsv\",delimiter=\"\\t\")\n",
    "Bioplex_HEK293T=Bioplex_HEK293T.loc[:,['SymbolA','SymbolB']].copy()\n",
    "\n",
    "# Load RBPs\n",
    "human_RBPs=pd.read_csv(\"/Users/jonathan/Desktop/IIT/INTERACTomics/scRNA-seq_data/Datasets_Applications/RBPs/Table_HS_RBP.txt\",delimiter='\\t',skiprows=4)\n",
    "human_RBPs=human_RBPs[human_RBPs.RBP2GO_Score>=10]\n",
    "print(len(human_RBPs))\n",
    "\n",
    "Bioplex_HEK293T_proteins=list(set(list(Bioplex_HEK293T.SymbolA)+list(Bioplex_HEK293T.SymbolB)))\n",
    "Bioplex_HEK293T_RBPs=list(set(human_RBPs.Gene_Name).intersection(set(Bioplex_HEK293T_proteins)))"
   ]
  },
  {
   "cell_type": "code",
   "execution_count": null,
   "id": "3dcda7f1",
   "metadata": {},
   "outputs": [],
   "source": [
    "print(len(set(HEK293T_SMART_RBP_RNA500)),len(set(HEK293T_SMART_RBP_RNA500).intersection(Bioplex_HEK293T_RBPs)))\n",
    "print(len(set(HEK293T_SMART_RBP_RNA1000)),len(set(HEK293T_SMART_RBP_RNA1000).intersection(Bioplex_HEK293T_RBPs)))\n",
    "print(len(set(HEK293T_SMART_RBP_RNA2000)),len(set(HEK293T_SMART_RBP_RNA2000).intersection(Bioplex_HEK293T_RBPs)))\n",
    "print(len(set(HEK293T_SMART_RBP_RNA3000)),len(set(HEK293T_SMART_RBP_RNA3000).intersection(Bioplex_HEK293T_RBPs)))\n",
    "print(len(set(HEK293T_SMART_RBP_RNAHVG)),len(set(HEK293T_SMART_RBP_RNAHVG).intersection(Bioplex_HEK293T_RBPs)))"
   ]
  },
  {
   "cell_type": "code",
   "execution_count": null,
   "id": "20bec63a",
   "metadata": {},
   "outputs": [],
   "source": [
    "def SaveData(folder, adata,adata_UMI, geneset, label1, label2):\n",
    "    \n",
    "    # Save the normalized data in a csv file\n",
    "    tmp_df=pd.DataFrame(data=adata[:,geneset].X.T, index=adata[:,geneset].var_names,\n",
    "                        columns=adata[:,geneset].obs_names)\n",
    "    tmp_df.to_csv(folder+label1+'NormalizedData_'+label2+'.csv')\n",
    "\n",
    "    # Save the raw data in a csv file\n",
    "    tmp_df=pd.DataFrame(data=adata_UMI[:, geneset].X.T, index=adata_UMI[:, geneset].var_names, \n",
    "                        columns=adata_UMI[:, geneset].obs_names)\n",
    "    tmp_df.to_csv(folder+label1+'RawData_'+label2+'.csv')"
   ]
  },
  {
   "cell_type": "code",
   "execution_count": null,
   "id": "7bc7b3ff",
   "metadata": {},
   "outputs": [],
   "source": [
    "if os.path.isdir(out_folder+'HEK293T_smartseq3_RBP_RNA500')==False:\n",
    "    os.mkdir(out_folder+'HEK293T_smartseq3_RBP_RNA500')\n",
    "    \n",
    "if os.path.isdir(out_folder+'HEK293T_smartseq3_RBP_RNA1000')==False:\n",
    "    os.mkdir(out_folder+'HEK293T_smartseq3_RBP_RNA1000')\n",
    "\n",
    "if os.path.isdir(out_folder+'HEK293T_smartseq3_RBP_RNA2000')==False:\n",
    "    os.mkdir(out_folder+'HEK293T_smartseq3_RBP_RNA2000')\n",
    "    \n",
    "if os.path.isdir(out_folder+'HEK293T_smartseq3_RBP_RNA3000')==False:\n",
    "    os.mkdir(out_folder+'HEK293T_smartseq3_RBP_RNA3000')\n",
    "\n",
    "if os.path.isdir(out_folder+'HEK293T_smartseq3_RBP_RNAHVG')==False:\n",
    "    os.mkdir(out_folder+'HEK293T_smartseq3_RBP_RNAHVG')"
   ]
  },
  {
   "cell_type": "code",
   "execution_count": null,
   "id": "c982c946",
   "metadata": {},
   "outputs": [],
   "source": [
    "SaveData(out_folder+'HEK293T_smartseq3_RBP_RNA500/', adata_hek293t_smart,adata_hek293t_smart_UMI, HEK293T_SMART_RBP_RNA500,\n",
    "         'HEK293T_smartseq3', 'RBP_RNA500')\n",
    "SaveData(out_folder+'HEK293T_smartseq3_RBP_RNA1000/', adata_hek293t_smart,adata_hek293t_smart_UMI, HEK293T_SMART_RBP_RNA1000,\n",
    "         'HEK293T_smartseq3', 'RBP_RNA1000')\n",
    "SaveData(out_folder+'HEK293T_smartseq3_RBP_RNA2000/', adata_hek293t_smart,adata_hek293t_smart_UMI, HEK293T_SMART_RBP_RNA2000,\n",
    "         'HEK293T_smartseq3', 'RBP_RNA2000')\n",
    "SaveData(out_folder+'HEK293T_smartseq3_RBP_RNA3000/', adata_hek293t_smart,adata_hek293t_smart_UMI, HEK293T_SMART_RBP_RNA3000,\n",
    "         'HEK293T_smartseq3', 'RBP_RNA3000')\n",
    "SaveData(out_folder+'HEK293T_smartseq3_RBP_RNAHVG/', adata_hek293t_smart,adata_hek293t_smart_UMI, HEK293T_SMART_RBP_RNAHVG,\n",
    "         'HEK293T_smartseq3', 'RBP_RNAHVG')"
   ]
  },
  {
   "cell_type": "code",
   "execution_count": null,
   "id": "0d6d15b6",
   "metadata": {},
   "outputs": [],
   "source": [
    "gname_folder='./ANALYSIS_FEB_2023_RIBO/COINTER_RBPs/HEK293T/GENE_SELECTION/gene_names/'\n",
    "\n",
    "if os.path.isdir(gname_folder)==False:\n",
    "    os.mkdir(gname_folder)"
   ]
  },
  {
   "cell_type": "code",
   "execution_count": null,
   "id": "f0bc4e85",
   "metadata": {},
   "outputs": [],
   "source": [
    "np.savetxt(gname_folder+'gnamesHEK293T_smartseq3_RBP_RNA500.txt',np.c_[HEK293T_SMART_RBP_RNA500],fmt='%s')\n",
    "np.savetxt(gname_folder+'gnamesHEK293T_smartseq3_RBP_RNA1000.txt',np.c_[HEK293T_SMART_RBP_RNA1000],fmt='%s')\n",
    "np.savetxt(gname_folder+'gnamesHEK293T_smartseq3_RBP_RNA2000.txt',np.c_[HEK293T_SMART_RBP_RNA2000],fmt='%s')\n",
    "np.savetxt(gname_folder+'gnamesHEK293T_smartseq3_RBP_RNA3000.txt',np.c_[HEK293T_SMART_RBP_RNA3000],fmt='%s')\n",
    "np.savetxt(gname_folder+'gnamesHEK293T_smartseq3_RBP_RNAHVG.txt',np.c_[HEK293T_SMART_RBP_RNAHVG],fmt='%s')"
   ]
  },
  {
   "cell_type": "code",
   "execution_count": null,
   "id": "17d0b032",
   "metadata": {},
   "outputs": [],
   "source": [
    "# Save data for ARACNe\n",
    "def SaveDataforARACNe(folder, adata, geneset, label1, label2):\n",
    "    adata_temp=ad.AnnData(X=adata[:,geneset].X)\n",
    "    adata_temp.obs_names=adata[:,geneset].obs_names\n",
    "    adata_temp.var_names=adata[:,geneset].var_names\n",
    "    adata_temp.obs['batch']=label1\n",
    "    adata_temp.write(folder+'processed_'+label1+'_'+label2+'.h5ad')"
   ]
  },
  {
   "cell_type": "code",
   "execution_count": null,
   "id": "19807fe5",
   "metadata": {},
   "outputs": [],
   "source": [
    "Y=log(X+1)"
   ]
  },
  {
   "cell_type": "code",
   "execution_count": null,
   "id": "0778da2e",
   "metadata": {},
   "outputs": [],
   "source": [
    "eY=X+1"
   ]
  },
  {
   "cell_type": "code",
   "execution_count": null,
   "id": "cb0a4b9b",
   "metadata": {},
   "outputs": [],
   "source": [
    "adata_hek293t_for_ARACNe=ad.AnnData(X=np.exp(adata_hek293t_smart.X)-1)\n",
    "adata_hek293t_for_ARACNe.obs_names=adata_hek293t_smart.obs_names\n",
    "adata_hek293t_for_ARACNe.var_names=adata_hek293t_smart.var_names\n",
    "adata_hek293t_for_ARACNe.obs=adata_hek293t_smart.obs"
   ]
  },
  {
   "cell_type": "code",
   "execution_count": null,
   "id": "1a2d4963",
   "metadata": {},
   "outputs": [],
   "source": [
    "SaveDataforARACNe(aracne_folder+'HEK293T_smartseq3_RBP_RNA500', adata_hek293t_for_ARACNe, HEK293T_SMART_RBP_RNA500,\n",
    "         'HEK293T_smartseq3', 'RBP_RNA500')\n",
    "SaveDataforARACNe(aracne_folder+'HEK293T_smartseq3_RBP_RNA1000', adata_hek293t_for_ARACNe, HEK293T_SMART_RBP_RNA1000,\n",
    "         'HEK293T_smartseq3', 'RBP_RNA1000')\n",
    "SaveDataforARACNe(aracne_folder+'HEK293T_smartseq3_RBP_RNA2000', adata_hek293t_for_ARACNe, HEK293T_SMART_RBP_RNA2000,\n",
    "         'HEK293T_smartseq3', 'RBP_RNA2000')\n",
    "SaveDataforARACNe(aracne_folder+'HEK293T_smartseq3_RBP_RNA3000', adata_hek293t_for_ARACNe, HEK293T_SMART_RBP_RNA3000,\n",
    "         'HEK293T_smartseq3', 'RBP_RNA3000')\n",
    "SaveDataforARACNe(aracne_folder+'HEK293T_smartseq3_RBP_RNAHVG', adata_hek293t_for_ARACNe, HEK293T_SMART_RBP_RNAHVG,\n",
    "         'HEK293T_smartseq3', 'RBP_RNAHVG')\n",
    "\n"
   ]
  },
  {
   "cell_type": "markdown",
   "id": "5443cca6",
   "metadata": {},
   "source": [
    "# HCT116"
   ]
  },
  {
   "cell_type": "code",
   "execution_count": null,
   "id": "e94511bb",
   "metadata": {},
   "outputs": [],
   "source": [
    "data_folder='./HCT116/'\n",
    "input_folder=\"./ANALYSIS_FEB_2023_RIBO/COINTER_RBPs/HCT116/\""
   ]
  },
  {
   "cell_type": "code",
   "execution_count": null,
   "id": "7681f317",
   "metadata": {},
   "outputs": [],
   "source": [
    "if os.path.isdir(input_folder)==False:\n",
    "    os.mkdir(input_folder)"
   ]
  },
  {
   "cell_type": "code",
   "execution_count": null,
   "id": "b7a2b38b",
   "metadata": {},
   "outputs": [],
   "source": [
    "out_folder=\"./ANALYSIS_FEB_2023_RIBO/COINTER_RBPs/HCT116/GENE_SELECTION/\"\n",
    "aracne_folder=\"./ANALYSIS_FEB_2023_RIBO/COINTER_RBPs/HCT116/GENE_SELECTION/ARACNe_INPUT/\"\n",
    "\n",
    "if os.path.isdir(out_folder)==False:\n",
    "    os.mkdir(out_folder)\n",
    "if os.path.isdir(aracne_folder)==False:\n",
    "    os.mkdir(aracne_folder)"
   ]
  },
  {
   "cell_type": "markdown",
   "id": "12b626a9",
   "metadata": {},
   "source": [
    "## Load the data"
   ]
  },
  {
   "cell_type": "code",
   "execution_count": null,
   "id": "4edcfdea",
   "metadata": {},
   "outputs": [],
   "source": [
    "adata_HCT116=ad.read_csv(data_folder+\"GSE149224_RSH.all.counts.txt.gz\",delimiter=' ')\n",
    "adata_HCT116=adata_HCT116.T"
   ]
  },
  {
   "cell_type": "code",
   "execution_count": null,
   "id": "ec0f0ea5",
   "metadata": {},
   "outputs": [],
   "source": [
    "metadata_HCT116=pd.read_csv(data_folder+\"GSE149224_meta.information.csv.gz\",index_col=0)"
   ]
  },
  {
   "cell_type": "code",
   "execution_count": null,
   "id": "69ecec62",
   "metadata": {},
   "outputs": [],
   "source": [
    "metadata_HCT116=metadata_HCT116[metadata_HCT116[\"df.gid\"]==\"HCT116\"].copy()"
   ]
  },
  {
   "cell_type": "code",
   "execution_count": null,
   "id": "ca9833f3",
   "metadata": {},
   "outputs": [],
   "source": [
    "adata_HCT116=adata_HCT116[metadata_HCT116.index,:]"
   ]
  },
  {
   "cell_type": "code",
   "execution_count": null,
   "id": "9aa2824c",
   "metadata": {},
   "outputs": [],
   "source": [
    "metadata_HCT116"
   ]
  },
  {
   "cell_type": "code",
   "execution_count": null,
   "id": "db1c6664",
   "metadata": {},
   "outputs": [],
   "source": [
    "adata_HCT116"
   ]
  },
  {
   "cell_type": "code",
   "execution_count": null,
   "id": "46bcaf30",
   "metadata": {},
   "outputs": [],
   "source": [
    "(adata_HCT116.obs_names==metadata_HCT116.index).all()"
   ]
  },
  {
   "cell_type": "code",
   "execution_count": null,
   "id": "652f9762",
   "metadata": {},
   "outputs": [],
   "source": [
    "adata_HCT116.obs=metadata_HCT116"
   ]
  },
  {
   "cell_type": "code",
   "execution_count": null,
   "id": "d5e8f3ae",
   "metadata": {},
   "outputs": [],
   "source": [
    "adata_HCT116.obs"
   ]
  },
  {
   "cell_type": "code",
   "execution_count": null,
   "id": "a577a391",
   "metadata": {},
   "outputs": [],
   "source": [
    "metadata_HCT116[metadata_HCT116.dose==0]"
   ]
  },
  {
   "cell_type": "code",
   "execution_count": null,
   "id": "2219b601",
   "metadata": {},
   "outputs": [],
   "source": [
    "# Filter genes expressed in less than 1% of the cells\n",
    "sc.pp.filter_genes(adata_HCT116, min_cells=int(0.01*adata_HCT116.n_obs))\n",
    "print(adata_HCT116)\n",
    "adata_HCT116.obs['batch']='HCT116'\n",
    "adata_HCT116_UMI=adata_HCT116.copy()\n",
    "# adata_hek293t.write_h5ad(ARACNe_folder+\"processed_HEK293.h5ad\")\n",
    "# Store the UMIs\n",
    "adata_HCT116.raw=adata_HCT116\n",
    "\n",
    "# Normalize the data\n",
    "sc.pp.normalize_total(adata_HCT116,inplace=True)\n",
    "# adata_hek293t_for_ARACNe=adata_HCT116.copy()\n",
    "sc.pp.log1p(adata_HCT116)"
   ]
  },
  {
   "cell_type": "code",
   "execution_count": null,
   "id": "09823027",
   "metadata": {},
   "outputs": [],
   "source": [
    "def FilterMito(adata):\n",
    "    mito_genes = adata.var_names.str.startswith('MT-')\n",
    "    genes_to_keep = np.invert(mito_genes)\n",
    "    print('before',adata)\n",
    "    adata = adata[:,genes_to_keep].copy()\n",
    "    print('after',adata)\n",
    "    return adata;"
   ]
  },
  {
   "cell_type": "code",
   "execution_count": null,
   "id": "3d8a5fae",
   "metadata": {},
   "outputs": [],
   "source": [
    "# Remove mitochondrial and ribosomal genes\n",
    "adata_HCT116=FilterMito(adata_HCT116)"
   ]
  },
  {
   "cell_type": "markdown",
   "id": "d6cd8e6a",
   "metadata": {},
   "source": [
    "## Compute diffusion pseudotime"
   ]
  },
  {
   "cell_type": "code",
   "execution_count": null,
   "id": "2eaae64e",
   "metadata": {},
   "outputs": [],
   "source": [
    "sc.pp.highly_variable_genes(adata_HCT116,max_mean=10,n_top_genes=2000)  #calculate highly variable genes\n",
    "adata_HCT116_high_var = adata_HCT116[:,adata_HCT116.var['highly_variable']==True]  #select only highly variable genes\n",
    "sc.pp.scale(adata_HCT116_high_var,max_value=10)\n",
    "sc.tl.pca(adata_HCT116_high_var,svd_solver='arpack')\n",
    "sc.pl.pca_overview(adata_HCT116_high_var)"
   ]
  },
  {
   "cell_type": "code",
   "execution_count": null,
   "id": "decc13c0",
   "metadata": {},
   "outputs": [],
   "source": [
    "adata_HCT116_high_var.obs['dose']=adata_HCT116_high_var.obs['dose'].astype(\"category\")"
   ]
  },
  {
   "cell_type": "code",
   "execution_count": null,
   "id": "7f67e59b",
   "metadata": {},
   "outputs": [],
   "source": [
    "sc.pp.neighbors(adata_HCT116_high_var)#), n_neighbors=10, n_pcs=10)\n",
    "sc.tl.umap(adata_HCT116_high_var)\n",
    "sc.pl.umap(adata_HCT116_high_var,color=['dose'])"
   ]
  },
  {
   "cell_type": "code",
   "execution_count": null,
   "id": "84fb614b",
   "metadata": {},
   "outputs": [],
   "source": [
    "# Create the diffusion map\n",
    "sc.tl.diffmap(adata_HCT116_high_var)\n",
    "sc.pl.diffmap(adata_HCT116_high_var,color=['dose'])"
   ]
  },
  {
   "cell_type": "code",
   "execution_count": null,
   "id": "5eb1a54b",
   "metadata": {},
   "outputs": [],
   "source": [
    "adata_HCT116_high_var.uns['iroot'] = np.argmax(adata_HCT116_high_var.obsm['X_diffmap'][:,1])\n",
    "\n",
    "# Run Diffusion Pseudotime with 1 branching event\n",
    "sc.tl.dpt(adata_HCT116_high_var)\n",
    "\n",
    "# Grab the output and store in our metadata DataFrame\n",
    "adata_HCT116_high_var.obs['dpt'] = adata_HCT116_high_var.obs['dpt_pseudotime']\n",
    "# adata_hek293t_high_var.obs['dpt_branch'] = adata_hek293t_high_var.obs['dpt_groups'].astype(int)\n",
    "adata_HCT116_high_var.obs.head()"
   ]
  },
  {
   "cell_type": "code",
   "execution_count": null,
   "id": "6c25d015",
   "metadata": {},
   "outputs": [],
   "source": [
    "sc.pl.diffmap(adata_HCT116_high_var,color=['dose','dpt'])"
   ]
  },
  {
   "cell_type": "code",
   "execution_count": null,
   "id": "ba6f00c2",
   "metadata": {},
   "outputs": [],
   "source": [
    "# Select only cells with dose 0\n",
    "adata_HCT116_high_var=adata_HCT116_high_var[adata_HCT116_high_var.obs.dose==0,:].copy()\n",
    "adata_HCT116=adata_HCT116[adata_HCT116.obs.dose==0,:].copy()\n",
    "adata_HCT116_UMI=adata_HCT116_UMI[adata_HCT116_UMI.obs.dose==0,:].copy()\n",
    "adata_HCT116_UMI.write_h5ad(aracne_folder+'processed_HCT116.h5ad')\n",
    "print(adata_HCT116_high_var)\n",
    "print(adata_HCT116)\n",
    "print(adata_HCT116_UMI)"
   ]
  },
  {
   "cell_type": "code",
   "execution_count": null,
   "id": "032b92b1",
   "metadata": {},
   "outputs": [],
   "source": [
    "sc.pp.filter_genes(adata_HCT116,min_cells=int(0.01*adata_HCT116.n_obs))"
   ]
  },
  {
   "cell_type": "code",
   "execution_count": null,
   "id": "a17dd630",
   "metadata": {},
   "outputs": [],
   "source": [
    "pseudo_df=pd.DataFrame(data=adata_HCT116_high_var.obs['dpt'], index=adata_HCT116_high_var.obs_names)\n",
    "pseudo_df.to_csv(out_folder+'HCT116PseudoTime.csv')"
   ]
  },
  {
   "cell_type": "markdown",
   "id": "4afef2ca",
   "metadata": {},
   "source": [
    "## Gene Selection"
   ]
  },
  {
   "cell_type": "code",
   "execution_count": null,
   "id": "8910897e",
   "metadata": {},
   "outputs": [],
   "source": [
    "from Bio import SeqIO\n",
    "gname=[]\n",
    "gid=[]\n",
    "f_open = open(\"/Users/jonathan/Desktop/IIT/INTERACTomics/ENCODE_eCLIP_DATA/transcriptomes/hsapiens_gene_ensembl_107_canonical_new.fa\", \"rU\")\n",
    "for rec in SeqIO.parse(f_open, \"fasta\"):\n",
    "    myid = rec.id\n",
    "    gname.append(myid.split('|')[4])\n",
    "    gid.append(myid.split('|')[0])"
   ]
  },
  {
   "cell_type": "code",
   "execution_count": null,
   "id": "7f6eaab0",
   "metadata": {},
   "outputs": [],
   "source": [
    "# Consider only genes present in the fasta file\n",
    "def Genes_in_fasta(adata,gnames):\n",
    "    print(adata)\n",
    "    inters=list(set(adata.var_names).intersection(set(gnames)))\n",
    "    adata=adata[:,inters].copy()\n",
    "    print(adata)\n",
    "    return adata;"
   ]
  },
  {
   "cell_type": "code",
   "execution_count": null,
   "id": "8f660bb1",
   "metadata": {},
   "outputs": [],
   "source": [
    "adata_HCT116=Genes_in_fasta(adata_HCT116,gname)"
   ]
  },
  {
   "cell_type": "code",
   "execution_count": null,
   "id": "b6e08242",
   "metadata": {},
   "outputs": [],
   "source": [
    "tmp_adata=adata_HCT116.copy()\n",
    "sc.pp.highly_variable_genes(tmp_adata,max_mean=10,n_top_genes=500)\n",
    "adata_HVGs=tmp_adata[:,tmp_adata.var['highly_variable']==True].copy()\n",
    "\n",
    "HCT116_RBP_RNA500=list(adata_HVGs.var_names)\n",
    "print(len(HCT116_RBP_RNA500))\n",
    "\n",
    "tmp_adata=adata_HCT116.copy()\n",
    "sc.pp.highly_variable_genes(tmp_adata,max_mean=10,n_top_genes=1000)\n",
    "adata_HVGs=tmp_adata[:,tmp_adata.var['highly_variable']==True].copy()\n",
    "\n",
    "HCT116_RBP_RNA1000=list(adata_HVGs.var_names)\n",
    "print(len(HCT116_RBP_RNA1000))\n",
    "\n",
    "tmp_adata=adata_HCT116.copy()\n",
    "sc.pp.highly_variable_genes(tmp_adata,max_mean=10,n_top_genes=2000)\n",
    "adata_HVGs=tmp_adata[:,tmp_adata.var['highly_variable']==True].copy()\n",
    "\n",
    "HCT116_RBP_RNA2000=list(adata_HVGs.var_names)\n",
    "print(len(HCT116_RBP_RNA2000))\n",
    "\n",
    "tmp_adata=adata_HCT116.copy()\n",
    "sc.pp.highly_variable_genes(tmp_adata,max_mean=10,n_top_genes=3000)\n",
    "adata_HVGs=tmp_adata[:,tmp_adata.var['highly_variable']==True].copy()\n",
    "\n",
    "HCT116_RBP_RNA3000=list(adata_HVGs.var_names)\n",
    "print(len(HCT116_RBP_RNA3000))\n",
    "\n",
    "tmp_adata=adata_HCT116.copy()\n",
    "sc.pp.highly_variable_genes(tmp_adata,max_mean=10)\n",
    "adata_HVGs=tmp_adata[:,tmp_adata.var['highly_variable']==True].copy()\n",
    "\n",
    "HCT116_RBP_RNAHVG=list(adata_HVGs.var_names)\n",
    "print(len(HCT116_RBP_RNAHVG))"
   ]
  },
  {
   "cell_type": "code",
   "execution_count": null,
   "id": "9a4d2f20",
   "metadata": {},
   "outputs": [],
   "source": [
    "# Bioplex data for HEK293T\n",
    "Bioplex_HCT116=pd.read_csv(\"/Users/jonathan/Desktop/IIT/INTERACTomics/scRNA-seq_data/ANALYSIS_FEB_2023_RIBO/Evaluation/COMPLEXES/BioPlex_HCT116_Network_5.5K_Dec_2019.tsv\",delimiter=\"\\t\")\n",
    "Bioplex_HCT116=Bioplex_HCT116.loc[:,['SymbolA','SymbolB']].copy()\n",
    "\n",
    "# Load RBPs\n",
    "human_RBPs=pd.read_csv(\"/Users/jonathan/Desktop/IIT/INTERACTomics/scRNA-seq_data/Datasets_Applications/RBPs/Table_HS_RBP.txt\",delimiter='\\t',skiprows=4)\n",
    "human_RBPs=human_RBPs[human_RBPs.RBP2GO_Score>=10]\n",
    "print(len(human_RBPs))\n",
    "\n",
    "Bioplex_HCT116_proteins=list(set(list(Bioplex_HCT116.SymbolA)+list(Bioplex_HCT116.SymbolB)))\n",
    "Bioplex_HCT116_RBPs=list(set(human_RBPs.Gene_Name).intersection(set(Bioplex_HCT116_proteins)))\n",
    "len(Bioplex_HCT116_RBPs)"
   ]
  },
  {
   "cell_type": "code",
   "execution_count": null,
   "id": "bceff704",
   "metadata": {},
   "outputs": [],
   "source": [
    "Bioplex_HCT116[(Bioplex_HCT116.SymbolA.isin(Bioplex_HCT116_RBPs))]"
   ]
  },
  {
   "cell_type": "code",
   "execution_count": null,
   "id": "84a24796",
   "metadata": {},
   "outputs": [],
   "source": [
    "Bioplex_HCT116[(Bioplex_HCT116.SymbolA.isin(Bioplex_HCT116_RBPs)) & (Bioplex_HCT116.SymbolB.isin(Bioplex_HCT116_RBPs))]"
   ]
  },
  {
   "cell_type": "code",
   "execution_count": null,
   "id": "c011efef",
   "metadata": {},
   "outputs": [],
   "source": [
    "print(len(set(HCT116_RBP_RNA500)),len(set(HCT116_RBP_RNA500).intersection(Bioplex_HCT116_RBPs)))\n",
    "print(len(set(HCT116_RBP_RNA1000)),len(set(HCT116_RBP_RNA1000).intersection(Bioplex_HCT116_RBPs)))\n",
    "print(len(set(HCT116_RBP_RNA2000)),len(set(HCT116_RBP_RNA2000).intersection(Bioplex_HCT116_RBPs)))\n",
    "print(len(set(HCT116_RBP_RNA3000)),len(set(HCT116_RBP_RNA3000).intersection(Bioplex_HCT116_RBPs)))\n",
    "print(len(set(HCT116_RBP_RNAHVG)),len(set(HCT116_RBP_RNAHVG).intersection(Bioplex_HCT116_RBPs)))"
   ]
  },
  {
   "cell_type": "code",
   "execution_count": null,
   "id": "6be12732",
   "metadata": {},
   "outputs": [],
   "source": [
    "def SaveData(folder, adata,adata_UMI, geneset, label1, label2):\n",
    "    \n",
    "    # Save the normalized data in a csv file\n",
    "    tmp_df=pd.DataFrame(data=adata[:,geneset].X.T, index=adata[:,geneset].var_names,\n",
    "                        columns=adata[:,geneset].obs_names)\n",
    "    tmp_df.to_csv(folder+label1+'NormalizedData_'+label2+'.csv')\n",
    "\n",
    "    # Save the raw data in a csv file\n",
    "    tmp_df=pd.DataFrame(data=adata_UMI[:, geneset].X.T, index=adata_UMI[:, geneset].var_names, \n",
    "                        columns=adata_UMI[:, geneset].obs_names)\n",
    "    tmp_df.to_csv(folder+label1+'RawData_'+label2+'.csv')"
   ]
  },
  {
   "cell_type": "code",
   "execution_count": null,
   "id": "ee06eeda",
   "metadata": {},
   "outputs": [],
   "source": [
    "if os.path.isdir(out_folder+'HCT116_RBP_RNA500')==False:\n",
    "    os.mkdir(out_folder+'HCT116_RBP_RNA500')\n",
    "    \n",
    "if os.path.isdir(out_folder+'HCT116_RBP_RNA1000')==False:\n",
    "    os.mkdir(out_folder+'HCT116_RBP_RNA1000')\n",
    "\n",
    "if os.path.isdir(out_folder+'HCT116_RBP_RNA2000')==False:\n",
    "    os.mkdir(out_folder+'HCT116_RBP_RNA2000')\n",
    "    \n",
    "if os.path.isdir(out_folder+'HCT116_RBP_RNA3000')==False:\n",
    "    os.mkdir(out_folder+'HCT116_RBP_RNA3000')\n",
    "    \n",
    "if os.path.isdir(out_folder+'HCT116_RBP_RNAHVG')==False:\n",
    "    os.mkdir(out_folder+'HCT116_RBP_RNAHVG')"
   ]
  },
  {
   "cell_type": "code",
   "execution_count": null,
   "id": "a0429aac",
   "metadata": {},
   "outputs": [],
   "source": [
    "SaveData(out_folder+'HCT116_RBP_RNA500/', adata_HCT116,adata_HCT116_UMI, HCT116_RBP_RNA500,\n",
    "         'HCT116', 'RBP_RNA500')\n",
    "SaveData(out_folder+'HCT116_RBP_RNA1000/', adata_HCT116,adata_HCT116_UMI, HCT116_RBP_RNA1000,\n",
    "         'HCT116', 'RBP_RNA1000')\n",
    "SaveData(out_folder+'HCT116_RBP_RNA2000/', adata_HCT116,adata_HCT116_UMI, HCT116_RBP_RNA2000,\n",
    "         'HCT116', 'RBP_RNA2000')\n",
    "SaveData(out_folder+'HCT116_RBP_RNA3000/', adata_HCT116,adata_HCT116_UMI, HCT116_RBP_RNA3000,\n",
    "         'HCT116', 'RBP_RNA3000')\n",
    "SaveData(out_folder+'HCT116_RBP_RNAHVG/', adata_HCT116,adata_HCT116_UMI, HCT116_RBP_RNAHVG,\n",
    "         'HCT116', 'RBP_RNAHVG')"
   ]
  },
  {
   "cell_type": "code",
   "execution_count": null,
   "id": "0fef8ca9",
   "metadata": {},
   "outputs": [],
   "source": [
    "gname_folder='./ANALYSIS_FEB_2023_RIBO/COINTER_RBPs/HCT116/GENE_SELECTION/gene_names/'\n",
    "\n",
    "if os.path.isdir(gname_folder)==False:\n",
    "    os.mkdir(gname_folder)"
   ]
  },
  {
   "cell_type": "code",
   "execution_count": null,
   "id": "78a0f02b",
   "metadata": {},
   "outputs": [],
   "source": [
    "np.savetxt(gname_folder+'gnamesHCT116_RBP_RNA500.txt',np.c_[HCT116_RBP_RNA500],fmt='%s')\n",
    "np.savetxt(gname_folder+'gnamesHCT116_RBP_RNA1000.txt',np.c_[HCT116_RBP_RNA1000],fmt='%s')\n",
    "np.savetxt(gname_folder+'gnamesHCT116_RBP_RNA2000.txt',np.c_[HCT116_RBP_RNA2000],fmt='%s')\n",
    "np.savetxt(gname_folder+'gnamesHCT116_RBP_RNA3000.txt',np.c_[HCT116_RBP_RNA3000],fmt='%s')\n",
    "np.savetxt(gname_folder+'gnamesHCT116_RBP_RNAHVG.txt',np.c_[HCT116_RBP_RNAHVG],fmt='%s')"
   ]
  },
  {
   "cell_type": "code",
   "execution_count": null,
   "id": "e96273ee",
   "metadata": {},
   "outputs": [],
   "source": [
    "np.savetxt(\"./ANALYSIS_FEB_2023_RIBO/COINTER_RBPs/EvaluationScripts/Bioplex_HCT116_RBPs.txt\",np.c_[Bioplex_HCT116_RBPs],fmt=\"%s\")\n",
    "np.savetxt(\"./ANALYSIS_FEB_2023_RIBO/COINTER_RBPs/EvaluationScripts/Bioplex_HEK293T_RBPs.txt\",np.c_[Bioplex_HEK293T_RBPs],fmt=\"%s\")"
   ]
  },
  {
   "cell_type": "code",
   "execution_count": null,
   "id": "a28a2ff4",
   "metadata": {},
   "outputs": [],
   "source": [
    "Bioplex_HCT116['Edges']=[''.join(sorted(filter(None, x))) for x in Bioplex_HCT116.to_numpy()]\n",
    "Bioplex_HEK293T['Edges']=[''.join(sorted(filter(None, x))) for x in Bioplex_HEK293T.to_numpy()]\n",
    "np.savetxt('Bioplex_HCT116.gmt',np.c_[['Bioplex_HCT116']+list(Bioplex_HCT116.Edges)],fmt=\"%s\")\n",
    "np.savetxt('Bioplex_HEK293T.gmt',np.c_[['Bioplex_HEK293T']+list(Bioplex_HEK293T.Edges)],fmt=\"%s\")"
   ]
  }
 ],
 "metadata": {
  "kernelspec": {
   "display_name": "INTERACTomics-venv",
   "language": "python",
   "name": "interactomics-venv"
  },
  "language_info": {
   "codemirror_mode": {
    "name": "ipython",
    "version": 3
   },
   "file_extension": ".py",
   "mimetype": "text/x-python",
   "name": "python",
   "nbconvert_exporter": "python",
   "pygments_lexer": "ipython3",
   "version": "3.7.7"
  },
  "toc": {
   "base_numbering": 1,
   "nav_menu": {},
   "number_sections": true,
   "sideBar": true,
   "skip_h1_title": false,
   "title_cell": "Table of Contents",
   "title_sidebar": "Contents",
   "toc_cell": false,
   "toc_position": {
    "height": "calc(100% - 180px)",
    "left": "10px",
    "top": "150px",
    "width": "361.2749938964844px"
   },
   "toc_section_display": true,
   "toc_window_display": true
  }
 },
 "nbformat": 4,
 "nbformat_minor": 5
}
