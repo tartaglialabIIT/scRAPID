{
 "cells": [
  {
   "cell_type": "markdown",
   "id": "85d7ebd9",
   "metadata": {},
   "source": [
    "# Analysis of a scRNA-seq datasets of retinoic acid-induced differentiation of mESCs"
   ]
  },
  {
   "cell_type": "markdown",
   "id": "fd52d153",
   "metadata": {},
   "source": [
    "Here we analyze a SCRB-seq scRNA-seq dataset of mouse embryonic stem cells (mESCs) differentiation driven by retinoic acid (RA) [https://pubmed.ncbi.nlm.nih.gov/29061959/](https://pubmed.ncbi.nlm.nih.gov/29061959/). \n",
    "\n",
    "mESCs were sequenced at 9 different time points (0h, 6h, 12h, 24h, 36h, 48h, 60h, 72h, 96h). The UMI count matrices for all the time points are available on GEO with accession number [GSE79578](https://www.ncbi.nlm.nih.gov/geo/query/acc.cgi?acc=GSE79578). \n",
    "\n",
    "In this case the authors provided all the cells, including bad quality ones, thus we removed cells with less than 2000 total UMI counts as done in the original publication. Then, we computed a diffusion map as described above, which showed a clear trajectory starting from the undifferentiated mESCs, and we selected as root cell for the computation of the diffusion pseudotime the cell at 0h with the smallest value of diffusion component 1.\n",
    "\n",
    "Next, we retained the 282 undifferentiated mESCs (0h) and the 137 ones obtained after 4 days of RA-induced differentiation (96h), and we performed the gene selection step for GRN inference as described in the previous paragraph.\n",
    "\n",
    "The interactions for Caprin1 were obtained from a RIP-seq experiment performed in undifferentiated mESCs and RA-differentiated cells at 96h [https://pubmed.ncbi.nlm.nih.gov/36495875/](https://pubmed.ncbi.nlm.nih.gov/36495875/), matching the time points of the scRNA-seq dataset. From the RIP-seq, the authors identified 1178 and 2116 Caprin1 RNA targets at 0h and 96h, respectively."
   ]
  },
  {
   "cell_type": "code",
   "execution_count": null,
   "id": "8191f6de",
   "metadata": {},
   "outputs": [],
   "source": [
    "%matplotlib inline"
   ]
  },
  {
   "cell_type": "code",
   "execution_count": null,
   "id": "11d9a5fc",
   "metadata": {},
   "outputs": [],
   "source": [
    "import matplotlib.pyplot as plt\n",
    "import numpy as np\n",
    "import pandas as pd\n",
    "import scanpy as sc\n",
    "import anndata as ad"
   ]
  },
  {
   "cell_type": "markdown",
   "id": "dde6967e",
   "metadata": {},
   "source": [
    "# SCRB-seq"
   ]
  },
  {
   "cell_type": "code",
   "execution_count": null,
   "id": "104f4731",
   "metadata": {},
   "outputs": [],
   "source": [
    "# load the data\n",
    "adata_0h=ad.read_text(\"SCRB-seq_d0_d4_Smartseq2_d0_d2/GSE79578_RAW/GSM2098545_scrbseq_2i.txt.gz\")\n",
    "adata_0h=adata_0h.T\n",
    "adata_0h.obs['Timepoint']='0h'\n",
    "\n",
    "adata_6h=ad.read_text(\"SCRB-seq_d0_d4_Smartseq2_d0_d2/GSE79578_RAW/GSM2098546_scrbseq_6h.txt.gz\")\n",
    "adata_6h=adata_6h.T\n",
    "adata_6h.obs['Timepoint']='6h'\n",
    "\n",
    "adata_12h=ad.read_text(\"SCRB-seq_d0_d4_Smartseq2_d0_d2/GSE79578_RAW/GSM2098547_scrbseq_12h.txt.gz\")\n",
    "adata_12h=adata_12h.T\n",
    "adata_12h.obs['Timepoint']='12h'\n",
    "\n",
    "adata_24h=ad.read_text(\"SCRB-seq_d0_d4_Smartseq2_d0_d2/GSE79578_RAW/GSM2098548_scrbseq_24h.txt.gz\")\n",
    "adata_24h=adata_24h.T\n",
    "adata_24h.obs['Timepoint']='24h'\n",
    "\n",
    "adata_36h=ad.read_text(\"SCRB-seq_d0_d4_Smartseq2_d0_d2/GSE79578_RAW/GSM2098549_scrbseq_36h.txt.gz\")\n",
    "adata_36h=adata_36h.T\n",
    "adata_36h.obs['Timepoint']='36h'\n",
    "\n",
    "adata_48h=ad.read_text(\"SCRB-seq_d0_d4_Smartseq2_d0_d2/GSE79578_RAW/GSM2098550_scrbseq_48h.txt.gz\")\n",
    "adata_48h=adata_48h.T\n",
    "adata_48h.obs['Timepoint']='48h'\n",
    "\n",
    "adata_60h=ad.read_text(\"SCRB-seq_d0_d4_Smartseq2_d0_d2/GSE79578_RAW/GSM2098551_scrbseq_60h.txt.gz\")\n",
    "adata_60h=adata_60h.T\n",
    "adata_60h.obs['Timepoint']='60h'\n",
    "\n",
    "adata_72h=ad.read_text(\"SCRB-seq_d0_d4_Smartseq2_d0_d2/GSE79578_RAW/GSM2098552_scrbseq_72h.txt.gz\")\n",
    "adata_72h=adata_72h.T\n",
    "adata_72h.obs['Timepoint']='72h'\n",
    "\n",
    "adata_96h=ad.read_text(\"SCRB-seq_d0_d4_Smartseq2_d0_d2/GSE79578_RAW/GSM2098553_scrbseq_96h.txt.gz\")\n",
    "adata_96h=adata_96h.T\n",
    "adata_96h.obs['Timepoint']='96h'"
   ]
  },
  {
   "cell_type": "code",
   "execution_count": null,
   "id": "be34055e",
   "metadata": {},
   "outputs": [],
   "source": [
    "adata_SCRBseq=ad.concat([adata_0h,adata_6h,adata_12h,adata_24h,adata_36h,adata_48h,adata_60h,adata_72h,adata_96h])"
   ]
  },
  {
   "cell_type": "code",
   "execution_count": null,
   "id": "67692cff",
   "metadata": {},
   "outputs": [],
   "source": [
    "adata_SCRBseq.obs_names_make_unique()"
   ]
  },
  {
   "cell_type": "code",
   "execution_count": null,
   "id": "eaa6ff0d",
   "metadata": {},
   "outputs": [],
   "source": [
    "sc.pp.calculate_qc_metrics(adata_SCRBseq,inplace=True)"
   ]
  },
  {
   "cell_type": "code",
   "execution_count": null,
   "id": "7a2217b7",
   "metadata": {},
   "outputs": [],
   "source": [
    "adata_SCRBseq.obs.Timepoint.value_counts()"
   ]
  },
  {
   "cell_type": "code",
   "execution_count": null,
   "id": "2a86f7bb",
   "metadata": {},
   "outputs": [],
   "source": [
    "# Remove cells with less than 2000 UMIs\n",
    "sc.pp.filter_cells(adata_SCRBseq,min_counts=2000)\n",
    "adata_SCRBseq_UMI=adata_SCRBseq.copy()\n",
    "sc.pp.normalize_total(adata_SCRBseq)\n",
    "adata_SCRBseq_aracne=adata_SCRBseq.copy()\n",
    "sc.pp.log1p(adata_SCRBseq)\n",
    "sc.pp.filter_genes(adata_SCRBseq,min_cells=10)\n",
    "sc.pp.highly_variable_genes(adata_SCRBseq,n_top_genes=3000)\n",
    "\n",
    "adata_SCRBseq_high_var=adata_SCRBseq[:,adata_SCRBseq.var.highly_variable].copy()\n",
    "sc.pp.scale(adata_SCRBseq_high_var,max_value=10)\n",
    "sc.tl.pca(adata_SCRBseq_high_var,svd_solver='arpack')\n",
    "sc.pp.neighbors(adata_SCRBseq_high_var)\n",
    "sc.tl.umap(adata_SCRBseq_high_var)\n",
    "sc.tl.diffmap(adata_SCRBseq_high_var)\n",
    "sc.pl.umap(adata_SCRBseq_high_var,color='Timepoint')\n",
    "sc.pl.diffmap(adata_SCRBseq_high_var,color='Timepoint')"
   ]
  },
  {
   "cell_type": "code",
   "execution_count": null,
   "id": "51829dec",
   "metadata": {},
   "outputs": [],
   "source": [
    "adata_SCRBseq_high_var.uns['iroot'] = np.argmin(adata_SCRBseq_high_var.obsm['X_diffmap'][:,1])\n",
    "sc.tl.dpt(adata_SCRBseq_high_var)"
   ]
  },
  {
   "cell_type": "code",
   "execution_count": null,
   "id": "8edf0996",
   "metadata": {},
   "outputs": [],
   "source": [
    "sc.pl.diffmap(adata_SCRBseq_high_var,color=['Timepoint','dpt_pseudotime'],save='caprin1_diffmap.pdf')"
   ]
  },
  {
   "cell_type": "code",
   "execution_count": null,
   "id": "546756b5",
   "metadata": {},
   "outputs": [],
   "source": [
    "sc.pl.violin(adata_SCRBseq_high_var,keys=['dpt_pseudotime'],groupby='Timepoint')"
   ]
  },
  {
   "cell_type": "code",
   "execution_count": null,
   "id": "be741f8e",
   "metadata": {},
   "outputs": [],
   "source": [
    "adata_SCRBseq.obs['dpt_pseudotime']=list(adata_SCRBseq_high_var.obs.dpt_pseudotime)"
   ]
  },
  {
   "cell_type": "code",
   "execution_count": null,
   "id": "4eec53af",
   "metadata": {},
   "outputs": [],
   "source": [
    "adata_SCRBseq.obs.Timepoint.value_counts()"
   ]
  },
  {
   "cell_type": "code",
   "execution_count": null,
   "id": "05699580",
   "metadata": {},
   "outputs": [],
   "source": [
    "adata_SCRBseq_0h=adata_SCRBseq[adata_SCRBseq.obs.Timepoint=='0h'].copy()\n",
    "adata_SCRBseq_96h=adata_SCRBseq[adata_SCRBseq.obs.Timepoint=='96h'].copy()"
   ]
  },
  {
   "cell_type": "code",
   "execution_count": null,
   "id": "7983962d",
   "metadata": {},
   "outputs": [],
   "source": [
    "adata_SCRBseq_0h_UMI=adata_SCRBseq_UMI[adata_SCRBseq_UMI.obs.Timepoint=='0h'].copy()\n",
    "adata_SCRBseq_96h_UMI=adata_SCRBseq_UMI[adata_SCRBseq_UMI.obs.Timepoint=='96h'].copy()"
   ]
  },
  {
   "cell_type": "code",
   "execution_count": null,
   "id": "eb810f42",
   "metadata": {},
   "outputs": [],
   "source": [
    "adata_SCRBseq_0h_aracne=adata_SCRBseq_aracne[adata_SCRBseq_aracne.obs.Timepoint=='0h'].copy()\n",
    "adata_SCRBseq_96h_aracne=adata_SCRBseq_aracne[adata_SCRBseq_aracne.obs.Timepoint=='96h'].copy()"
   ]
  },
  {
   "cell_type": "code",
   "execution_count": null,
   "id": "ce0af807",
   "metadata": {},
   "outputs": [],
   "source": [
    "sc.pp.filter_genes(adata_SCRBseq_0h,min_cells=10)\n",
    "sc.pp.filter_genes(adata_SCRBseq_96h,min_cells=10)"
   ]
  },
  {
   "cell_type": "code",
   "execution_count": null,
   "id": "dce1b257",
   "metadata": {},
   "outputs": [],
   "source": [
    "sc.pp.highly_variable_genes(adata_SCRBseq_0h,n_top_genes=1000)\n",
    "adata_SCRBseq_0h_high_var=adata_SCRBseq_0h[:,adata_SCRBseq_0h.var.highly_variable].copy()\n",
    "\n",
    "sc.pp.highly_variable_genes(adata_SCRBseq_96h,n_top_genes=1000)\n",
    "adata_SCRBseq_96h_high_var=adata_SCRBseq_96h[:,adata_SCRBseq_96h.var.highly_variable].copy()"
   ]
  },
  {
   "cell_type": "code",
   "execution_count": null,
   "id": "6a025263",
   "metadata": {},
   "outputs": [],
   "source": [
    "sc.pl.violin(adata_SCRBseq,keys='Caprin1',groupby='Timepoint')"
   ]
  },
  {
   "cell_type": "code",
   "execution_count": null,
   "id": "82c16017",
   "metadata": {},
   "outputs": [],
   "source": [
    "# Load Caprin1 interactors\n",
    "caprin1_inter=pd.read_excel(\"./Caprin1_interactors/mmc5.xlsx\",sheet_name=\"Table S1 B\",skiprows=2)"
   ]
  },
  {
   "cell_type": "code",
   "execution_count": null,
   "id": "4c10eace",
   "metadata": {},
   "outputs": [],
   "source": [
    "caprin1_inter_0h=list(set(caprin1_inter['Convs2i']))\n",
    "caprin1_inter_0h=[i for i in caprin1_inter_0h if i!=np.nan]\n",
    "caprin1_inter_96h=list(set(caprin1_inter['ConvsRA']))\n",
    "caprin1_inter_96h=[i for i in caprin1_inter_96h if i!=np.nan]"
   ]
  },
  {
   "cell_type": "code",
   "execution_count": null,
   "id": "3e7a3f1c",
   "metadata": {},
   "outputs": [],
   "source": [
    "'Caprin1' in list(adata_SCRBseq_0h_high_var.var_names)"
   ]
  },
  {
   "cell_type": "code",
   "execution_count": null,
   "id": "5db4093b",
   "metadata": {},
   "outputs": [],
   "source": [
    "print(len(caprin1_inter_0h),len(set(caprin1_inter_0h).intersection(set(adata_SCRBseq_0h_high_var.var_names))))"
   ]
  },
  {
   "cell_type": "code",
   "execution_count": null,
   "id": "5e97ef4c",
   "metadata": {},
   "outputs": [],
   "source": []
  },
  {
   "cell_type": "code",
   "execution_count": null,
   "id": "5d88f2ed",
   "metadata": {},
   "outputs": [],
   "source": [
    "'Caprin1' in list(adata_SCRBseq_96h_high_var.var_names)"
   ]
  },
  {
   "cell_type": "code",
   "execution_count": null,
   "id": "223cbe3c",
   "metadata": {},
   "outputs": [],
   "source": [
    "print(len(caprin1_inter_96h),len(set(caprin1_inter_96h).intersection(set(adata_SCRBseq_96h_high_var.var_names))))"
   ]
  },
  {
   "cell_type": "code",
   "execution_count": null,
   "id": "7dc242c2",
   "metadata": {},
   "outputs": [],
   "source": [
    "# DE genes between 0 and 96 hours\n",
    "sc.tl.rank_genes_groups(adata_SCRBseq,groups=['0h'],groupby='Timepoint',ref='96h')"
   ]
  },
  {
   "cell_type": "code",
   "execution_count": null,
   "id": "a9cbc85c",
   "metadata": {},
   "outputs": [],
   "source": [
    "dedf_SCRBseq = sc.get.rank_genes_groups_df(adata_SCRBseq, group=\"0h\")"
   ]
  },
  {
   "cell_type": "code",
   "execution_count": null,
   "id": "7783288d",
   "metadata": {},
   "outputs": [],
   "source": [
    "dedf_SCRBseq=dedf_SCRBseq[dedf_SCRBseq.pvals_adj<0.05]\n",
    "dedf_SCRBseq"
   ]
  },
  {
   "cell_type": "code",
   "execution_count": null,
   "id": "440b2837",
   "metadata": {},
   "outputs": [],
   "source": [
    "dedf_SCRBseq_0h=dedf_SCRBseq[dedf_SCRBseq.logfoldchanges>0].copy()\n",
    "dedf_SCRBseq_96h=dedf_SCRBseq[dedf_SCRBseq.logfoldchanges<0].copy()"
   ]
  },
  {
   "cell_type": "code",
   "execution_count": null,
   "id": "458984c1",
   "metadata": {},
   "outputs": [],
   "source": [
    "dedf_SCRBseq_0h.sort_values('pvals_adj',inplace=True)\n",
    "dedf_SCRBseq_96h.sort_values('pvals_adj',inplace=True)"
   ]
  },
  {
   "cell_type": "code",
   "execution_count": null,
   "id": "a6a44825",
   "metadata": {},
   "outputs": [],
   "source": [
    "'Caprin1' in list(dedf_SCRBseq_0h.iloc[:1000].names)"
   ]
  },
  {
   "cell_type": "code",
   "execution_count": null,
   "id": "4346082d",
   "metadata": {},
   "outputs": [],
   "source": [
    "print(len(caprin1_inter_0h),len(set(caprin1_inter_0h).intersection(set(dedf_SCRBseq_0h.iloc[:1000].names))))"
   ]
  },
  {
   "cell_type": "code",
   "execution_count": null,
   "id": "f4bb1bf3",
   "metadata": {},
   "outputs": [],
   "source": [
    "print(len(caprin1_inter_96h),len(set(caprin1_inter_96h).intersection(set(dedf_SCRBseq_96h.iloc[:1000].names))))"
   ]
  },
  {
   "cell_type": "code",
   "execution_count": null,
   "id": "b1a3af4c",
   "metadata": {},
   "outputs": [],
   "source": [
    "'Caprin1' in list(dedf_SCRBseq_96h.iloc[:1000].names)"
   ]
  },
  {
   "cell_type": "code",
   "execution_count": null,
   "id": "b0613564",
   "metadata": {},
   "outputs": [],
   "source": [
    "genes_0h=list(set(list(dedf_SCRBseq_0h.iloc[:1000].names)+list(adata_SCRBseq_0h_high_var.var_names)))\n",
    "genes_96h=list(set(list(dedf_SCRBseq_96h.iloc[:1000].names)+list(adata_SCRBseq_96h_high_var.var_names)))"
   ]
  },
  {
   "cell_type": "code",
   "execution_count": null,
   "id": "e2b9e8ba",
   "metadata": {},
   "outputs": [],
   "source": [
    "np.savetxt('SCRB_seq_0h_top1000_HVGs.txt',np.c_[list(adata_SCRBseq_0h_high_var.var_names)],fmt=\"%s\")\n",
    "np.savetxt('SCRB_seq_96h_top1000_HVGs.txt',np.c_[list(adata_SCRBseq_96h_high_var.var_names)],fmt=\"%s\")\n",
    "np.savetxt('SCRB_seq_0h_top1000_DEGs.txt',np.c_[list(dedf_SCRBseq_0h.iloc[:1000].names)],fmt=\"%s\")\n",
    "np.savetxt('SCRB_seq_96h_top1000_DEGs.txt',np.c_[list(dedf_SCRBseq_96h.iloc[:1000].names)],fmt=\"%s\")"
   ]
  },
  {
   "cell_type": "code",
   "execution_count": null,
   "id": "b498a10f",
   "metadata": {},
   "outputs": [],
   "source": [
    "len(genes_0h)"
   ]
  },
  {
   "cell_type": "code",
   "execution_count": null,
   "id": "8e5713a7",
   "metadata": {},
   "outputs": [],
   "source": [
    "for i in genes_0h:\n",
    "    if 'mt-' in i:\n",
    "        print(i)"
   ]
  },
  {
   "cell_type": "code",
   "execution_count": null,
   "id": "8d62849b",
   "metadata": {},
   "outputs": [],
   "source": [
    "for i in genes_96h:\n",
    "    if 'mt-' in i:\n",
    "        print(i)"
   ]
  },
  {
   "cell_type": "markdown",
   "id": "38d3098d",
   "metadata": {},
   "source": [
    "## Gene Selection"
   ]
  },
  {
   "cell_type": "code",
   "execution_count": null,
   "id": "684851cd",
   "metadata": {},
   "outputs": [],
   "source": [
    "from Bio import SeqIO\n",
    "gname=[]\n",
    "gid=[]\n",
    "f_open = open(\"/Users/jonathan/Desktop/IIT/INTERACTomics/scRNA-seq_data/Datasets_Applications/catRAPID_full_FEB2023/mmusculus_gene_ensembl_107_canonical.fa\", \"rU\")\n",
    "for rec in SeqIO.parse(f_open, \"fasta\"):\n",
    "    myid = rec.id\n",
    "    gname.append(myid.split('|')[4])\n",
    "    gid.append(myid.split('|')[0])\n"
   ]
  },
  {
   "cell_type": "code",
   "execution_count": null,
   "id": "d7602b78",
   "metadata": {},
   "outputs": [],
   "source": [
    "inters0h=list(set(gname).intersection(set(adata_SCRBseq_0h.var_names)))\n",
    "print(adata_SCRBseq_0h)\n",
    "adata_SCRBseq_0h=adata_SCRBseq_0h[:,inters0h].copy()\n",
    "print(adata_SCRBseq_0h)\n",
    "inters96h=list(set(gname).intersection(set(adata_SCRBseq_96h.var_names)))\n",
    "print(adata_SCRBseq_96h)\n",
    "adata_SCRBseq_96h=adata_SCRBseq_96h[:,inters96h].copy()\n",
    "print(adata_SCRBseq_96h)"
   ]
  },
  {
   "cell_type": "code",
   "execution_count": null,
   "id": "3c8277e7",
   "metadata": {},
   "outputs": [],
   "source": [
    "# Save the pseudotime\n",
    "import os\n",
    "\n",
    "input_data='./GENE_SELECTION/'\n",
    "\n",
    "if os.path.isdir(input_data)==False:\n",
    "    os.mkdir(input_data)"
   ]
  },
  {
   "cell_type": "code",
   "execution_count": null,
   "id": "542b3e22",
   "metadata": {},
   "outputs": [],
   "source": [
    "# Save the pseudotime data\n",
    "pseudo_df_0h=pd.DataFrame(data=adata_SCRBseq_0h.obs['dpt_pseudotime'], index=adata_SCRBseq_0h.obs_names)\n",
    "pseudo_df_0h.to_csv(input_data+'SCRBseq_0h_PseudoTime.csv')\n",
    "\n",
    "# Save the pseudotime data\n",
    "pseudo_df_96h=pd.DataFrame(data=adata_SCRBseq_96h.obs['dpt_pseudotime'], index=adata_SCRBseq_96h.obs_names)\n",
    "pseudo_df_96h.to_csv(input_data+'SCRBseq_96h_PseudoTime.csv')"
   ]
  },
  {
   "cell_type": "code",
   "execution_count": null,
   "id": "641833f1",
   "metadata": {},
   "outputs": [],
   "source": [
    "# Remove mito genes in the 0h and 96 h dataset\n",
    "print(adata_SCRBseq_0h)\n",
    "mito_genes = adata_SCRBseq_0h.var_names.str.startswith('mt-')\n",
    "adata_SCRBseq_0h=adata_SCRBseq_0h[:,~mito_genes].copy()\n",
    "print(adata_SCRBseq_0h)\n",
    "# print(len(adata_SCRBseq_0h.raw.var_names))\n",
    "\n"
   ]
  },
  {
   "cell_type": "code",
   "execution_count": null,
   "id": "2b108939",
   "metadata": {},
   "outputs": [],
   "source": [
    "# Compute the highly variable genes\n",
    "sc.pp.highly_variable_genes(adata_SCRBseq_0h)"
   ]
  },
  {
   "cell_type": "code",
   "execution_count": null,
   "id": "87a942a7",
   "metadata": {},
   "outputs": [],
   "source": [
    "# Remove mito genes in the 0h and 96 h dataset\n",
    "print(adata_SCRBseq_96h)\n",
    "mito_genes = adata_SCRBseq_96h.var_names.str.startswith('mt-')\n",
    "adata_SCRBseq_96h=adata_SCRBseq_96h[:,~mito_genes].copy()\n",
    "print(adata_SCRBseq_96h)\n",
    "\n",
    "# Compute the highly variable genes\n",
    "sc.pp.highly_variable_genes(adata_SCRBseq_96h)"
   ]
  },
  {
   "cell_type": "markdown",
   "id": "dd6c048c",
   "metadata": {},
   "source": [
    "## HVRBPs"
   ]
  },
  {
   "cell_type": "code",
   "execution_count": null,
   "id": "0802f8b5",
   "metadata": {},
   "outputs": [],
   "source": [
    "# Load the list of mouse RBPs from RBP2GO database\n",
    "mouse_RBPs=pd.read_csv(\"Table_MM_RBP.txt\",delimiter='\\t',skiprows=4)\n",
    "print(mouse_RBPs.RBP2GO_Score.min(),human_RBPs.RBP2GO_Score.max())\n",
    "len(mouse_RBPs)\n",
    "mouse_RBPs=mouse_RBPs[mouse_RBPs.RBP2GO_Score>=10]"
   ]
  },
  {
   "cell_type": "code",
   "execution_count": null,
   "id": "ca66c5ef",
   "metadata": {},
   "outputs": [],
   "source": [
    "HVRBPs_0h=['Caprin1']+list(set(mouse_RBPs.Gene_Name).intersection(set(adata_SCRBseq_0h.var[adata_SCRBseq_0h.var.highly_variable].index)))\n",
    "HVRBPs_96h=['Caprin1']+list(set(mouse_RBPs.Gene_Name).intersection(set(adata_SCRBseq_96h.var[adata_SCRBseq_96h.var.highly_variable].index)))\n",
    "print(len(HVRBPs_0h),len(HVRBPs_96h)) "
   ]
  },
  {
   "cell_type": "code",
   "execution_count": null,
   "id": "f2692ac8",
   "metadata": {},
   "outputs": [],
   "source": [
    "## Top 500 and 1000 HVGs\n",
    "sc.pp.highly_variable_genes(adata_SCRBseq_0h,n_top_genes=500)\n",
    "print(len(adata_SCRBseq_0h.var[adata_SCRBseq_0h.var.highly_variable].index))\n",
    "\n",
    "SCRBseq_0h_RBP_RNA500=list(set(HVRBPs_0h+list(adata_SCRBseq_0h.var[adata_SCRBseq_0h.var.highly_variable].index)))\n",
    "print(len(SCRBseq_0h_RBP_RNA500))\n",
    "\n",
    "sc.pp.highly_variable_genes(adata_SCRBseq_96h,n_top_genes=500)\n",
    "print(len(adata_SCRBseq_96h.var[adata_SCRBseq_96h.var.highly_variable].index))\n",
    "\n",
    "SCRBseq_96h_RBP_RNA500=list(set(HVRBPs_96h+list(adata_SCRBseq_96h.var[adata_SCRBseq_96h.var.highly_variable].index)))\n",
    "print(len(SCRBseq_96h_RBP_RNA500))"
   ]
  },
  {
   "cell_type": "code",
   "execution_count": null,
   "id": "1bdc3623",
   "metadata": {},
   "outputs": [],
   "source": [
    "## Top 500 and 1000 HVGs\n",
    "sc.pp.highly_variable_genes(adata_SCRBseq_0h,n_top_genes=1000)\n",
    "print(len(adata_SCRBseq_0h.var[adata_SCRBseq_0h.var.highly_variable].index))\n",
    "\n",
    "SCRBseq_0h_RBP_RNA1000=list(set(HVRBPs_0h+list(adata_SCRBseq_0h.var[adata_SCRBseq_0h.var.highly_variable].index)))\n",
    "print(len(SCRBseq_0h_RBP_RNA1000))\n",
    "\n",
    "sc.pp.highly_variable_genes(adata_SCRBseq_96h,n_top_genes=1000)\n",
    "print(len(adata_SCRBseq_96h.var[adata_SCRBseq_96h.var.highly_variable].index))\n",
    "\n",
    "SCRBseq_96h_RBP_RNA1000=list(set(HVRBPs_96h+list(adata_SCRBseq_96h.var[adata_SCRBseq_96h.var.highly_variable].index)))\n",
    "print(len(SCRBseq_96h_RBP_RNA1000))"
   ]
  },
  {
   "cell_type": "code",
   "execution_count": null,
   "id": "3c516779",
   "metadata": {},
   "outputs": [],
   "source": [
    "# Save the normalized data in a csv file\n",
    "tmp_df=pd.DataFrame(data=adata_SCRBseq_0h[:,SCRBseq_0h_RBP_RNA500].X.T,\n",
    "                    index=adata_SCRBseq_0h[:,SCRBseq_0h_RBP_RNA500].var_names,\n",
    "                    columns=adata_SCRBseq_0h[:,SCRBseq_0h_RBP_RNA500].obs_names)\n",
    "tmp_df.to_csv(input_data+'SCRBseq_0hNormalizedData_RBP_RNA500.csv')\n",
    "\n",
    "# Save the raw data in a csv file\n",
    "tmp_df=pd.DataFrame(data=adata_SCRBseq_0h_UMI[:, SCRBseq_0h_RBP_RNA500].X.T, \n",
    "                    index=adata_SCRBseq_0h_UMI[:, SCRBseq_0h_RBP_RNA500].var_names, \n",
    "                    columns=adata_SCRBseq_0h_UMI[:, SCRBseq_0h_RBP_RNA500].obs_names)\n",
    "tmp_df.to_csv(input_data+'SCRBseq_0hRawData_RBP_RNA500.csv')\n",
    "\n",
    "tmp_df=pd.DataFrame(data=adata_SCRBseq_0h[:,SCRBseq_0h_RBP_RNA1000].X.T,\n",
    "                    index=adata_SCRBseq_0h[:,SCRBseq_0h_RBP_RNA1000].var_names,\n",
    "                    columns=adata_SCRBseq_0h[:,SCRBseq_0h_RBP_RNA1000].obs_names)\n",
    "tmp_df.to_csv(input_data+'SCRBseq_0hNormalizedData_RBP_RNA1000.csv')\n",
    "\n",
    "# Save the raw data in a csv file\n",
    "tmp_df=pd.DataFrame(data=adata_SCRBseq_0h_UMI[:, SCRBseq_0h_RBP_RNA1000].X.T, \n",
    "                    index=adata_SCRBseq_0h_UMI[:, SCRBseq_0h_RBP_RNA1000].var_names, \n",
    "                    columns=adata_SCRBseq_0h_UMI[:, SCRBseq_0h_RBP_RNA1000].obs_names)\n",
    "tmp_df.to_csv(input_data+'SCRBseq_0hRawData_RBP_RNA1000.csv')\n",
    "\n",
    "# Save the normalized data in a csv file\n",
    "tmp_df=pd.DataFrame(data=adata_SCRBseq_96h[:,SCRBseq_96h_RBP_RNA500].X.T,\n",
    "                    index=adata_SCRBseq_96h[:,SCRBseq_96h_RBP_RNA500].var_names,\n",
    "                    columns=adata_SCRBseq_96h[:,SCRBseq_96h_RBP_RNA500].obs_names)\n",
    "tmp_df.to_csv(input_data+'SCRBseq_96hNormalizedData_RBP_RNA500.csv')\n",
    "\n",
    "# Save the raw data in a csv file\n",
    "tmp_df=pd.DataFrame(data=adata_SCRBseq_96h_UMI[:, SCRBseq_96h_RBP_RNA500].X.T, \n",
    "                    index=adata_SCRBseq_96h_UMI[:, SCRBseq_96h_RBP_RNA500].var_names, \n",
    "                    columns=adata_SCRBseq_96h_UMI[:, SCRBseq_96h_RBP_RNA500].obs_names)\n",
    "tmp_df.to_csv(input_data+'SCRBseq_96hRawData_RBP_RNA500.csv')\n",
    "\n",
    "tmp_df=pd.DataFrame(data=adata_SCRBseq_96h[:,SCRBseq_96h_RBP_RNA1000].X.T,\n",
    "                    index=adata_SCRBseq_96h[:,SCRBseq_96h_RBP_RNA1000].var_names,\n",
    "                    columns=adata_SCRBseq_96h[:,SCRBseq_96h_RBP_RNA1000].obs_names)\n",
    "tmp_df.to_csv(input_data+'SCRBseq_96hNormalizedData_RBP_RNA1000.csv')\n",
    "\n",
    "# Save the raw data in a csv file\n",
    "tmp_df=pd.DataFrame(data=adata_SCRBseq_96h_UMI[:, SCRBseq_96h_RBP_RNA1000].X.T, \n",
    "                    index=adata_SCRBseq_96h_UMI[:, SCRBseq_96h_RBP_RNA1000].var_names, \n",
    "                    columns=adata_SCRBseq_96h_UMI[:, SCRBseq_96h_RBP_RNA1000].obs_names)\n",
    "tmp_df.to_csv(input_data+'SCRBseq_96hRawData_RBP_RNA1000.csv')"
   ]
  },
  {
   "cell_type": "code",
   "execution_count": null,
   "id": "0f80efe0",
   "metadata": {},
   "outputs": [],
   "source": [
    "input_folder_aracne=input_data+'ARACNe_INPUT/'\n",
    "\n",
    "if os.path.isdir(input_folder_aracne)==False:\n",
    "    os.mkdir(input_folder_aracne)"
   ]
  },
  {
   "cell_type": "code",
   "execution_count": null,
   "id": "b159369a",
   "metadata": {},
   "outputs": [],
   "source": [
    "def SaveDataforARACNe(folder, adata, geneset, label1, label2):\n",
    "    adata_temp=ad.AnnData(X=adata[:,geneset].X)\n",
    "    adata_temp.obs_names=adata[:,geneset].obs_names\n",
    "    adata_temp.var_names=adata[:,geneset].var_names\n",
    "    adata_temp.obs['batch']=label1\n",
    "    adata_temp.write(folder+'processed_'+label1+'_'+label2+'.h5ad')"
   ]
  },
  {
   "cell_type": "code",
   "execution_count": null,
   "id": "cbc6e977",
   "metadata": {},
   "outputs": [],
   "source": [
    "SaveDataforARACNe(input_folder_aracne+'SCRBseq_0h_RBP_RNA500', adata_SCRBseq_0h_aracne, SCRBseq_0h_RBP_RNA500,\n",
    "         'SCRBseq_0h', 'RBP_RNA500')\n",
    "\n",
    "SaveDataforARACNe(input_folder_aracne+'SCRBseq_0h_RBP_RNA1000', adata_SCRBseq_0h_aracne, SCRBseq_0h_RBP_RNA1000,\n",
    "         'SCRBseq_0h', 'RBP_RNA1000')\n",
    "\n",
    "SaveDataforARACNe(input_folder_aracne+'SCRBseq_96h_RBP_RNA500', adata_SCRBseq_96h_aracne, SCRBseq_96h_RBP_RNA500,\n",
    "         'SCRBseq_96h', 'RBP_RNA500')\n",
    "\n",
    "SaveDataforARACNe(input_folder_aracne+'SCRBseq_96h_RBP_RNA1000', adata_SCRBseq_96h_aracne, SCRBseq_96h_RBP_RNA1000,\n",
    "         'SCRBseq_96h', 'RBP_RNA1000')"
   ]
  }
 ],
 "metadata": {
  "kernelspec": {
   "display_name": "INTERACTomics-venv",
   "language": "python",
   "name": "interactomics-venv"
  },
  "language_info": {
   "codemirror_mode": {
    "name": "ipython",
    "version": 3
   },
   "file_extension": ".py",
   "mimetype": "text/x-python",
   "name": "python",
   "nbconvert_exporter": "python",
   "pygments_lexer": "ipython3",
   "version": "3.7.7"
  },
  "toc": {
   "base_numbering": 1,
   "nav_menu": {},
   "number_sections": true,
   "sideBar": true,
   "skip_h1_title": false,
   "title_cell": "Table of Contents",
   "title_sidebar": "Contents",
   "toc_cell": false,
   "toc_position": {
    "height": "calc(100% - 180px)",
    "left": "10px",
    "top": "150px",
    "width": "396.63751220703125px"
   },
   "toc_section_display": true,
   "toc_window_display": true
  }
 },
 "nbformat": 4,
 "nbformat_minor": 5
}
