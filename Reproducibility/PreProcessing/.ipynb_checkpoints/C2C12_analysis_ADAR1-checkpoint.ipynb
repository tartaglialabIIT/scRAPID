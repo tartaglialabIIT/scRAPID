{
 "cells": [
  {
   "cell_type": "markdown",
   "id": "b34d2e08",
   "metadata": {},
   "source": [
    "# Analysis of scRNA-seq and snRNA-seq datasets of myogenic differentiation in C2C12 cell line"
   ]
  },
  {
   "cell_type": "markdown",
   "id": "29a1cac0",
   "metadata": {},
   "source": [
    "Here we analyze a SPLiT-seq dataset applied to the C2C12 myogenic system [https://genomebiology.biomedcentral.com/articles/10.1186/s13059-021-02505](https://genomebiology.biomedcentral.com/articles/10.1186/s13059-021-02505), recapitulating myoblasts to myotube differentiation. \n",
    "\n",
    "The dataset includes single-cell RNA-seq of myoblasts (0h of differentiation), single-nuclei RNA-seq of myoblasts (0h of differentiation) and single-nuclei RNA-seq of myotubes (72h of differentiation) and it is available on GEO with accession number [GSE168776](https://www.ncbi.nlm.nih.gov/geo/query/acc.cgi?acc=GSE168776). \n",
    "\n",
    "In our analyses we used the 9000-cell library of the short-read SPLiT-seq dataset, selecting the batch C since it has the highest median UMI count and gene count per cell. It includes 1305 single myoblast cells, 1718 single myoblast nuclei and 3288 single myotube nuclei. We compute a diffusion map as described above and we choose as root cell for the computation of the diffusion pseudotime the myoblast cell with the largest value of Diffusion Component 1 in the diffusion map. \n",
    "\n",
    "Next, we separated the three cell populations (single-cell myoblasts, single-nuclei myoblasts and single-nuclei myotubes) and we performed selection of the top 500 and 1000 HVGs prior to GRN inference in each population independently. \n",
    "We used the mouse RBPs included in the “RBP2GO” database [https://pubmed.ncbi.nlm.nih.gov/33196814/](https://pubmed.ncbi.nlm.nih.gov/33196814/), with RBP2GO score larger than 10, and we added to each dataset the RBPs that belong to the full set of the HVGs (i.e. genes that are statistically significant according to the statistical test performed using the Scanpy function “scanpy.pp.highly_variable_genes”, without setting the parameter “n_top_genes”). We manually added ADAR1 to the gene set for GRN inference for the datasets in which it does not belong to the set of HVGs. GRN inference on the processed datasets was run as described above. \n",
    "Next, we obtained RBP-RNA interactions for ADAR1 from a native RNA immunoprecipitation (RIP) combined with RNA-Seq (RIP-Seq) experiment presented in [https://www.ncbi.nlm.nih.gov/pmc/articles/PMC3978302/](https://www.ncbi.nlm.nih.gov/pmc/articles/PMC3978302/), which has been performed in the same cell line (C2C12) and corresponding time points (0h and 72h) as the scRNA-seq dataset. In this study, 3263 and 401 ADAR1 targets were found at 0h and 72 h, respectively. We highlight that the targets were defined based on the log2 fold change of the binding enrichment between the two time points, hence they represent specific targets for the given time point. \n",
    "We evaluated the performance of each GRN inference method in predicting ADAR1 RIP-seq interactions before and after the filter of the rankings using catRAPID with the same pipeline and evaluation metrics described above."
   ]
  },
  {
   "cell_type": "code",
   "execution_count": null,
   "id": "49969ccb",
   "metadata": {},
   "outputs": [],
   "source": [
    "%matplotlib inline"
   ]
  },
  {
   "cell_type": "code",
   "execution_count": null,
   "id": "6c23a036",
   "metadata": {},
   "outputs": [],
   "source": [
    "import numpy as np\n",
    "import pandas as pd\n",
    "import scanpy as sc\n",
    "import anndata as ad"
   ]
  },
  {
   "cell_type": "markdown",
   "id": "1f3e0845",
   "metadata": {},
   "source": [
    "## Load mouse RBPs from RBP2GO"
   ]
  },
  {
   "cell_type": "code",
   "execution_count": null,
   "id": "46b0038f",
   "metadata": {},
   "outputs": [],
   "source": [
    "mouse_RBPs=pd.read_csv(\"Table_MM_RBP.txt\",delimiter=\"\\t\",skiprows=4)\n",
    "mouse_RBPs=mouse_RBPs[mouse_RBPs['RBP2GO_Score']>10]\n",
    "len(mouse_RBPs)"
   ]
  },
  {
   "cell_type": "markdown",
   "id": "d3268958",
   "metadata": {},
   "source": [
    "# Analysis of SR-Split-seq data"
   ]
  },
  {
   "cell_type": "code",
   "execution_count": null,
   "id": "5445f7c8",
   "metadata": {},
   "outputs": [],
   "source": [
    "metadata_short_1k=pd.read_csv(\"./C2C12_short_1k/GSM5169184_C2C12_short_1k_cell_metadata.csv.gz\")\n",
    "metadata_short_9kA=pd.read_csv(\"./C2C12_short_9kA/GSM5169185_C2C12_short_9kA_cell_metadata.csv.gz\")\n",
    "metadata_short_9kB=pd.read_csv(\"./C2C12_short_9kB/GSM5169186_C2C12_short_9kB_cell_metadata.csv.gz\")\n",
    "metadata_short_9kC=pd.read_csv(\"./C2C12_short_9kC/GSM5169187_C2C12_short_9kC_cell_metadata.csv.gz\")\n",
    "metadata_short_9kD=pd.read_csv(\"./C2C12_short_9kD/GSM5169188_C2C12_short_9kD_cell_metadata.csv.gz\")\n",
    "metadata_short_9kE=pd.read_csv(\"./C2C12_short_9kE/GSM5169189_C2C12_short_9kE_cell_metadata.csv.gz\")\n",
    "metadata_short_9kF=pd.read_csv(\"./C2C12_short_9kF/GSM5169190_C2C12_short_9kF_cell_metadata.csv.gz\")"
   ]
  },
  {
   "cell_type": "code",
   "execution_count": null,
   "id": "64afdf09",
   "metadata": {},
   "outputs": [],
   "source": [
    "metadata_short_1k['sample'].value_counts()"
   ]
  },
  {
   "cell_type": "code",
   "execution_count": null,
   "id": "b365b9d7",
   "metadata": {},
   "outputs": [],
   "source": [
    "metadata_short_9kA['sample'].value_counts()"
   ]
  },
  {
   "cell_type": "code",
   "execution_count": null,
   "id": "19e902e9",
   "metadata": {},
   "outputs": [],
   "source": [
    "metadata_short_9kB['sample'].value_counts()"
   ]
  },
  {
   "cell_type": "code",
   "execution_count": null,
   "id": "7b462c30",
   "metadata": {},
   "outputs": [],
   "source": [
    "metadata_short_9kC['sample'].value_counts()"
   ]
  },
  {
   "cell_type": "code",
   "execution_count": null,
   "id": "a911a868",
   "metadata": {},
   "outputs": [],
   "source": [
    "metadata_short_9kD['sample'].value_counts()"
   ]
  },
  {
   "cell_type": "code",
   "execution_count": null,
   "id": "690e10c3",
   "metadata": {},
   "outputs": [],
   "source": [
    "metadata_short_9kE['sample'].value_counts()"
   ]
  },
  {
   "cell_type": "code",
   "execution_count": null,
   "id": "611aa4bc",
   "metadata": {},
   "outputs": [],
   "source": [
    "metadata_short_9kF['sample'].value_counts()"
   ]
  },
  {
   "cell_type": "code",
   "execution_count": null,
   "id": "e29a2aae",
   "metadata": {},
   "outputs": [],
   "source": [
    "print(\"Median UMI count\")\n",
    "print(metadata_short_1k.umi_count.median(),metadata_short_9kA.umi_count.median(),\n",
    "      metadata_short_9kB.umi_count.median(),metadata_short_9kC.umi_count.median(),\n",
    "      metadata_short_9kD.umi_count.median(),metadata_short_9kE.umi_count.median(),\n",
    "      metadata_short_9kF.umi_count.median())\n",
    "\n",
    "print(\"Median Gene count\")\n",
    "print(metadata_short_1k.gene_count.median(),metadata_short_9kA.gene_count.median(),\n",
    "      metadata_short_9kB.gene_count.median(),metadata_short_9kC.gene_count.median(),\n",
    "      metadata_short_9kD.gene_count.median(),metadata_short_9kE.gene_count.median(),\n",
    "      metadata_short_9kF.gene_count.median())"
   ]
  },
  {
   "cell_type": "markdown",
   "id": "226b9cc1",
   "metadata": {},
   "source": [
    "We use the 9kC sample"
   ]
  },
  {
   "cell_type": "code",
   "execution_count": null,
   "id": "59f5cb0a",
   "metadata": {},
   "outputs": [],
   "source": [
    "def SaveDataforARACNe(folder, adata, geneset, label1, label2):\n",
    "    adata_temp=ad.AnnData(X=adata[:,geneset].X)\n",
    "    adata_temp.obs_names=adata[:,geneset].obs_names\n",
    "    adata_temp.var_names=adata[:,geneset].var_names\n",
    "    adata_temp.obs['batch']=label1\n",
    "    adata_temp.write(folder+'processed_'+label1+'_'+label2+'.h5ad')"
   ]
  },
  {
   "cell_type": "markdown",
   "id": "699d2e22",
   "metadata": {},
   "source": [
    "## 9kC sample"
   ]
  },
  {
   "cell_type": "code",
   "execution_count": null,
   "id": "6c247d65",
   "metadata": {},
   "outputs": [],
   "source": [
    "adata_short_9k=ad.read_mtx(\"./C2C12_short_9kC/GSM5169187_C2C12_short_9kC.genes.mtx.gz\")\n",
    "genes_short_9k=pd.read_csv(\"./C2C12_short_9kC/GSM5169187_C2C12_short_9kC_genes.csv.gz\")"
   ]
  },
  {
   "cell_type": "code",
   "execution_count": null,
   "id": "a104a30e",
   "metadata": {},
   "outputs": [],
   "source": [
    "metadata_short_9kC=metadata_short_9kC.set_index('cell_barcode')"
   ]
  },
  {
   "cell_type": "code",
   "execution_count": null,
   "id": "09264c40",
   "metadata": {},
   "outputs": [],
   "source": [
    "metadata_short_9kC.umi_count.median()"
   ]
  },
  {
   "cell_type": "code",
   "execution_count": null,
   "id": "22ccd590",
   "metadata": {},
   "outputs": [],
   "source": [
    "adata_short_9k.obs=metadata_short_9kC.copy()\n",
    "adata_short_9k.obs.index=adata_short_9k.obs.index.astype(str)\n",
    "adata_short_9k.var.index=list(genes_short_9k.gene_name)\n",
    "adata_short_9k.var.index=adata_short_9k.var.index.astype(str)\n",
    "adata_short_9k.obs_names=adata_short_9k.obs.index\n",
    "adata_short_9k.var_names=adata_short_9k.var.index\n",
    "adata_short_9k.var_names_make_unique()"
   ]
  },
  {
   "cell_type": "code",
   "execution_count": null,
   "id": "929adde5",
   "metadata": {},
   "outputs": [],
   "source": [
    "print(adata_short_9k)\n",
    "inters=list(set(adata_short_9k.var_names).intersection(set(mymapping.old_GN)))\n",
    "len(inters)\n",
    "adata_short_9k=adata_short_9k[:,inters].copy()\n",
    "adata_short_9k.var_names=adata_short_9k.var_names.map(mydict)\n",
    "adata_short_9k.var_names_make_unique()\n",
    "adata_short_9k"
   ]
  },
  {
   "cell_type": "code",
   "execution_count": null,
   "id": "d680bba1",
   "metadata": {},
   "outputs": [],
   "source": [
    "# Remove mito genes\n",
    "print(adata_short_9k)\n",
    "mito_genes = adata_short_9k.var_names.str.startswith('mt-')\n",
    "adata_short_9k=adata_short_9k[:,~mito_genes].copy()\n",
    "print(adata_short_9k)"
   ]
  },
  {
   "cell_type": "code",
   "execution_count": null,
   "id": "176d7df2",
   "metadata": {},
   "outputs": [],
   "source": [
    "adata_short_9k.obs['sample'].value_counts()"
   ]
  },
  {
   "cell_type": "code",
   "execution_count": null,
   "id": "e62f97da",
   "metadata": {},
   "outputs": [],
   "source": [
    "adata_short9k_UMI=adata_short_9k.copy()\n",
    "sc.pp.normalize_total(adata_short_9k,target_sum=1e5)\n",
    "sc.pp.log1p(adata_short_9k)\n",
    "adata_short_9k.raw=adata_short_9k"
   ]
  },
  {
   "cell_type": "code",
   "execution_count": null,
   "id": "47b462a5",
   "metadata": {},
   "outputs": [],
   "source": [
    "adata_short_9k"
   ]
  },
  {
   "cell_type": "code",
   "execution_count": null,
   "id": "c3016c0c",
   "metadata": {},
   "outputs": [],
   "source": [
    "sc.pp.highly_variable_genes(adata_short_9k,n_top_genes=3000)\n",
    "adata_short_9k=adata_short_9k[:,adata_short_9k.var.highly_variable].copy()\n",
    "sc.pp.scale(adata_short_9k)\n",
    "sc.tl.pca(adata_short_9k,svd_solver='arpack')\n",
    "sc.pp.neighbors(adata_short_9k)\n",
    "sc.tl.umap(adata_short_9k)\n",
    "sc.tl.diffmap(adata_short_9k)\n",
    "sc.pl.umap(adata_short_9k,color='sample')\n",
    "sc.pl.diffmap(adata_short_9k,color='sample')"
   ]
  },
  {
   "cell_type": "code",
   "execution_count": null,
   "id": "8f3f7de0",
   "metadata": {},
   "outputs": [],
   "source": [
    "adata_short_9k.uns['iroot'] = np.argmax(adata_short_9k.obsm['X_diffmap'][:,1])\n",
    "sc.tl.dpt(adata_short_9k)"
   ]
  },
  {
   "cell_type": "code",
   "execution_count": null,
   "id": "661d92e3",
   "metadata": {},
   "outputs": [],
   "source": [
    "sc.pl.diffmap(adata_short_9k,color=['sample','dpt_pseudotime'],wspace=0.3,save=\"C2C12_diffmap.pdf\")"
   ]
  },
  {
   "cell_type": "code",
   "execution_count": null,
   "id": "bb84e554",
   "metadata": {},
   "outputs": [],
   "source": [
    "adata_short9k_new=ad.AnnData(X=adata_short_9k.raw.X)\n",
    "adata_short9k_new.var_names=adata_short_9k.raw.var_names\n",
    "adata_short9k_new.obs_names=adata_short_9k.obs_names\n",
    "adata_short9k_new.obs=adata_short_9k.obs.copy()"
   ]
  },
  {
   "cell_type": "code",
   "execution_count": null,
   "id": "6a95a165",
   "metadata": {},
   "outputs": [],
   "source": [
    "# Separate myoblasts single cells, myoblasts single nuclei and myotubes single nuclei\n",
    "adata_short9k_MB_SC=adata_short9k_new[adata_short9k_new.obs['sample']=='MB_cells'].copy()\n",
    "adata_short9k_MB_SN=adata_short9k_new[adata_short9k_new.obs['sample']=='MB_nuclei'].copy()\n",
    "adata_short9k_MT_SN=adata_short9k_new[adata_short9k_new.obs['sample']=='MT_nuclei'].copy()\n",
    "\n",
    "adata_short9k_UMI_MB_SC=adata_short9k_UMI[adata_short9k_UMI.obs['sample']=='MB_cells'].copy()\n",
    "adata_short9k_UMI_MB_SN=adata_short9k_UMI[adata_short9k_UMI.obs['sample']=='MB_nuclei'].copy()\n",
    "adata_short9k_UMI_MT_SN=adata_short9k_UMI[adata_short9k_UMI.obs['sample']=='MT_nuclei'].copy()"
   ]
  },
  {
   "cell_type": "markdown",
   "id": "bf3f1495",
   "metadata": {},
   "source": [
    "### GENE SELECTION"
   ]
  },
  {
   "cell_type": "code",
   "execution_count": null,
   "id": "7dccd22a",
   "metadata": {},
   "outputs": [],
   "source": [
    "out_folder_SR9k=out_folder+'SR9k/'\n",
    "\n",
    "if os.path.isdir(out_folder_SR9k)==False:\n",
    "    os.mkdir(out_folder_SR9k)"
   ]
  },
  {
   "cell_type": "code",
   "execution_count": null,
   "id": "f6228a63",
   "metadata": {},
   "outputs": [],
   "source": [
    "out_folder_aracne_SR9k=out_folder_SR9k+'ARACNe_INPUT/'\n",
    "\n",
    "if os.path.isdir(out_folder_aracne_SR9k)==False:\n",
    "    os.mkdir(out_folder_aracne_SR9k)"
   ]
  },
  {
   "cell_type": "code",
   "execution_count": null,
   "id": "b87b19b2",
   "metadata": {},
   "outputs": [],
   "source": [
    "adata_short9k_UMI_MB_SC.write(out_folder_aracne_SR9k+'SR9kMBSC_UMI.h5ad')\n",
    "adata_short9k_UMI_MB_SN.write(out_folder_aracne_SR9k+'SR9kMBSN_UMI.h5ad')\n",
    "adata_short9k_UMI_MT_SN.write(out_folder_aracne_SR9k+'SR9kMTSN_UMI.h5ad')"
   ]
  },
  {
   "cell_type": "code",
   "execution_count": null,
   "id": "9d401407",
   "metadata": {},
   "outputs": [],
   "source": [
    "# Save the pseudotime data\n",
    "pseudo_df_MB_SC=pd.DataFrame(data=adata_short9k_MB_SC.obs['dpt_pseudotime'], index=adata_short9k_MB_SC.obs_names)\n",
    "pseudo_df_MB_SC.to_csv(out_folder_SR9k+'C2C12_SR9kMBSC_PseudoTime.csv')\n",
    "pseudo_df_MB_SN=pd.DataFrame(data=adata_short9k_MB_SN.obs['dpt_pseudotime'], index=adata_short9k_MB_SN.obs_names)\n",
    "pseudo_df_MB_SN.to_csv(out_folder_SR9k+'C2C12_SR9kMBSN_PseudoTime.csv')\n",
    "pseudo_df_MT_SN=pd.DataFrame(data=adata_short9k_MT_SN.obs['dpt_pseudotime'], index=adata_short9k_MT_SN.obs_names)\n",
    "pseudo_df_MT_SN.to_csv(out_folder_SR9k+'C2C12_SR9kMTSN_PseudoTime.csv')"
   ]
  },
  {
   "cell_type": "markdown",
   "id": "ea89d48d",
   "metadata": {},
   "source": [
    "### Myoblasts - single cells"
   ]
  },
  {
   "cell_type": "code",
   "execution_count": null,
   "id": "5d9cb42c",
   "metadata": {},
   "outputs": [],
   "source": [
    "adata_short9k_MB_SC_new=ad.AnnData(X=adata_short9k_MB_SC.X)\n",
    "adata_short9k_MB_SC_new.var_names=adata_short9k_MB_SC.var_names\n",
    "adata_short9k_MB_SC_new.obs_names=adata_short9k_MB_SC.obs_names\n",
    "sc.pp.filter_genes(adata_short9k_MB_SC_new,min_cells=10)\n",
    "sc.pp.highly_variable_genes(adata_short9k_MB_SC_new,max_mean=10)"
   ]
  },
  {
   "cell_type": "code",
   "execution_count": null,
   "id": "bfe57b74",
   "metadata": {},
   "outputs": [],
   "source": [
    "adata_short9k_MB_SC_new"
   ]
  },
  {
   "cell_type": "code",
   "execution_count": null,
   "id": "bade9580",
   "metadata": {},
   "outputs": [],
   "source": [
    "adata_short9k_MB_SC_new.var.highly_variable.value_counts()"
   ]
  },
  {
   "cell_type": "code",
   "execution_count": null,
   "id": "b8833dc1",
   "metadata": {},
   "outputs": [],
   "source": [
    "HVRBPs_MB_SC=list(set(mouse_RBPs.Gene_Name).intersection(set(adata_short9k_MB_SC_new[:,adata_short9k_MB_SC_new.var.highly_variable].var_names)))\n",
    "print(len(HVRBPs_MB_SC))\n",
    "HVRBPs_MB_SC=list(set(['Adar']+HVRBPs_MB_SC))\n",
    "print(len(HVRBPs_MB_SC))"
   ]
  },
  {
   "cell_type": "code",
   "execution_count": null,
   "id": "45588e6c",
   "metadata": {},
   "outputs": [],
   "source": [
    "adata_tmp=adata_short9k_MB_SC_new.copy()\n",
    "sc.pp.highly_variable_genes(adata_tmp,max_mean=10,n_top_genes=500)\n",
    "\n",
    "SR_MB_SC_RBP_RNA500=list(set(list(HVRBPs_MB_SC)+list(adata_tmp[:,adata_tmp.var.highly_variable].var_names)))\n",
    "print(len(SR_MB_SC_RBP_RNA500))\n",
    "\n",
    "all_genes=list(set(all_genes+SR_MB_SC_RBP_RNA500))\n",
    "\n",
    "\n",
    "\n",
    "tmp_df=pd.DataFrame(data=adata_short9k_MB_SC_new[:,SR_MB_SC_RBP_RNA500].X.todense().T,\n",
    "                    index=adata_short9k_MB_SC_new[:,SR_MB_SC_RBP_RNA500].var_names,\n",
    "                    columns=adata_short9k_MB_SC_new[:,SR_MB_SC_RBP_RNA500].obs_names)\n",
    "tmp_df.to_csv(out_folder_SR9k+'C2C12_SR9kMBSCNormalizedData_RBP_RNA500.csv')\n",
    "\n",
    "# Save the raw data in a csv file\n",
    "tmp_df=pd.DataFrame(data=adata_short9k_UMI_MB_SC[:, SR_MB_SC_RBP_RNA500].X.todense().T, \n",
    "                    index=adata_short9k_UMI_MB_SC[:, SR_MB_SC_RBP_RNA500].var_names, \n",
    "                    columns=adata_short9k_UMI_MB_SC[:, SR_MB_SC_RBP_RNA500].obs_names)\n",
    "tmp_df.to_csv(out_folder_SR9k+'C2C12_SR9kMBSCRawData_RBP_RNA500.csv')"
   ]
  },
  {
   "cell_type": "code",
   "execution_count": null,
   "id": "7671945c",
   "metadata": {},
   "outputs": [],
   "source": [
    "adata_tmp=adata_short9k_MB_SC_new.copy()\n",
    "sc.pp.highly_variable_genes(adata_tmp,max_mean=10,n_top_genes=1000)\n",
    "\n",
    "SR_MB_SC_RBP_RNA1000=list(set(list(HVRBPs_MB_SC)+list(adata_tmp[:,adata_tmp.var.highly_variable].var_names)))\n",
    "print(len(SR_MB_SC_RBP_RNA1000))\n",
    "\n",
    "all_genes=list(set(all_genes+SR_MB_SC_RBP_RNA1000))\n",
    "\n",
    "tmp_df=pd.DataFrame(data=adata_short9k_MB_SC_new[:,SR_MB_SC_RBP_RNA1000].X.todense().T,\n",
    "                    index=adata_short9k_MB_SC_new[:,SR_MB_SC_RBP_RNA1000].var_names,\n",
    "                    columns=adata_short9k_MB_SC_new[:,SR_MB_SC_RBP_RNA1000].obs_names)\n",
    "tmp_df.to_csv(out_folder_SR9k+'C2C12_SR9kMBSCNormalizedData_RBP_RNA1000.csv')\n",
    "\n",
    "# Save the raw data in a csv file\n",
    "tmp_df=pd.DataFrame(data=adata_short9k_UMI_MB_SC[:, SR_MB_SC_RBP_RNA1000].X.todense().T, \n",
    "                    index=adata_short9k_UMI_MB_SC[:, SR_MB_SC_RBP_RNA1000].var_names, \n",
    "                    columns=adata_short9k_UMI_MB_SC[:, SR_MB_SC_RBP_RNA1000].obs_names)\n",
    "tmp_df.to_csv(out_folder_SR9k+'C2C12_SR9kMBSCRawData_RBP_RNA1000.csv')"
   ]
  },
  {
   "cell_type": "code",
   "execution_count": null,
   "id": "8cb13cd8",
   "metadata": {},
   "outputs": [],
   "source": [
    "adata_tmp=adata_short9k_MB_SC_new.copy()\n",
    "sc.pp.highly_variable_genes(adata_tmp,max_mean=10)\n",
    "\n",
    "SR_MB_SC_RBP_RNAHVG=list(set(list(HVRBPs_MB_SC)+list(adata_tmp[:,adata_tmp.var.highly_variable].var_names)))\n",
    "print(len(SR_MB_SC_RBP_RNAHVG))\n",
    "\n",
    "all_genes=list(set(all_genes+SR_MB_SC_RBP_RNAHVG))\n",
    "\n",
    "tmp_df=pd.DataFrame(data=adata_short9k_MB_SC_new[:,SR_MB_SC_RBP_RNAHVG].X.todense().T,\n",
    "                    index=adata_short9k_MB_SC_new[:,SR_MB_SC_RBP_RNAHVG].var_names,\n",
    "                    columns=adata_short9k_MB_SC_new[:,SR_MB_SC_RBP_RNAHVG].obs_names)\n",
    "tmp_df.to_csv(out_folder_SR9k+'C2C12_SR9kMBSCNormalizedData_RBP_RNAHVG.csv')\n",
    "\n",
    "# Save the raw data in a csv file\n",
    "tmp_df=pd.DataFrame(data=adata_short9k_UMI_MB_SC[:, SR_MB_SC_RBP_RNAHVG].X.todense().T, \n",
    "                    index=adata_short9k_UMI_MB_SC[:, SR_MB_SC_RBP_RNAHVG].var_names, \n",
    "                    columns=adata_short9k_UMI_MB_SC[:, SR_MB_SC_RBP_RNAHVG].obs_names)\n",
    "tmp_df.to_csv(out_folder_SR9k+'C2C12_SR9kMBSCRawData_RBP_RNAHVG.csv')"
   ]
  },
  {
   "cell_type": "markdown",
   "id": "caf0b3d5",
   "metadata": {},
   "source": [
    "### Myoblasts - single nuclei"
   ]
  },
  {
   "cell_type": "code",
   "execution_count": null,
   "id": "47376342",
   "metadata": {},
   "outputs": [],
   "source": [
    "adata_short9k_MB_SN_new=ad.AnnData(X=adata_short9k_MB_SN.X)\n",
    "adata_short9k_MB_SN_new.var_names=adata_short9k_MB_SN.var_names\n",
    "adata_short9k_MB_SN_new.obs_names=adata_short9k_MB_SN.obs_names\n",
    "sc.pp.filter_genes(adata_short9k_MB_SN_new,min_cells=10)\n",
    "sc.pp.highly_variable_genes(adata_short9k_MB_SN_new,max_mean=10)"
   ]
  },
  {
   "cell_type": "code",
   "execution_count": null,
   "id": "e37dc2ff",
   "metadata": {},
   "outputs": [],
   "source": [
    "adata_short9k_MB_SN_new.var.highly_variable.value_counts()"
   ]
  },
  {
   "cell_type": "code",
   "execution_count": null,
   "id": "36f810d8",
   "metadata": {},
   "outputs": [],
   "source": [
    "HVRBPs_MB_SN=list(set(mouse_RBPs.Gene_Name).intersection(set(adata_short9k_MB_SN_new[:,adata_short9k_MB_SN_new.var.highly_variable].var_names)))\n",
    "print(len(HVRBPs_MB_SN))\n",
    "HVRBPs_MB_SN=list(set(['Adar']+HVRBPs_MB_SN))\n",
    "print(len(HVRBPs_MB_SN))"
   ]
  },
  {
   "cell_type": "code",
   "execution_count": null,
   "id": "b2850c38",
   "metadata": {},
   "outputs": [],
   "source": [
    "adata_tmp=adata_short9k_MB_SN_new.copy()\n",
    "sc.pp.highly_variable_genes(adata_tmp,max_mean=10,n_top_genes=500)\n",
    "\n",
    "SR_MB_SN_RBP_RNA500=list(set(list(HVRBPs_MB_SN)+list(adata_tmp[:,adata_tmp.var.highly_variable].var_names)))\n",
    "print(len(SR_MB_SN_RBP_RNA500))\n",
    "\n",
    "all_genes=list(set(all_genes+SR_MB_SN_RBP_RNA500))\n",
    "\n",
    "tmp_df=pd.DataFrame(data=adata_short9k_MB_SN_new[:,SR_MB_SN_RBP_RNA500].X.todense().T,\n",
    "                    index=adata_short9k_MB_SN_new[:,SR_MB_SN_RBP_RNA500].var_names,\n",
    "                    columns=adata_short9k_MB_SN_new[:,SR_MB_SN_RBP_RNA500].obs_names)\n",
    "tmp_df.to_csv(out_folder_SR9k+'C2C12_SR9kMBSNNormalizedData_RBP_RNA500.csv')\n",
    "\n",
    "# Save the raw data in a csv file\n",
    "tmp_df=pd.DataFrame(data=adata_short9k_UMI_MB_SN[:, SR_MB_SN_RBP_RNA500].X.todense().T, \n",
    "                    index=adata_short9k_UMI_MB_SN[:, SR_MB_SN_RBP_RNA500].var_names, \n",
    "                    columns=adata_short9k_UMI_MB_SN[:, SR_MB_SN_RBP_RNA500].obs_names)\n",
    "tmp_df.to_csv(out_folder_SR9k+'C2C12_SR9kMBSNRawData_RBP_RNA500.csv')"
   ]
  },
  {
   "cell_type": "code",
   "execution_count": null,
   "id": "5a82ddfb",
   "metadata": {},
   "outputs": [],
   "source": [
    "adata_tmp=adata_short9k_MB_SN_new.copy()\n",
    "sc.pp.highly_variable_genes(adata_tmp,max_mean=10,n_top_genes=1000)\n",
    "\n",
    "SR_MB_SN_RBP_RNA1000=list(set(list(HVRBPs_MB_SN)+list(adata_tmp[:,adata_tmp.var.highly_variable].var_names)))\n",
    "print(len(SR_MB_SN_RBP_RNA1000))\n",
    "\n",
    "all_genes=list(set(all_genes+SR_MB_SN_RBP_RNA1000))\n",
    "\n",
    "tmp_df=pd.DataFrame(data=adata_short9k_MB_SN_new[:,SR_MB_SN_RBP_RNA1000].X.todense().T,\n",
    "                    index=adata_short9k_MB_SN_new[:,SR_MB_SN_RBP_RNA1000].var_names,\n",
    "                    columns=adata_short9k_MB_SN_new[:,SR_MB_SN_RBP_RNA1000].obs_names)\n",
    "tmp_df.to_csv(out_folder_SR9k+'C2C12_SR9kMBSNNormalizedData_RBP_RNA1000.csv')\n",
    "\n",
    "# Save the raw data in a csv file\n",
    "tmp_df=pd.DataFrame(data=adata_short9k_UMI_MB_SN[:, SR_MB_SN_RBP_RNA1000].X.todense().T, \n",
    "                    index=adata_short9k_UMI_MB_SN[:, SR_MB_SN_RBP_RNA1000].var_names, \n",
    "                    columns=adata_short9k_UMI_MB_SN[:, SR_MB_SN_RBP_RNA1000].obs_names)\n",
    "tmp_df.to_csv(out_folder_SR9k+'C2C12_SR9kMBSNRawData_RBP_RNA1000.csv')"
   ]
  },
  {
   "cell_type": "code",
   "execution_count": null,
   "id": "85071cfd",
   "metadata": {},
   "outputs": [],
   "source": [
    "adata_tmp=adata_short9k_MB_SN_new.copy()\n",
    "sc.pp.highly_variable_genes(adata_tmp,max_mean=10)\n",
    "\n",
    "SR_MB_SN_RBP_RNAHVG=list(set(list(HVRBPs_MB_SN)+list(adata_tmp[:,adata_tmp.var.highly_variable].var_names)))\n",
    "print(len(SR_MB_SN_RBP_RNAHVG))\n",
    "\n",
    "all_genes=list(set(all_genes+SR_MB_SN_RBP_RNAHVG))\n",
    "\n",
    "tmp_df=pd.DataFrame(data=adata_short9k_MB_SN_new[:,SR_MB_SN_RBP_RNAHVG].X.todense().T,\n",
    "                    index=adata_short9k_MB_SN_new[:,SR_MB_SN_RBP_RNAHVG].var_names,\n",
    "                    columns=adata_short9k_MB_SN_new[:,SR_MB_SN_RBP_RNAHVG].obs_names)\n",
    "tmp_df.to_csv(out_folder_SR9k+'C2C12_SR9kMBSNNormalizedData_RBP_RNAHVG.csv')\n",
    "\n",
    "# Save the raw data in a csv file\n",
    "tmp_df=pd.DataFrame(data=adata_short9k_UMI_MB_SN[:, SR_MB_SN_RBP_RNAHVG].X.todense().T, \n",
    "                    index=adata_short9k_UMI_MB_SN[:, SR_MB_SN_RBP_RNAHVG].var_names, \n",
    "                    columns=adata_short9k_UMI_MB_SN[:, SR_MB_SN_RBP_RNAHVG].obs_names)\n",
    "tmp_df.to_csv(out_folder_SR9k+'C2C12_SR9kMBSNRawData_RBP_RNAHVG.csv')"
   ]
  },
  {
   "cell_type": "markdown",
   "id": "7a1390a3",
   "metadata": {},
   "source": [
    "### Myotubes - Single nuclei"
   ]
  },
  {
   "cell_type": "code",
   "execution_count": null,
   "id": "5179b6fe",
   "metadata": {},
   "outputs": [],
   "source": [
    "adata_short9k_MT_SN_new=ad.AnnData(X=adata_short9k_MT_SN.X)\n",
    "adata_short9k_MT_SN_new.var_names=adata_short9k_MT_SN.var_names\n",
    "adata_short9k_MT_SN_new.obs_names=adata_short9k_MT_SN.obs_names\n",
    "sc.pp.filter_genes(adata_short9k_MT_SN_new,min_cells=10)\n",
    "sc.pp.highly_variable_genes(adata_short9k_MT_SN_new,max_mean=10)"
   ]
  },
  {
   "cell_type": "code",
   "execution_count": null,
   "id": "950409d2",
   "metadata": {},
   "outputs": [],
   "source": [
    "adata_short9k_MT_SN_new.var.highly_variable.value_counts()"
   ]
  },
  {
   "cell_type": "code",
   "execution_count": null,
   "id": "7ef8db3b",
   "metadata": {},
   "outputs": [],
   "source": [
    "HVRBPs_MT_SN=list(set(mouse_RBPs.Gene_Name).intersection(set(adata_short9k_MT_SN_new[:,adata_short9k_MT_SN_new.var.highly_variable].var_names)))\n",
    "print(len(HVRBPs_MT_SN))\n",
    "HVRBPs_MT_SN=list(set(['Adar']+HVRBPs_MT_SN))\n",
    "print(len(HVRBPs_MT_SN))"
   ]
  },
  {
   "cell_type": "code",
   "execution_count": null,
   "id": "8a219a5c",
   "metadata": {},
   "outputs": [],
   "source": [
    "adata_tmp=adata_short9k_MT_SN_new.copy()\n",
    "sc.pp.highly_variable_genes(adata_tmp,max_mean=10,n_top_genes=500)\n",
    "\n",
    "SR_MT_SN_RBP_RNA500=list(set(list(HVRBPs_MT_SN)+list(adata_tmp[:,adata_tmp.var.highly_variable].var_names)))\n",
    "print(len(SR_MT_SN_RBP_RNA500))\n",
    "\n",
    "all_genes=list(set(all_genes+SR_MT_SN_RBP_RNA500))\n",
    "\n",
    "tmp_df=pd.DataFrame(data=adata_short9k_MT_SN_new[:,SR_MT_SN_RBP_RNA500].X.todense().T,\n",
    "                    index=adata_short9k_MT_SN_new[:,SR_MT_SN_RBP_RNA500].var_names,\n",
    "                    columns=adata_short9k_MT_SN_new[:,SR_MT_SN_RBP_RNA500].obs_names)\n",
    "tmp_df.to_csv(out_folder_SR9k+'C2C12_SR9kMTSNNormalizedData_RBP_RNA500.csv')\n",
    "\n",
    "# Save the raw data in a csv file\n",
    "tmp_df=pd.DataFrame(data=adata_short9k_UMI_MT_SN[:, SR_MT_SN_RBP_RNA500].X.todense().T, \n",
    "                    index=adata_short9k_UMI_MT_SN[:, SR_MT_SN_RBP_RNA500].var_names, \n",
    "                    columns=adata_short9k_UMI_MT_SN[:, SR_MT_SN_RBP_RNA500].obs_names)\n",
    "tmp_df.to_csv(out_folder_SR9k+'C2C12_SR9kMTSNRawData_RBP_RNA500.csv')"
   ]
  },
  {
   "cell_type": "code",
   "execution_count": null,
   "id": "0a9ec2d3",
   "metadata": {},
   "outputs": [],
   "source": [
    "adata_tmp=adata_short9k_MT_SN_new.copy()\n",
    "sc.pp.highly_variable_genes(adata_tmp,max_mean=10,n_top_genes=1000)\n",
    "\n",
    "SR_MT_SN_RBP_RNA1000=list(set(list(HVRBPs_MT_SN)+list(adata_tmp[:,adata_tmp.var.highly_variable].var_names)))\n",
    "print(len(SR_MT_SN_RBP_RNA1000))\n",
    "\n",
    "all_genes=list(set(all_genes+SR_MT_SN_RBP_RNA1000))\n",
    "\n",
    "\n",
    "\n",
    "tmp_df=pd.DataFrame(data=adata_short9k_MT_SN_new[:,SR_MT_SN_RBP_RNA1000].X.todense().T,\n",
    "                    index=adata_short9k_MT_SN_new[:,SR_MT_SN_RBP_RNA1000].var_names,\n",
    "                    columns=adata_short9k_MT_SN_new[:,SR_MT_SN_RBP_RNA1000].obs_names)\n",
    "tmp_df.to_csv(out_folder_SR9k+'C2C12_SR9kMTSNNormalizedData_RBP_RNA1000.csv')\n",
    "\n",
    "# Save the raw data in a csv file\n",
    "tmp_df=pd.DataFrame(data=adata_short9k_UMI_MT_SN[:, SR_MT_SN_RBP_RNA1000].X.todense().T, \n",
    "                    index=adata_short9k_UMI_MT_SN[:, SR_MT_SN_RBP_RNA1000].var_names, \n",
    "                    columns=adata_short9k_UMI_MT_SN[:, SR_MT_SN_RBP_RNA1000].obs_names)\n",
    "tmp_df.to_csv(out_folder_SR9k+'C2C12_SR9kMTSNRawData_RBP_RNA1000.csv')"
   ]
  },
  {
   "cell_type": "code",
   "execution_count": null,
   "id": "ca82439d",
   "metadata": {},
   "outputs": [],
   "source": [
    "adata_tmp=adata_short9k_MT_SN_new.copy()\n",
    "sc.pp.highly_variable_genes(adata_tmp,max_mean=10)\n",
    "\n",
    "SR_MT_SN_RBP_RNAHVG=list(set(list(HVRBPs_MT_SN)+list(adata_tmp[:,adata_tmp.var.highly_variable].var_names)))\n",
    "print(len(SR_MT_SN_RBP_RNAHVG))\n",
    "\n",
    "all_genes=list(set(all_genes+SR_MT_SN_RBP_RNAHVG))\n",
    "\n",
    "tmp_df=pd.DataFrame(data=adata_short9k_MT_SN_new[:,SR_MT_SN_RBP_RNAHVG].X.todense().T,\n",
    "                    index=adata_short9k_MT_SN_new[:,SR_MT_SN_RBP_RNAHVG].var_names,\n",
    "                    columns=adata_short9k_MT_SN_new[:,SR_MT_SN_RBP_RNAHVG].obs_names)\n",
    "tmp_df.to_csv(out_folder_SR9k+'C2C12_SR9kMTSNNormalizedData_RBP_RNAHVG.csv')\n",
    "\n",
    "# Save the raw data in a csv file\n",
    "tmp_df=pd.DataFrame(data=adata_short9k_UMI_MT_SN[:, SR_MT_SN_RBP_RNAHVG].X.todense().T, \n",
    "                    index=adata_short9k_UMI_MT_SN[:, SR_MT_SN_RBP_RNAHVG].var_names, \n",
    "                    columns=adata_short9k_UMI_MT_SN[:, SR_MT_SN_RBP_RNAHVG].obs_names)\n",
    "tmp_df.to_csv(out_folder_SR9k+'C2C12_SR9kMTSNRawData_RBP_RNAHVG.csv')"
   ]
  },
  {
   "cell_type": "code",
   "execution_count": null,
   "id": "329f92be",
   "metadata": {},
   "outputs": [],
   "source": [
    "# 9k sample: save gene names\n",
    "np.savetxt(\"./GENE_SELECTION_ADAR/gnames_C2C12_SR9kMBSC_RBP_RNA500.txt\",np.c_[SR_MB_SC_RBP_RNA500],fmt=\"%s\")\n",
    "np.savetxt(\"./GENE_SELECTION_ADAR/gnames_C2C12_SR9kMBSC_RBP_RNA1000.txt\",np.c_[SR_MB_SC_RBP_RNA1000],fmt=\"%s\")\n",
    "np.savetxt(\"./GENE_SELECTION_ADAR/gnames_C2C12_SR9kMBSC_RBP_RNAHVG.txt\",np.c_[SR_MB_SC_RBP_RNAHVG],fmt=\"%s\")\n",
    "np.savetxt(\"./GENE_SELECTION_ADAR/gnames_C2C12_SR9kMBSN_RBP_RNA500.txt\",np.c_[SR_MB_SN_RBP_RNA500],fmt=\"%s\")\n",
    "np.savetxt(\"./GENE_SELECTION_ADAR/gnames_C2C12_SR9kMBSN_RBP_RNA1000.txt\",np.c_[SR_MB_SN_RBP_RNA1000],fmt=\"%s\")\n",
    "np.savetxt(\"./GENE_SELECTION_ADAR/gnames_C2C12_SR9kMBSN_RBP_RNAHVG.txt\",np.c_[SR_MB_SN_RBP_RNAHVG],fmt=\"%s\")\n",
    "np.savetxt(\"./GENE_SELECTION_ADAR/gnames_C2C12_SR9kMTSN_RBP_RNA500.txt\",np.c_[SR_MT_SN_RBP_RNA500],fmt=\"%s\")\n",
    "np.savetxt(\"./GENE_SELECTION_ADAR/gnames_C2C12_SR9kMTSN_RBP_RNA1000.txt\",np.c_[SR_MT_SN_RBP_RNA1000],fmt=\"%s\")\n",
    "np.savetxt(\"./GENE_SELECTION_ADAR/gnames_C2C12_SR9kMTSN_RBP_RNAHVG.txt\",np.c_[SR_MT_SN_RBP_RNAHVG],fmt=\"%s\")"
   ]
  }
 ],
 "metadata": {
  "kernelspec": {
   "display_name": "INTERACTomics-venv",
   "language": "python",
   "name": "interactomics-venv"
  },
  "language_info": {
   "codemirror_mode": {
    "name": "ipython",
    "version": 3
   },
   "file_extension": ".py",
   "mimetype": "text/x-python",
   "name": "python",
   "nbconvert_exporter": "python",
   "pygments_lexer": "ipython3",
   "version": "3.7.7"
  },
  "toc": {
   "base_numbering": 1,
   "nav_menu": {},
   "number_sections": true,
   "sideBar": true,
   "skip_h1_title": false,
   "title_cell": "Table of Contents",
   "title_sidebar": "Contents",
   "toc_cell": false,
   "toc_position": {
    "height": "calc(100% - 180px)",
    "left": "10px",
    "top": "150px",
    "width": "372.63751220703125px"
   },
   "toc_section_display": true,
   "toc_window_display": true
  }
 },
 "nbformat": 4,
 "nbformat_minor": 5
}
