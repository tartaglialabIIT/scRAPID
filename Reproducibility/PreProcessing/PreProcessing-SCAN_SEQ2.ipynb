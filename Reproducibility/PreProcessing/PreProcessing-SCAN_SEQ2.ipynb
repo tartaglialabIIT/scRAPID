{
 "cells": [
  {
   "cell_type": "markdown",
   "id": "5a4b83ed",
   "metadata": {},
   "source": [
    "# Pre-processing SCAN-seq2 data"
   ]
  },
  {
   "cell_type": "markdown",
   "id": "573878d8",
   "metadata": {},
   "source": [
    "Here we pre-process SCAN-seq2 data published [here](https://www.nature.com/articles/s41421-022-00500-4)\n",
    "\n",
    "- HepG2 SCAN-seq2 (single-cell nanopore-based): [GSE203561](https://www.ncbi.nlm.nih.gov/geo/query/acc.cgi?acc=GSE203561).\n",
    "File with UMI counts table: GSM6176321_gene_counts_9CL.txt\n",
    "Metadata from the paper: 41421_2022_500_MOESM2_ESM.xlsx\n",
    "\n",
    "- K562 SCAN-seq2: We used K562 cells contained in GSM6176321_gene_counts_9CL.txt and GSM6176325_gene_counts_UMI_200.txt"
   ]
  },
  {
   "cell_type": "code",
   "execution_count": null,
   "id": "1c30e737",
   "metadata": {},
   "outputs": [],
   "source": [
    "%matplotlib inline"
   ]
  },
  {
   "cell_type": "code",
   "execution_count": null,
   "id": "9b35de34",
   "metadata": {},
   "outputs": [],
   "source": [
    "import scanpy as sc\n",
    "import anndata as ad\n",
    "import scprep as scp\n",
    "import matplotlib.pyplot as plt\n",
    "import numpy as np\n",
    "import pandas as pd\n",
    "import os"
   ]
  },
  {
   "cell_type": "code",
   "execution_count": null,
   "id": "2f0a8190",
   "metadata": {},
   "outputs": [],
   "source": [
    "HepG2_folder='./HepG2/'\n",
    "K562_folder='./K562/'\n",
    "input_folder='../../ANALYSIS_FEB_2023_RIBO/'"
   ]
  },
  {
   "cell_type": "code",
   "execution_count": null,
   "id": "2457e153",
   "metadata": {},
   "outputs": [],
   "source": [
    "sc.__version__"
   ]
  },
  {
   "cell_type": "code",
   "execution_count": null,
   "id": "8a3768a8",
   "metadata": {},
   "outputs": [],
   "source": [
    "# Read the metadata\n",
    "metadata=pd.read_excel(\"./Metadata/41421_2022_500_MOESM2_ESM.xlsx\")"
   ]
  },
  {
   "cell_type": "code",
   "execution_count": null,
   "id": "904210e0",
   "metadata": {},
   "outputs": [],
   "source": [
    "metadata.Library.value_counts()"
   ]
  },
  {
   "cell_type": "code",
   "execution_count": null,
   "id": "66252052",
   "metadata": {},
   "outputs": [],
   "source": [
    "metadata=metadata.set_index('Cell_ID')"
   ]
  },
  {
   "cell_type": "code",
   "execution_count": null,
   "id": "2a937ee9",
   "metadata": {},
   "outputs": [],
   "source": [
    "# Read the data\n",
    "adata_9CL=ad.read_csv('./Data/GSM6176321_gene_counts_9CL.txt',delimiter='\\t')\n",
    "adata_9CL=adata_9CL.T\n",
    "adata_4CL=ad.read_csv('./Data/GSM6176323_gene_counts_4CL.txt',delimiter='\\t')\n",
    "adata_4CL=adata_4CL.T\n",
    "adata_9CL_Mix=ad.read_csv('./Data/GSM6176322_gene_counts_9CL_Mix.txt',delimiter='\\t')\n",
    "adata_9CL_Mix=adata_9CL_Mix.T\n",
    "adata_UMI_200=ad.read_csv('./Data/GSM6176325_gene_counts_UMI_200.txt',delimiter='\\t')\n",
    "adata_UMI_200=adata_UMI_200.T\n",
    "adata_UMI_100=ad.read_csv('./Data/GSM6176324_gene_counts_UMI_100.txt',delimiter='\\t')\n",
    "adata_UMI_100=adata_UMI_100.T"
   ]
  },
  {
   "cell_type": "code",
   "execution_count": null,
   "id": "290e0fae",
   "metadata": {},
   "outputs": [],
   "source": [
    "adata=ad.concat([adata_9CL,adata_4CL,adata_9CL_Mix,adata_UMI_200,adata_UMI_100])"
   ]
  },
  {
   "cell_type": "code",
   "execution_count": null,
   "id": "9e7007f6",
   "metadata": {},
   "outputs": [],
   "source": [
    "(adata.obs_names==metadata.index).all()"
   ]
  },
  {
   "cell_type": "code",
   "execution_count": null,
   "id": "6607e124",
   "metadata": {},
   "outputs": [],
   "source": [
    "print(len(adata.obs_names),len(metadata),len(set(adata.obs_names).intersection(set(metadata.index))))"
   ]
  },
  {
   "cell_type": "code",
   "execution_count": null,
   "id": "d8d7d8e3",
   "metadata": {},
   "outputs": [],
   "source": [
    "metadata=metadata.reindex(adata.obs_names)\n",
    "adata.obs=metadata"
   ]
  },
  {
   "cell_type": "code",
   "execution_count": null,
   "id": "5a7466a4",
   "metadata": {},
   "outputs": [],
   "source": [
    "adata.var['ercc'] = adata.var_names.str.startswith('ERCC')  # annotate the group of mitochondrial genes as 'mt'"
   ]
  },
  {
   "cell_type": "code",
   "execution_count": null,
   "id": "2575aa20",
   "metadata": {},
   "outputs": [],
   "source": [
    "adata=adata[:,adata.var_names[:35582]].copy()\n",
    "print(adata)\n",
    "adata = adata[:,~adata.var['ercc']].copy()\n",
    "print(adata)"
   ]
  },
  {
   "cell_type": "code",
   "execution_count": null,
   "id": "9010a7d2",
   "metadata": {},
   "outputs": [],
   "source": [
    "adata_K562=adata[adata.obs.Cell_Line=='K562'].copy()\n",
    "print(adata_K562.n_obs)\n",
    "adata_K562=adata_K562[adata_K562.obs.Pass_QC==1].copy()\n",
    "print(adata_K562.n_obs)\n",
    "adata_HepG2=adata[adata.obs.Cell_Line=='HepG2'].copy()\n",
    "print(adata_HepG2.n_obs)\n",
    "adata_HepG2=adata_HepG2[adata_HepG2.obs.Pass_QC==1].copy()\n",
    "print(adata_HepG2.n_obs)"
   ]
  },
  {
   "cell_type": "code",
   "execution_count": null,
   "id": "3d6805ec",
   "metadata": {},
   "outputs": [],
   "source": [
    "# Save the names of\n",
    "# - HepG2 9CL cells\n",
    "# - K562 9CL cells\n",
    "# - K562 UMI200 cells\n",
    "np.savetxt('HepG2_9CL_cellnames.txt',\n",
    "           np.c_[list(metadata[(metadata.Cell_Line=='HepG2') & (metadata.Library=='9CL')].index)],fmt=\"%s\")\n",
    "np.savetxt('K562_9CL_cellnames.txt',\n",
    "           np.c_[list(metadata[(metadata.Cell_Line=='K562') & (metadata.Library=='9CL')].index)],fmt=\"%s\")\n",
    "np.savetxt('K562_UMI200_cellnames.txt',\n",
    "           np.c_[list(metadata[(metadata.Cell_Line=='K562') & (metadata.Library=='UMI_200')].index)],fmt=\"%s\")"
   ]
  },
  {
   "cell_type": "code",
   "execution_count": null,
   "id": "2785812a",
   "metadata": {},
   "outputs": [],
   "source": [
    "np.savetxt('HepG2_genenames.txt',\n",
    "           np.c_[list(adata_HepG2.var_names)],fmt=\"%s\")"
   ]
  },
  {
   "cell_type": "code",
   "execution_count": null,
   "id": "1d265ae9",
   "metadata": {},
   "outputs": [],
   "source": [
    "sc.pp.filter_genes(adata_K562,min_cells=10)\n",
    "adata_K562\n",
    "sc.pp.filter_genes(adata_HepG2,min_cells=10)\n",
    "adata_HepG2"
   ]
  },
  {
   "cell_type": "code",
   "execution_count": null,
   "id": "e9c808a0",
   "metadata": {},
   "outputs": [],
   "source": [
    "adata_K562.obs.Organism.value_counts()"
   ]
  },
  {
   "cell_type": "code",
   "execution_count": null,
   "id": "0790d6ce",
   "metadata": {},
   "outputs": [],
   "source": [
    "sc.pl.violin(adata_K562,keys=['Mapped_percent','Mapped_Reads','UMI_count','Gene_Detected'],groupby='Library')"
   ]
  },
  {
   "cell_type": "code",
   "execution_count": null,
   "id": "5d4bfc16",
   "metadata": {},
   "outputs": [],
   "source": [
    "adata_HepG2.obs.Library.value_counts()"
   ]
  },
  {
   "cell_type": "code",
   "execution_count": null,
   "id": "23975b30",
   "metadata": {},
   "outputs": [],
   "source": [
    "sc.pl.violin(adata_HepG2,keys=['Mapped_percent','Mapped_Reads','UMI_count','Gene_Detected'],groupby='Library')"
   ]
  },
  {
   "cell_type": "markdown",
   "id": "b5453e99",
   "metadata": {},
   "source": [
    "# Cluster K562 cells"
   ]
  },
  {
   "cell_type": "code",
   "execution_count": null,
   "id": "1c3ee71c",
   "metadata": {},
   "outputs": [],
   "source": [
    "sc.pp.normalize_total(adata_K562)\n",
    "sc.pp.log1p(adata_K562)\n",
    "sc.pp.highly_variable_genes(adata_K562,max_mean=10,batch_key='Library')\n",
    "adata_K562_high_var = adata_K562[:, adata_K562.var.highly_variable]\n",
    "sc.pp.scale(adata_K562_high_var, max_value=10)\n",
    "sc.tl.pca(adata_K562_high_var, svd_solver='arpack')\n",
    "sc.pp.neighbors(adata_K562_high_var)\n",
    "#sc.pl.paga(adata_CM, plot=False)  # remove `plot=False` if you want to see the coarse-grained graph\n",
    "sc.tl.umap(adata_K562_high_var)\n",
    "sc.pl.umap(adata_K562_high_var,color='Library')"
   ]
  },
  {
   "cell_type": "code",
   "execution_count": null,
   "id": "fa8638d9",
   "metadata": {},
   "outputs": [],
   "source": [
    "adata_K562.obs.Library.value_counts()"
   ]
  },
  {
   "cell_type": "markdown",
   "id": "aa94b164",
   "metadata": {},
   "source": [
    "K562: We run the analysis separately for 9CL and UMI_200"
   ]
  },
  {
   "cell_type": "code",
   "execution_count": null,
   "id": "002985b5",
   "metadata": {},
   "outputs": [],
   "source": [
    "adata_K562_9CL=adata[adata.obs.Cell_Line=='K562'].copy()\n",
    "adata_K562_9CL=adata_K562_9CL[adata_K562_9CL.obs.Library=='9CL'].copy()\n",
    "adata_K562_9CL=adata_K562_9CL[adata_K562_9CL.obs.Pass_QC==1].copy()\n",
    "\n",
    "adata_K562_9CL"
   ]
  },
  {
   "cell_type": "code",
   "execution_count": null,
   "id": "0a51e66d",
   "metadata": {},
   "outputs": [],
   "source": [
    "adata_K562_UMI_200=adata[adata.obs.Cell_Line=='K562'].copy()\n",
    "adata_K562_UMI_200=adata_K562_UMI_200[adata_K562_UMI_200.obs.Library=='UMI_200'].copy()\n",
    "adata_K562_UMI_200=adata_K562_UMI_200[adata_K562_UMI_200.obs.Pass_QC==1].copy()\n",
    "\n",
    "adata_K562_UMI_200"
   ]
  },
  {
   "cell_type": "markdown",
   "id": "84b60b9c",
   "metadata": {},
   "source": [
    "# Cluster HepG2 cells"
   ]
  },
  {
   "cell_type": "code",
   "execution_count": null,
   "id": "3de8b6e5",
   "metadata": {},
   "outputs": [],
   "source": [
    "sc.pp.normalize_total(adata_HepG2)\n",
    "sc.pp.log1p(adata_HepG2)\n",
    "sc.pp.highly_variable_genes(adata_HepG2,max_mean=10,batch_key='Library')\n",
    "adata_HepG2_high_var = adata_HepG2[:, adata_HepG2.var.highly_variable]\n",
    "sc.pp.scale(adata_HepG2_high_var, max_value=10)\n",
    "sc.tl.pca(adata_HepG2_high_var, svd_solver='arpack')\n",
    "sc.pp.neighbors(adata_HepG2_high_var)\n",
    "#sc.pl.paga(adata_CM, plot=False)  # remove `plot=False` if you want to see the coarse-grained graph\n",
    "sc.tl.umap(adata_HepG2_high_var)\n",
    "sc.pl.umap(adata_HepG2_high_var,color='Library')"
   ]
  },
  {
   "cell_type": "code",
   "execution_count": null,
   "id": "3b221fe0",
   "metadata": {},
   "outputs": [],
   "source": [
    "adata_HepG2.obs.Library.value_counts()"
   ]
  },
  {
   "cell_type": "markdown",
   "id": "585f9273",
   "metadata": {},
   "source": [
    "We consider the 9CL library for HepG2 cells"
   ]
  },
  {
   "cell_type": "code",
   "execution_count": null,
   "id": "5c97e9a8",
   "metadata": {},
   "outputs": [],
   "source": [
    "adata_HepG2_9CL=adata[adata.obs.Cell_Line=='HepG2'].copy()\n",
    "adata_HepG2_9CL=adata_HepG2_9CL[adata_HepG2_9CL.obs.Library=='9CL'].copy()\n",
    "adata_HepG2_9CL=adata_HepG2_9CL[adata_HepG2_9CL.obs.Pass_QC==1].copy()\n",
    "\n",
    "adata_HepG2_9CL"
   ]
  },
  {
   "cell_type": "markdown",
   "id": "e4d054b8",
   "metadata": {},
   "source": [
    "# Load and pre-process data"
   ]
  },
  {
   "cell_type": "markdown",
   "id": "fa98575c",
   "metadata": {},
   "source": [
    "We convert the gene names in all datasets to match the ENSEMBL 107 version with which we compute catRAPID (and processed eCLIP data)"
   ]
  },
  {
   "cell_type": "markdown",
   "id": "37851852",
   "metadata": {},
   "source": [
    "## Utils for gene name conversion"
   ]
  },
  {
   "cell_type": "code",
   "execution_count": null,
   "id": "c48da265",
   "metadata": {},
   "outputs": [],
   "source": [
    "# Load the fasta file with the canonical isoforms\n",
    "from Bio import SeqIO\n",
    "gname=[]\n",
    "gid=[]\n",
    "f_open = open(\"/Users/jonathan/Desktop/IIT/INTERACTomics/ENCODE_eCLIP_DATA/transcriptomes/hsapiens_gene_ensembl_107_canonical.fa\", \"rU\")\n",
    "for rec in SeqIO.parse(f_open, \"fasta\"):\n",
    "    myid = rec.id\n",
    "    gname.append(myid.split('|')[4])\n",
    "    gid.append(myid.split('|')[0])"
   ]
  },
  {
   "cell_type": "code",
   "execution_count": null,
   "id": "8c1108c1",
   "metadata": {},
   "outputs": [],
   "source": [
    "adata_list=[adata_K562_9CL,adata_K562_9CL_mix,adata_K562_UMI_200,adata_HepG2_9CL]\n",
    "labels=['K562_9CL_SCANseq2','K562_UMI200_SCANseq2','HepG2_9CL_SCANseq2']"
   ]
  },
  {
   "cell_type": "code",
   "execution_count": null,
   "id": "4554518e",
   "metadata": {},
   "outputs": [],
   "source": [
    "# Retrieve the ensembl gene ID\n",
    "import os\n",
    "out_dir=os.getcwd()+'/missing_genes/'\n",
    "if os.path.isdir(out_dir)==False:\n",
    "    os.mkdir(out_dir)\n",
    "\n",
    "missing_genes_list=[]\n",
    "for (lab,adata) in zip(labels,adata_list):\n",
    "    print(lab,len(gname),len(adata.var_names),\n",
    "      len(set(gname).intersection(set(adata.var_names))))\n",
    "    missing=list(set(adata.var_names)-set(gname).intersection(set(adata.var_names)))\n",
    "    missing_genes_list.append(missing)\n",
    "    np.savetxt(out_dir+'missing'+lab+'.txt',np.c_[missing],fmt='%s')"
   ]
  },
  {
   "cell_type": "code",
   "execution_count": null,
   "id": "04a15961",
   "metadata": {},
   "outputs": [],
   "source": [
    "# Load the mapping gene name/ENSEMBL GENE ID for each cell type\n",
    "mapping=pd.read_csv(out_dir+'mapping.csv',index_col=0)"
   ]
  },
  {
   "cell_type": "code",
   "execution_count": null,
   "id": "34104103",
   "metadata": {},
   "outputs": [],
   "source": [
    "def map_gene_names(adata,mapping):\n",
    "    print('before')\n",
    "    print(len(gname),len(adata.var_names),\n",
    "      len(set(gname).intersection(set(adata.var_names))))\n",
    "    j=1\n",
    "    no_name_genes=[]\n",
    "    mylist=list(adata.var_names)\n",
    "    \n",
    "    for i in range(len(mylist)):\n",
    "        if mylist[i]=='AARS':\n",
    "            mylist[i]='AARS1'\n",
    "        if mylist[i]=='TROVE2':\n",
    "            mylist[i]='RO60'\n",
    "    for i in range(len(mapping.index)):\n",
    "        # Retrieved ENSEMBL gene ID\n",
    "        mygene_id=mapping.loc[mapping.index[i],'V1']\n",
    "    \n",
    "        # Find the corresponding gene name in the fasta from gencodeV41\n",
    "        if mygene_id in gid:\n",
    "            new_gene_name=gname[gid.index(mygene_id)]\n",
    "            if new_gene_name=='':\n",
    "                new_gene_name=mygene_id\n",
    "                no_name_genes.append(mygene_id)\n",
    "        \n",
    "            # Find the index of the old gene name in var_names\n",
    "            idx=mylist.index(mapping.index[i])\n",
    "            if new_gene_name not in mylist:\n",
    "                mylist[idx]=new_gene_name\n",
    "        else:\n",
    "            j+=1\n",
    "    adata.var_names=mylist\n",
    "    print('after')\n",
    "    print(len(gname),len(adata.var_names),\n",
    "      len(set(gname).intersection(set(adata.var_names))))\n",
    "    print('-'*50)\n",
    "    return adata;"
   ]
  },
  {
   "cell_type": "code",
   "execution_count": null,
   "id": "776bab18",
   "metadata": {},
   "outputs": [],
   "source": [
    "mapping.loc['ABCF2.H2BE1']"
   ]
  },
  {
   "cell_type": "code",
   "execution_count": null,
   "id": "fca3f020",
   "metadata": {},
   "outputs": [],
   "source": [
    "mapping.rename(index={'ABCF2.H2BE1':'ABCF2-H2BE1'},inplace=True)\n",
    "mapping.rename(index={'H3.2':'H3-2'},inplace=True)\n",
    "mapping.rename(index={'LINC00266.2P':'LINC00266-2P'},inplace=True)"
   ]
  },
  {
   "cell_type": "code",
   "execution_count": null,
   "id": "1f256517",
   "metadata": {},
   "outputs": [],
   "source": [
    "adata_HepG2_9CL=map_gene_names(adata_HepG2_9CL,mapping)\n",
    "adata_K562_9CL=map_gene_names(adata_K562_9CL,mapping)\n",
    "adata_K562_9CL_mix=map_gene_names(adata_K562_9CL_mix,mapping)\n",
    "adata_K562_UMI_200=map_gene_names(adata_K562_UMI_200,mapping)"
   ]
  },
  {
   "cell_type": "code",
   "execution_count": null,
   "id": "2da9566e",
   "metadata": {},
   "outputs": [],
   "source": [
    "sc.pp.filter_genes(adata_HepG2_9CL, min_cells=int(0.1*adata_HepG2_9CL.n_obs))\n",
    "print(adata_HepG2_9CL)\n",
    "\n",
    "adata_HepG2_9CL.raw=adata_HepG2_9CL\n",
    "sc.pp.normalize_total(adata_HepG2_9CL,inplace=True)\n",
    "adata_HepG2_9CL_for_ARACNe=adata_HepG2_9CL.copy()\n",
    "\n",
    "sc.pp.log1p(adata_HepG2_9CL)"
   ]
  },
  {
   "cell_type": "code",
   "execution_count": null,
   "id": "51859b38",
   "metadata": {},
   "outputs": [],
   "source": [
    "sc.pp.filter_genes(adata_K562_9CL, min_cells=int(0.1*adata_K562_9CL.n_obs))\n",
    "print(adata_K562_9CL)\n",
    "\n",
    "adata_K562_9CL.raw=adata_K562_9CL\n",
    "sc.pp.normalize_total(adata_K562_9CL,inplace=True)\n",
    "adata_K562_9CL_for_ARACNe=adata_K562_9CL.copy()\n",
    "\n",
    "sc.pp.log1p(adata_K562_9CL)"
   ]
  },
  {
   "cell_type": "code",
   "execution_count": null,
   "id": "83dfe108",
   "metadata": {},
   "outputs": [],
   "source": [
    "sc.pp.filter_genes(adata_K562_UMI_200, min_cells=int(0.1*adata_K562_UMI_200.n_obs))\n",
    "print(adata_K562_UMI_200)\n",
    "\n",
    "adata_K562_UMI_200.raw=adata_K562_UMI_200\n",
    "sc.pp.normalize_total(adata_K562_UMI_200,inplace=True)\n",
    "adata_K562_UMI_200_for_ARACNe=adata_K562_UMI_200.copy()\n",
    "\n",
    "sc.pp.log1p(adata_K562_UMI_200)"
   ]
  },
  {
   "cell_type": "markdown",
   "id": "d9260c3f",
   "metadata": {},
   "source": [
    "## Remove mitochondrial genes"
   ]
  },
  {
   "cell_type": "code",
   "execution_count": null,
   "id": "0dac9f11",
   "metadata": {},
   "outputs": [],
   "source": [
    "def FilterMito(adata):\n",
    "    mito_genes = adata.var_names.str.startswith('MT-')\n",
    "    genes_to_keep = np.invert(mito_genes)\n",
    "    print('before',adata)\n",
    "    adata = adata[:,genes_to_keep].copy()\n",
    "    print('after',adata)\n",
    "    return adata;"
   ]
  },
  {
   "cell_type": "code",
   "execution_count": null,
   "id": "a9b3c08c",
   "metadata": {},
   "outputs": [],
   "source": [
    "adata_HepG2_9CL=FilterMito(adata_HepG2_9CL)\n",
    "adata_K562_9CL=FilterMito(adata_K562_9CL)\n",
    "adata_K562_UMI_200=FilterMito(adata_K562_UMI_200)"
   ]
  },
  {
   "cell_type": "markdown",
   "id": "3693a5b9",
   "metadata": {},
   "source": [
    "# Diffusion pseudotime"
   ]
  },
  {
   "cell_type": "markdown",
   "id": "905bd432",
   "metadata": {},
   "source": [
    "## HepG2"
   ]
  },
  {
   "cell_type": "code",
   "execution_count": null,
   "id": "c869a7b2",
   "metadata": {},
   "outputs": [],
   "source": [
    "sc.pp.highly_variable_genes(adata_HepG2_9CL,max_mean=10,n_top_genes=2000)  #calculate highly variable genes\n",
    "adata_HepG2_9CL_high = adata_HepG2_9CL[:,adata_HepG2_9CL.var['highly_variable']==True].copy()  #select only highly variable genes\n",
    "sc.pp.scale(adata_HepG2_9CL_high,max_value=10)\n",
    "sc.tl.pca(adata_HepG2_9CL_high,svd_solver='arpack')\n",
    "sc.pl.pca_overview(adata_HepG2_9CL_high)"
   ]
  },
  {
   "cell_type": "code",
   "execution_count": null,
   "id": "ad957c8e",
   "metadata": {},
   "outputs": [],
   "source": [
    "sc.pp.neighbors(adata_HepG2_9CL_high, n_neighbors=10, n_pcs=10)\n",
    "sc.tl.umap(adata_HepG2_9CL_high)\n",
    "sc.tl.leiden(adata_HepG2_9CL_high)\n",
    "sc.pl.umap(adata_HepG2_9CL_high,color='leiden')"
   ]
  },
  {
   "cell_type": "code",
   "execution_count": null,
   "id": "1fb6d38b",
   "metadata": {},
   "outputs": [],
   "source": [
    "adata_HepG2_9CL_high.uns['iroot'] = np.argmin(adata_HepG2_9CL_high.obsm['X_umap'][:,0])\n",
    "\n",
    "# Create the diffusion map\n",
    "sc.tl.diffmap(adata_HepG2_9CL_high)\n",
    "\n",
    "# Run Diffusion Pseudotime with 0 branching event\n",
    "sc.tl.dpt(adata_HepG2_9CL_high)\n",
    "\n",
    "# Grab the output and store in our metadata DataFrame\n",
    "adata_HepG2_9CL_high.obs['dpt'] = adata_HepG2_9CL_high.obs['dpt_pseudotime']\n",
    "adata_HepG2_9CL_high.obs.head()"
   ]
  },
  {
   "cell_type": "markdown",
   "id": "7593a360",
   "metadata": {},
   "source": [
    "## K562"
   ]
  },
  {
   "cell_type": "markdown",
   "id": "fec0b9db",
   "metadata": {},
   "source": [
    "### 9CL"
   ]
  },
  {
   "cell_type": "code",
   "execution_count": null,
   "id": "1f7ed47c",
   "metadata": {},
   "outputs": [],
   "source": [
    "sc.pp.highly_variable_genes(adata_K562_9CL,max_mean=10,n_top_genes=2000)  #calculate highly variable genes\n",
    "adata_K562_9CL_high = adata_K562_9CL[:,adata_K562_9CL.var['highly_variable']==True].copy()  #select only highly variable genes\n",
    "sc.pp.scale(adata_K562_9CL_high,max_value=10)\n",
    "sc.tl.pca(adata_K562_9CL_high,svd_solver='arpack')\n",
    "sc.pl.pca_overview(adata_K562_9CL_high)"
   ]
  },
  {
   "cell_type": "code",
   "execution_count": null,
   "id": "463292bc",
   "metadata": {},
   "outputs": [],
   "source": [
    "sc.pp.neighbors(adata_K562_9CL_high, n_neighbors=15, n_pcs=10)\n",
    "sc.tl.umap(adata_K562_9CL_high)"
   ]
  },
  {
   "cell_type": "code",
   "execution_count": null,
   "id": "f8bfec31",
   "metadata": {},
   "outputs": [],
   "source": [
    "sc.tl.leiden(adata_K562_9CL_high)\n",
    "sc.pl.umap(adata_K562_9CL_high,color='leiden')"
   ]
  },
  {
   "cell_type": "code",
   "execution_count": null,
   "id": "acf8ce30",
   "metadata": {},
   "outputs": [],
   "source": [
    "adata_K562_9CL_high.uns['iroot'] = np.argmax(adata_K562_9CL_high.obsm['X_umap'][:,0])\n",
    "\n",
    "# Create the diffusion map\n",
    "sc.tl.diffmap(adata_K562_9CL_high)\n",
    "\n",
    "# Run Diffusion Pseudotime with 1 branching event\n",
    "sc.tl.dpt(adata_K562_9CL_high)\n",
    "\n",
    "# Grab the output and store in our metadata DataFrame\n",
    "adata_K562_9CL_high.obs['dpt'] = adata_K562_9CL_high.obs['dpt_pseudotime']\n",
    "adata_K562_9CL_high.obs.head()"
   ]
  },
  {
   "cell_type": "markdown",
   "id": "a2d1b2ac",
   "metadata": {},
   "source": [
    "### UMI_200"
   ]
  },
  {
   "cell_type": "code",
   "execution_count": null,
   "id": "7c0f83d2",
   "metadata": {},
   "outputs": [],
   "source": [
    "sc.pp.highly_variable_genes(adata_K562_UMI_200,max_mean=10,n_top_genes=2000)  #calculate highly variable genes\n",
    "adata_K562_UMI_200_high = adata_K562_UMI_200[:,adata_K562_UMI_200.var['highly_variable']==True].copy()  #select only highly variable genes\n",
    "sc.pp.scale(adata_K562_UMI_200_high,max_value=10)\n",
    "sc.tl.pca(adata_K562_UMI_200_high,svd_solver='arpack')\n",
    "sc.pl.pca_overview(adata_K562_UMI_200_high)"
   ]
  },
  {
   "cell_type": "code",
   "execution_count": null,
   "id": "4a010715",
   "metadata": {},
   "outputs": [],
   "source": [
    "sc.pp.neighbors(adata_K562_UMI_200_high, n_neighbors=10, n_pcs=10)\n",
    "sc.tl.umap(adata_K562_UMI_200_high)\n",
    "sc.tl.leiden(adata_K562_UMI_200_high)\n",
    "sc.pl.umap(adata_K562_UMI_200_high,color='leiden')"
   ]
  },
  {
   "cell_type": "code",
   "execution_count": null,
   "id": "cd599ce4",
   "metadata": {},
   "outputs": [],
   "source": [
    "adata_K562_UMI_200_high.uns['iroot'] = np.argmin(adata_K562_UMI_200_high.obsm['X_umap'][:,0])\n",
    "\n",
    "# Create the diffusion map\n",
    "sc.tl.diffmap(adata_K562_UMI_200_high)\n",
    "\n",
    "# Run Diffusion Pseudotime with 0 branching event\n",
    "sc.tl.dpt(adata_K562_UMI_200_high)\n",
    "\n",
    "# Grab the output and store in our metadata DataFrame\n",
    "adata_K562_UMI_200_high.obs['dpt'] = adata_K562_UMI_200_high.obs['dpt_pseudotime']\n",
    "adata_K562_UMI_200_high.obs.head()"
   ]
  },
  {
   "cell_type": "markdown",
   "id": "b8559dbb",
   "metadata": {},
   "source": [
    "### Check the overlap between the highly variable genes"
   ]
  },
  {
   "cell_type": "code",
   "execution_count": null,
   "id": "8e89b7f0",
   "metadata": {},
   "outputs": [],
   "source": [
    "def jaccard_similarity(list1, list2):\n",
    "    intersection = len(list(set(list1).intersection(list2)))\n",
    "    union = (len(set(list1)) + len(set(list2))) - intersection\n",
    "    return float(intersection) / union"
   ]
  },
  {
   "cell_type": "code",
   "execution_count": null,
   "id": "64c4244f",
   "metadata": {},
   "outputs": [],
   "source": [
    "import seaborn as sns\n",
    "\n",
    "protocols=['9CL','9CL_Mix','UMI_200']\n",
    "ct='K562'\n",
    "adatas=[adata_K562_9CL_high,adata_K562_9CL_mix_high,adata_K562_UMI_200_high]\n",
    "\n",
    "jaccard=np.zeros((len(adatas),len(adatas)))\n",
    "\n",
    "i=0\n",
    "for (adata1,prot1) in zip(adatas,protocols):\n",
    "    j=0\n",
    "    for (adata2,prot2) in zip(adatas,protocols):\n",
    "        jaccard[i,j]=jaccard_similarity(list(adata1.var_names),list(adata2.var_names))\n",
    "        j+=1\n",
    "    i+=1"
   ]
  },
  {
   "cell_type": "code",
   "execution_count": null,
   "id": "74b4d848",
   "metadata": {},
   "outputs": [],
   "source": [
    "# Getting the Upper Triangle of the co-relation matrix\n",
    "matrix = np.triu(jaccard)\n",
    "\n",
    "fig,ax =plt.subplots()\n",
    "ax.set_title('K562')\n",
    "# using the upper triangle matrix as mask \n",
    "sns.heatmap(jaccard, annot=True, mask=matrix,ax=ax,\n",
    "           xticklabels=protocols,yticklabels=protocols)\n",
    "plt.show(),plt.close()"
   ]
  },
  {
   "cell_type": "markdown",
   "id": "f8e63810",
   "metadata": {},
   "source": [
    "## Save pseudotime data"
   ]
  },
  {
   "cell_type": "code",
   "execution_count": null,
   "id": "54876369",
   "metadata": {},
   "outputs": [],
   "source": [
    "pseudo_folder=input_folder+'PseudoTime/'"
   ]
  },
  {
   "cell_type": "code",
   "execution_count": null,
   "id": "1d172665",
   "metadata": {},
   "outputs": [],
   "source": [
    "pseudo_df=pd.DataFrame(data=adata_HepG2_9CL_high.obs['dpt'], index=adata_HepG2_9CL_high.obs_names)\n",
    "pseudo_df.to_csv(pseudo_folder+'HepG2_9CL_SCANseq2_PseudoTime.csv')"
   ]
  },
  {
   "cell_type": "code",
   "execution_count": null,
   "id": "26811dd5",
   "metadata": {},
   "outputs": [],
   "source": [
    "pseudo_df=pd.DataFrame(data=adata_K562_9CL_high.obs['dpt'], index=adata_K562_9CL_high.obs_names)\n",
    "pseudo_df.to_csv(pseudo_folder+'K562_9CL_SCANseq2_PseudoTime.csv')"
   ]
  },
  {
   "cell_type": "code",
   "execution_count": null,
   "id": "16ce7aab",
   "metadata": {},
   "outputs": [],
   "source": [
    "pseudo_df=pd.DataFrame(data=adata_K562_9CL_mix_high.obs['dpt'], index=adata_K562_9CL_mix_high.obs_names)\n",
    "pseudo_df.to_csv(pseudo_folder+'K562_9CLMix_SCANseq2_PseudoTime.csv')\n",
    "\n",
    "pseudo_df=pd.DataFrame(data=adata_K562_UMI_200_high.obs['dpt'], index=adata_K562_UMI_200_high.obs_names)\n",
    "pseudo_df.to_csv(pseudo_folder+'K562_UMI200_SCANseq2_PseudoTime.csv')"
   ]
  },
  {
   "cell_type": "markdown",
   "id": "8cabbfd6",
   "metadata": {},
   "source": [
    "## Save the processed data for gene selection"
   ]
  },
  {
   "cell_type": "code",
   "execution_count": null,
   "id": "4d038a3c",
   "metadata": {},
   "outputs": [],
   "source": [
    "proc_folder=input_folder+'processed_data/'"
   ]
  },
  {
   "cell_type": "code",
   "execution_count": null,
   "id": "1c7da99a",
   "metadata": {},
   "outputs": [],
   "source": [
    "adata_HepG2_9CL.write_h5ad(proc_folder+'processed_HepG2_9CL_SCANseq2.h5ad')\n",
    "adata_HepG2_9CL_for_ARACNe.write_h5ad(proc_folder+'processed_HepG2_9CL_SCANseq2_ARACNe.h5ad')\n",
    "\n",
    "adata_K562_UMI_200.write_h5ad(proc_folder+'processed_K562_UMI200_SCANseq2.h5ad')\n",
    "adata_K562_UMI_200_for_ARACNe.write_h5ad(proc_folder+'processed_K562_UMI200_SCANseq2_ARACNe.h5ad')"
   ]
  },
  {
   "cell_type": "code",
   "execution_count": null,
   "id": "c423285a",
   "metadata": {},
   "outputs": [],
   "source": [
    "adata_K562_9CL.write_h5ad(proc_folder+'processed_K562_9CL_SCANseq2.h5ad')\n",
    "adata_K562_9CL_for_ARACNe.write_h5ad(proc_folder+'processed_K562_9CL_SCANseq2_ARACNe.h5ad')"
   ]
  }
 ],
 "metadata": {
  "kernelspec": {
   "display_name": "INTERACTomics-venv",
   "language": "python",
   "name": "interactomics-venv"
  },
  "language_info": {
   "codemirror_mode": {
    "name": "ipython",
    "version": 3
   },
   "file_extension": ".py",
   "mimetype": "text/x-python",
   "name": "python",
   "nbconvert_exporter": "python",
   "pygments_lexer": "ipython3",
   "version": "3.7.7"
  },
  "toc": {
   "base_numbering": 1,
   "nav_menu": {},
   "number_sections": true,
   "sideBar": true,
   "skip_h1_title": false,
   "title_cell": "Table of Contents",
   "title_sidebar": "Contents",
   "toc_cell": false,
   "toc_position": {
    "height": "calc(100% - 180px)",
    "left": "10px",
    "top": "150px",
    "width": "239.27499389648438px"
   },
   "toc_section_display": true,
   "toc_window_display": true
  }
 },
 "nbformat": 4,
 "nbformat_minor": 5
}
