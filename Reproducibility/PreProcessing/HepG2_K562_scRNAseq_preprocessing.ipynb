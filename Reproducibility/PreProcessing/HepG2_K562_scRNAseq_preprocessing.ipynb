{
 "cells": [
  {
   "cell_type": "markdown",
   "id": "5a4b83ed",
   "metadata": {},
   "source": [
    "# Pre-processing single-cell RNA-seq data for GRN inference"
   ]
  },
  {
   "cell_type": "markdown",
   "id": "573878d8",
   "metadata": {},
   "source": [
    "Rome, 30/11/2022 Jonathan Fiorentino\n",
    "\n",
    "NOTE: In the processed_data folder we provide the pre-processed data and the PseudoTime values for the datasets, i.e. the output of this notebook\n",
    "\n",
    "In this notebook I perform the pre-processing and pseudotime computation for single-cell RNA-seq data from HepG2 and K562 cell lines for gene regulatory network inference. We use datasets obtained with different sequencing protocols (full-length and droplet-based). See the Methods section of the manuscript for further details.\n",
    "\n",
    "The SCAN-seq2 data are processed in a different notebook.\n",
    "\n",
    "Data sources:\n",
    "\n",
    "HepG2\n",
    "\n",
    "- [GSE150993](https://www.ncbi.nlm.nih.gov/geo/query/acc.cgi?acc=GSE150993), [publication](https://bmcgenomics.biomedcentral.com/articles/10.1186/s12864-021-07744-6). Protocol: Smart-seq2. \n",
    "The file with the TPM matrix is GSE150993_HepG2_Gene_TPM.csv but note that we correct some gene names that had the Excel issue (see [here](https://www.theverge.com/2020/8/6/21355674/human-genes-rename-microsoft-excel-misreading-dates) for details).\n",
    "\n",
    "- [GSM5677000](https://www.ncbi.nlm.nih.gov/geo/query/acc.cgi?acc=GSM5677000), [publication](https://www.cell.com/iscience/pdf/S2589-0042(22)01395-5.pdf). Protocol 10x. These are single-cell RNA-seq data from a large study including CITE-seq and scATAC-seq.\n",
    "The file with the UMI counts is GSM5677000_scCite_HepG2_RNA.txt\n",
    "\n",
    "K562\n",
    "\n",
    "- [GSM1599500](https://www.ncbi.nlm.nih.gov/geo/query/acc.cgi?acc=GSM1599500), [publication](https://www.sciencedirect.com/science/article/pii/S0092867415005000?via%3Dihub). Protocol CEL-Seq. File with UMI count matrix GSM1599500_K562_cells.csv \n",
    "\n",
    "- [GSE181544](https://www.ncbi.nlm.nih.gov/geo/query/acc.cgi?acc=GSE181544), [preprint](https://www.biorxiv.org/content/10.1101/2022.03.14.484332v3). STORM-seq. We use the library with 1M reads. File with TPM matrix: GSE181544_storm_k562_1M_reads_tpm.txt\n",
    "\n",
    "- [E-MTAB-11467](https://www.ebi.ac.uk/biostudies/arrayexpress/studies/E-MTAB-11467#) Smart-seq3 [publication1](https://www.nature.com/articles/s41587-020-0497-0), [publication2](https://www.nature.com/articles/s41587-022-01311-4). File with UMI count matrix K562_Smart_seq3_umi_counts.txt\n",
    "\n",
    "For Smart-seq3 and STORM-seq the authors provided the matrices with the Ensembl gene IDs. We provide a R script to map them to gene names using Ensembl 107.\n",
    "The files are saved as GSE181544_storm_k562_1M_reads_tpm_gnames.txt and K562_Smart_seq3_umi_counts_gnames.txt"
   ]
  },
  {
   "cell_type": "code",
   "execution_count": null,
   "id": "1c30e737",
   "metadata": {},
   "outputs": [],
   "source": [
    "%matplotlib inline"
   ]
  },
  {
   "cell_type": "code",
   "execution_count": null,
   "id": "9b35de34",
   "metadata": {},
   "outputs": [],
   "source": [
    "import scanpy as sc\n",
    "import anndata as ad\n",
    "import matplotlib.pyplot as plt\n",
    "import numpy as np\n",
    "import pandas as pd\n",
    "import os"
   ]
  },
  {
   "cell_type": "code",
   "execution_count": null,
   "id": "2f0a8190",
   "metadata": {},
   "outputs": [],
   "source": [
    "HepG2_folder='../HepG2/'\n",
    "K562_folder='../K562/'\n",
    "input_folder='./'"
   ]
  },
  {
   "cell_type": "code",
   "execution_count": null,
   "id": "d37a5e60",
   "metadata": {},
   "outputs": [],
   "source": [
    "if os.path.isdir(input_folder)==False:\n",
    "    os.mkdir(input_folder)"
   ]
  },
  {
   "cell_type": "code",
   "execution_count": null,
   "id": "2457e153",
   "metadata": {},
   "outputs": [],
   "source": [
    "sc.__version__"
   ]
  },
  {
   "cell_type": "markdown",
   "id": "e4d054b8",
   "metadata": {},
   "source": [
    "# Load and pre-process data"
   ]
  },
  {
   "cell_type": "markdown",
   "id": "de09a09f",
   "metadata": {},
   "source": [
    "## Utils for gene name conversion"
   ]
  },
  {
   "cell_type": "markdown",
   "id": "fa98575c",
   "metadata": {},
   "source": [
    "We convert the gene names in all datasets to match the ENSEMBL 107 version with which we compute catRAPID (and processed eCLIP data)"
   ]
  },
  {
   "cell_type": "code",
   "execution_count": null,
   "id": "69a71af0",
   "metadata": {},
   "outputs": [],
   "source": [
    "# Load the HepG2 Smart-seq2 data\n",
    "HepG2_smart=ad.read_csv(HepG2_folder+'Smart-seq2/GSE150993_HepG2_Gene_TPM.csv')\n",
    "HepG2_smart=HepG2_smart.transpose()\n",
    "print(HepG2_smart)\n",
    "\n",
    "# Load the HepG2 10x data\n",
    "HepG2_10x=ad.read_csv(HepG2_folder+'10x/GSM5677000_scCite_HepG2_RNA.txt',delimiter='\\t')\n",
    "HepG2_10x=HepG2_10x.transpose()\n",
    "print(HepG2_10x)"
   ]
  },
  {
   "cell_type": "code",
   "execution_count": null,
   "id": "8cc30e7e",
   "metadata": {},
   "outputs": [],
   "source": [
    "# Load the K562 CEL-seq data\n",
    "K562_CEL=ad.read_csv(K562_folder+'./CEL-seq/GSM1599500_K562_cells.csv')\n",
    "K562_CEL=K562_CEL.transpose()\n",
    "print(K562_CEL)\n",
    "\n",
    "# Load the K562 STORM-seq data\n",
    "K562_STORM_1M=ad.read_csv(K562_folder+'./GSE181544/GSE181544_storm_k562_1M_reads_tpm_gnames.txt')\n",
    "K562_STORM_1M=K562_STORM_1M.transpose()\n",
    "print(K562_STORM_1M)\n",
    "\n",
    "# Load the K562 Smart-seq3 data\n",
    "K562_SMART3=ad.read_csv(K562_folder+'./Smart-seq3/K562_Smart_seq3_umi_counts_gnames.txt')\n",
    "K562_SMART3=K562_SMART3.transpose()\n",
    "print(K562_SMART3)"
   ]
  },
  {
   "cell_type": "code",
   "execution_count": null,
   "id": "c48da265",
   "metadata": {},
   "outputs": [],
   "source": [
    "# Load the fasta file with the canonical isoforms\n",
    "from Bio import SeqIO\n",
    "gname=[]\n",
    "gid=[]\n",
    "f_open = open(\"/Users/jonathan/Desktop/IIT/INTERACTomics/ENCODE_eCLIP_DATA/transcriptomes/hsapiens_gene_ensembl_107_canonical_new.fa\", \"rU\")\n",
    "for rec in SeqIO.parse(f_open, \"fasta\"):\n",
    "    myid = rec.id\n",
    "    gname.append(myid.split('|')[4])\n",
    "    gid.append(myid.split('|')[0])"
   ]
  },
  {
   "cell_type": "code",
   "execution_count": null,
   "id": "8c1108c1",
   "metadata": {},
   "outputs": [],
   "source": [
    "adata_list=[HepG2_smart,HepG2_10x,K562_CEL,K562_STORM_100k,K562_STORM_500k,K562_STORM_1M,K562_SMART3]\n",
    "labels=['HepG2_smartseq2','HepG2_10x','K562_CEL_seq','K562_STORM_seq_100k',\n",
    "        'K562_STORM_seq_500k','K562_STORM_seq_1M','K562_Smart_seq3']"
   ]
  },
  {
   "cell_type": "code",
   "execution_count": null,
   "id": "4554518e",
   "metadata": {},
   "outputs": [],
   "source": [
    "# Retrieve the ensembl gene ID\n",
    "import os\n",
    "# out_dir=os.getcwd()+'/missing_genes/'\n",
    "# if os.path.isdir(out_dir)==False:\n",
    "#     os.mkdir(out_dir)\n",
    "\n",
    "missing_genes_list=[]\n",
    "for (lab,adata) in zip(labels,adata_list):\n",
    "    print(lab,len(gname),len(adata.var_names),\n",
    "      len(set(gname).intersection(set(adata.var_names))))\n",
    "    missing=list(set(adata.var_names)-set(gname).intersection(set(adata.var_names)))\n",
    "    missing_genes_list.append(missing)\n",
    "#     np.savetxt(out_dir+'missing'+lab+'.txt',np.c_[missing],fmt='%s')"
   ]
  },
  {
   "cell_type": "code",
   "execution_count": null,
   "id": "04a15961",
   "metadata": {},
   "outputs": [],
   "source": [
    "out_dir='../missing_genes/'\n",
    "\n",
    "# Load the mapping gene name/ENSEMBL GENE ID for each cell type\n",
    "mapping_HepG2_smart=pd.read_csv(out_dir+'mapping_HepG2_smartseq2.csv',index_col=0)\n",
    "mapping_HepG2_10x=pd.read_csv(out_dir+'mapping_HepG2_10x.csv',index_col=0)\n",
    "\n",
    "\n",
    "mapping_K562_CEL=pd.read_csv(out_dir+'mapping_K562_CEL_seq.csv',index_col=0)\n",
    "# mapping_K562_STORM_1M=pd.read_csv(out_dir+'mapping_K562_STORM_seq_1M.csv',index_col=0)\n",
    "# mapping_K562_SMART3=pd.read_csv(out_dir+'mapping_K562_Smart_seq3.csv',index_col=0)\n",
    "\n",
    "mapping_HepG2_smart.index=[i.replace('.','-',1) if i.replace('.','-',1) in missing_genes_list[0] else i for i in mapping_HepG2_smart.index]\n",
    "mapping_HepG2_10x.index=[i.replace('.','-',1) if i.replace('.','-',1) in missing_genes_list[1] else i for i in mapping_HepG2_10x.index]\n",
    "\n",
    "mapping_K562_CEL.index=[i.replace('.','-',1) if i.replace('.','-',1) in missing_genes_list[2] else i for i in mapping_K562_CEL.index]\n",
    "# mapping_K562_STORM_1M.index=[i.replace('.','-',1) if i.replace('.','-',1) in missing_genes_list[5] else i for i in mapping_K562_STORM_1M.index]\n",
    "# mapping_K562_SMART3.index=[i.replace('.','-',1) if i.replace('.','-',1) in missing_genes_list[6] else i for i in mapping_K562_SMART3.index]\n",
    "\n"
   ]
  },
  {
   "cell_type": "code",
   "execution_count": null,
   "id": "34104103",
   "metadata": {},
   "outputs": [],
   "source": [
    "def map_gene_names(adata,mapping):\n",
    "    print('before')\n",
    "    print(len(gname),len(adata.var_names),\n",
    "      len(set(gname).intersection(set(adata.var_names))))\n",
    "    j=1\n",
    "    no_name_genes=[]\n",
    "    mylist=list(adata.var_names)\n",
    "    \n",
    "    for i in range(len(mylist)):\n",
    "        if mylist[i]=='AARS':\n",
    "            mylist[i]='AARS1'\n",
    "        if mylist[i]=='TROVE2':\n",
    "            mylist[i]='RO60'\n",
    "    for i in range(len(mapping.index)):\n",
    "        # Retrieved ENSEMBL gene ID\n",
    "        mygene_id=mapping.loc[mapping.index[i],'V1']\n",
    "    \n",
    "        # Find the corresponding gene name in the fasta from gencodeV41\n",
    "        if mygene_id in gid:\n",
    "            new_gene_name=gname[gid.index(mygene_id)]\n",
    "            if new_gene_name=='':\n",
    "                new_gene_name=mygene_id\n",
    "                no_name_genes.append(mygene_id)\n",
    "        \n",
    "            # Find the index of the old gene name in var_names\n",
    "            idx=mylist.index(mapping.index[i])\n",
    "            if new_gene_name not in mylist:\n",
    "                mylist[idx]=new_gene_name\n",
    "        else:\n",
    "            j+=1\n",
    "    adata.var_names=mylist\n",
    "    print('after')\n",
    "    print(len(gname),len(adata.var_names),\n",
    "      len(set(gname).intersection(set(adata.var_names))))\n",
    "    print('-'*50)\n",
    "    return adata;"
   ]
  },
  {
   "cell_type": "markdown",
   "id": "e22795ae",
   "metadata": {},
   "source": [
    "## HepG2"
   ]
  },
  {
   "cell_type": "markdown",
   "id": "1f02fbdd",
   "metadata": {},
   "source": [
    "### Smart-seq2"
   ]
  },
  {
   "cell_type": "code",
   "execution_count": null,
   "id": "3fca642b",
   "metadata": {},
   "outputs": [],
   "source": [
    "# Convert the gene names\n",
    "HepG2_smart=map_gene_names(HepG2_smart,mapping_HepG2_smart)\n",
    "\n",
    "# Subset only the live cells\n",
    "live_cells=HepG2_smart.obs_names.str.contains('live')\n",
    "HepG2_smart=HepG2_smart[live_cells]\n",
    "\n",
    "# Remove spike-ins\n",
    "# Spike-ins genes\n",
    "HepG2_smart.var['sp'] = HepG2_smart.var_names.str.startswith('ERCC-')\n",
    "\n",
    "keep = np.invert(HepG2_smart.var['sp'])\n",
    "HepG2_smart=HepG2_smart[:,keep]\n",
    "print(HepG2_smart)\n",
    "\n",
    "sc.pp.filter_genes(HepG2_smart, min_cells=10)\n",
    "print(HepG2_smart)\n",
    "\n",
    "# Assign the raw data to the raw attribute of the adata object\n",
    "HepG2_smart.raw=HepG2_smart\n",
    "\n",
    "print(HepG2_smart.X.shape,HepG2_smart.raw.X.shape)\n",
    "\n",
    "sc.pp.log1p(HepG2_smart)"
   ]
  },
  {
   "cell_type": "code",
   "execution_count": null,
   "id": "84d5182d",
   "metadata": {},
   "outputs": [],
   "source": [
    "# Load the table with gene biotypes\n",
    "biotype_df=pd.read_csv(HepG2_folder+'Smart-seq2/HepG2_gene_biotype.csv',index_col=None)"
   ]
  },
  {
   "cell_type": "code",
   "execution_count": null,
   "id": "9250dcf4",
   "metadata": {},
   "outputs": [],
   "source": [
    "biotype_df.gene_biotype=biotype_df.gene_biotype.astype('category')"
   ]
  },
  {
   "cell_type": "code",
   "execution_count": null,
   "id": "39214f5d",
   "metadata": {},
   "outputs": [],
   "source": [
    "# Remove miRNAs, scRNA, rRNA, scaRNA, snRNA and snoRNA\n",
    "miRNA=HepG2_smart.var_names.isin(biotype_df[biotype_df.gene_biotype=='miRNA']['hgnc_symbol'])\n",
    "print('miRNA',sum(miRNA))\n",
    "rRNA=HepG2_smart.var_names.isin(biotype_df[biotype_df.gene_biotype=='rRNA']['hgnc_symbol'])\n",
    "print('rRNA',sum(rRNA))\n",
    "scRNA=HepG2_smart.var_names.isin(biotype_df[biotype_df.gene_biotype=='scRNA']['hgnc_symbol'])\n",
    "print('scRNA',sum(scRNA))\n",
    "scaRNA=HepG2_smart.var_names.isin(biotype_df[biotype_df.gene_biotype=='scaRNA']['hgnc_symbol'])\n",
    "print('scaRNA',sum(scaRNA))\n",
    "snRNA=HepG2_smart.var_names.isin(biotype_df[biotype_df.gene_biotype=='snRNA']['hgnc_symbol'])\n",
    "print('snRNA',sum(snRNA))\n",
    "snoRNA=HepG2_smart.var_names.isin(biotype_df[biotype_df.gene_biotype=='snoRNA']['hgnc_symbol'])\n",
    "print('snoRNA',sum(snoRNA))\n",
    "snara=HepG2_smart.var_names.str.startswith('SNAR-A')\n",
    "print('SNAR-A',sum(snara))\n",
    "snarb=HepG2_smart.var_names.str.startswith('SNAR-B')\n",
    "print('SNAR-B',sum(snarb))\n",
    "snord=HepG2_smart.var_names.str.startswith('SNORD')\n",
    "print('SNORD',sum(snord))"
   ]
  },
  {
   "cell_type": "code",
   "execution_count": null,
   "id": "2b83db29",
   "metadata": {},
   "outputs": [],
   "source": [
    "remove_HepG2 = np.add(miRNA, rRNA)\n",
    "remove_HepG2 = np.add(remove_HepG2, scRNA)\n",
    "remove_HepG2 = np.add(remove_HepG2, scaRNA)\n",
    "remove_HepG2 = np.add(remove_HepG2, snRNA)\n",
    "remove_HepG2 = np.add(remove_HepG2, snoRNA)\n",
    "remove_HepG2 = np.add(remove_HepG2, snara)\n",
    "remove_HepG2 = np.add(remove_HepG2, snarb)\n",
    "remove_HepG2 = np.add(remove_HepG2, snord)"
   ]
  },
  {
   "cell_type": "code",
   "execution_count": null,
   "id": "8cb3a7b0",
   "metadata": {},
   "outputs": [],
   "source": [
    "keep_HepG2 = np.invert(remove_HepG2)\n",
    "HepG2_smart = HepG2_smart[:,keep_HepG2].copy()\n",
    "HepG2_smart"
   ]
  },
  {
   "cell_type": "code",
   "execution_count": null,
   "id": "68207fae",
   "metadata": {},
   "outputs": [],
   "source": [
    "print(len(HepG2_smart.var_names),len(set(HepG2_smart.var_names)))"
   ]
  },
  {
   "cell_type": "markdown",
   "id": "09ee2418",
   "metadata": {},
   "source": [
    "### 10x"
   ]
  },
  {
   "cell_type": "code",
   "execution_count": null,
   "id": "f70526ed",
   "metadata": {},
   "outputs": [],
   "source": [
    "HepG2_10x=map_gene_names(HepG2_10x,mapping_HepG2_10x)\n",
    "\n",
    "# Remove spike-ins if present\n",
    "HepG2_10x.var['sp'] = HepG2_10x.var_names.str.startswith('ERCC-')\n",
    "\n",
    "keep = np.invert(HepG2_10x.var['sp'])\n",
    "HepG2_10x=HepG2_10x[:,keep].copy()\n",
    "print(HepG2_10x)\n",
    "\n",
    "sc.pp.filter_genes(HepG2_10x, min_cells=int(0.01*HepG2_10x.n_obs))\n",
    "print(HepG2_10x)\n",
    "HepG2_10x_for_ARACNe=HepG2_10x.copy()\n",
    "\n",
    "HepG2_10x.raw=HepG2_10x\n",
    "sc.pp.normalize_total(HepG2_10x,inplace=True)\n",
    "\n",
    "sc.pp.log1p(HepG2_10x)"
   ]
  },
  {
   "cell_type": "code",
   "execution_count": null,
   "id": "2423c2aa",
   "metadata": {},
   "outputs": [],
   "source": [
    "HepG2_10x.var_names_make_unique()"
   ]
  },
  {
   "cell_type": "markdown",
   "id": "16003b67",
   "metadata": {},
   "source": [
    "## K562"
   ]
  },
  {
   "cell_type": "markdown",
   "id": "694c59eb",
   "metadata": {},
   "source": [
    "### CEL-seq"
   ]
  },
  {
   "cell_type": "code",
   "execution_count": null,
   "id": "f19197a4",
   "metadata": {},
   "outputs": [],
   "source": [
    "cell_names=['cell_'+str(i) for i in range(K562_CEL.n_obs)]\n",
    "K562_CEL.obs_names=cell_names\n",
    "\n",
    "K562_CEL=map_gene_names(K562_CEL,mapping_K562_CEL)\n",
    "\n",
    "# Remove spike-ins\n",
    "# Spike-ins genes\n",
    "K562_CEL.var['sp'] = K562_CEL.var_names.str.startswith('ERCC-')\n",
    "\n",
    "keep = np.invert(K562_CEL.var['sp'])\n",
    "K562_CEL=K562_CEL[:,keep].copy()\n",
    "print(K562_CEL)\n",
    "\n",
    "sc.pp.filter_genes(K562_CEL, min_cells=int(0.1*K562_CEL.n_obs))\n",
    "print(K562_CEL)\n",
    "\n",
    "K562_CEL.raw=K562_CEL\n",
    "sc.pp.normalize_total(K562_CEL,inplace=True)\n",
    "\n",
    "K562_CEL_for_ARACNe=K562_CEL.copy()\n",
    "\n",
    "sc.pp.log1p(K562_CEL)"
   ]
  },
  {
   "cell_type": "markdown",
   "id": "17499548",
   "metadata": {},
   "source": [
    "### STORM-seq"
   ]
  },
  {
   "cell_type": "code",
   "execution_count": null,
   "id": "116c6965",
   "metadata": {},
   "outputs": [],
   "source": [
    "# Remove spike-ins\n",
    "# Spike-ins genes\n",
    "K562_STORM_1M.var['sp'] = K562_STORM_1M.var_names.str.startswith('ERCC-')\n",
    "\n",
    "keep = np.invert(K562_STORM_1M.var['sp'])\n",
    "K562_STORM_1M=K562_STORM_1M[:,keep].copy()\n",
    "print(K562_STORM_1M)\n",
    "\n",
    "sc.pp.filter_genes(K562_STORM_1M, min_cells=int(0.1*K562_STORM_1M.n_obs))\n",
    "print(K562_STORM_1M)\n",
    "\n",
    "K562_STORM_1M.raw=K562_STORM_1M\n",
    "# sc.pp.normalize_total(K562_STORM_1M,inplace=True)\n",
    "sc.pp.log1p(K562_STORM_1M)"
   ]
  },
  {
   "cell_type": "markdown",
   "id": "24de36d6",
   "metadata": {},
   "source": [
    "### Smart-seq3"
   ]
  },
  {
   "cell_type": "code",
   "execution_count": null,
   "id": "ba545e91",
   "metadata": {},
   "outputs": [],
   "source": [
    "# Remove spike-ins\n",
    "# Spike-ins genes\n",
    "K562_SMART3.var['sp'] = K562_SMART3.var_names.str.startswith('ERCC-')\n",
    "\n",
    "keep = np.invert(K562_SMART3.var['sp'])\n",
    "K562_SMART3=K562_SMART3[:,keep].copy()\n",
    "print(K562_SMART3)\n",
    "\n",
    "sc.pp.filter_genes(K562_SMART3, min_cells=int(0.1*K562_SMART3.n_obs))\n",
    "print(K562_SMART3)\n",
    "\n",
    "K562_SMART3.raw=K562_SMART3\n",
    "sc.pp.normalize_total(K562_SMART3,inplace=True)\n",
    "\n",
    "K562_SMART3_for_ARACNe = K562_SMART3.copy()\n",
    "\n",
    "sc.pp.log1p(K562_SMART3)"
   ]
  },
  {
   "cell_type": "markdown",
   "id": "d9260c3f",
   "metadata": {},
   "source": [
    "## Remove mitochondrial genes"
   ]
  },
  {
   "cell_type": "code",
   "execution_count": null,
   "id": "0dac9f11",
   "metadata": {},
   "outputs": [],
   "source": [
    "def FilterMito(adata):\n",
    "    mito_genes = adata.var_names.str.startswith('MT-')\n",
    "    genes_to_keep = np.invert(mito_genes)\n",
    "    print('before',adata)\n",
    "    adata = adata[:,genes_to_keep].copy()\n",
    "    print('after',adata)\n",
    "    return adata;"
   ]
  },
  {
   "cell_type": "code",
   "execution_count": null,
   "id": "a9b3c08c",
   "metadata": {},
   "outputs": [],
   "source": [
    "HepG2_smart=FilterMito(HepG2_smart)\n",
    "HepG2_10x=FilterMito(HepG2_10x)\n",
    "K562_CEL=FilterMito(K562_CEL)\n",
    "K562_STORM_1M=FilterMito(K562_STORM_1M)\n",
    "K562_SMART3=FilterMito(K562_SMART3)"
   ]
  },
  {
   "cell_type": "markdown",
   "id": "3693a5b9",
   "metadata": {},
   "source": [
    "# Diffusion pseudotime"
   ]
  },
  {
   "cell_type": "markdown",
   "id": "905bd432",
   "metadata": {},
   "source": [
    "## HepG2"
   ]
  },
  {
   "cell_type": "markdown",
   "id": "ed7a2073",
   "metadata": {},
   "source": [
    "### Smart-seq2"
   ]
  },
  {
   "cell_type": "code",
   "execution_count": null,
   "id": "c869a7b2",
   "metadata": {},
   "outputs": [],
   "source": [
    "sc.pp.highly_variable_genes(HepG2_smart,max_mean=10,n_top_genes=2000)  #calculate highly variable genes\n",
    "HepG2_smart_high = HepG2_smart[:,HepG2_smart.var['highly_variable']==True]  #select only highly variable genes\n",
    "sc.pp.scale(HepG2_smart_high,max_value=10)\n",
    "sc.tl.pca(HepG2_smart_high,svd_solver='arpack')\n",
    "sc.pl.pca_overview(HepG2_smart_high)"
   ]
  },
  {
   "cell_type": "code",
   "execution_count": null,
   "id": "ad957c8e",
   "metadata": {},
   "outputs": [],
   "source": [
    "sc.pp.neighbors(HepG2_smart_high, n_neighbors=10, n_pcs=10)\n",
    "sc.tl.umap(HepG2_smart_high)\n",
    "sc.tl.leiden(HepG2_smart_high)\n",
    "sc.pl.umap(HepG2_smart_high,color='leiden')"
   ]
  },
  {
   "cell_type": "code",
   "execution_count": null,
   "id": "1fb6d38b",
   "metadata": {},
   "outputs": [],
   "source": [
    "HepG2_smart_high.uns['iroot'] = np.argmin(HepG2_smart_high.obsm['X_umap'][:,1])\n",
    "\n",
    "# Create the diffusion map\n",
    "sc.tl.diffmap(HepG2_smart_high)\n",
    "\n",
    "# Run Diffusion Pseudotime with 0 branching event\n",
    "sc.tl.dpt(HepG2_smart_high)\n",
    "\n",
    "# Grab the output and store in our metadata DataFrame\n",
    "HepG2_smart_high.obs['dpt'] = HepG2_smart_high.obs['dpt_pseudotime']\n",
    "HepG2_smart_high.obs.head()"
   ]
  },
  {
   "cell_type": "markdown",
   "id": "4acbc8f4",
   "metadata": {},
   "source": [
    "### 10x"
   ]
  },
  {
   "cell_type": "code",
   "execution_count": null,
   "id": "294a6e50",
   "metadata": {},
   "outputs": [],
   "source": [
    "sc.pp.highly_variable_genes(HepG2_10x,max_mean=10,n_top_genes=2000)  #calculate highly variable genes\n",
    "HepG2_10x_high = HepG2_10x[:,HepG2_10x.var['highly_variable']==True]  #select only highly variable genes\n",
    "sc.pp.scale(HepG2_10x_high,max_value=10)\n",
    "sc.tl.pca(HepG2_10x_high,svd_solver='arpack')\n",
    "sc.pl.pca_overview(HepG2_10x_high)"
   ]
  },
  {
   "cell_type": "code",
   "execution_count": null,
   "id": "b6ce4540",
   "metadata": {},
   "outputs": [],
   "source": [
    "sc.pp.neighbors(HepG2_10x_high, n_pcs=10)\n",
    "sc.tl.umap(HepG2_10x_high)\n",
    "sc.tl.leiden(HepG2_10x_high)\n",
    "sc.pl.umap(HepG2_10x_high,color='leiden')"
   ]
  },
  {
   "cell_type": "code",
   "execution_count": null,
   "id": "25f284a9",
   "metadata": {},
   "outputs": [],
   "source": [
    "HepG2_10x_high.uns['iroot'] = np.argmin(HepG2_10x_high.obsm['X_umap'][:,0])\n",
    "\n",
    "# Create the diffusion map\n",
    "sc.tl.diffmap(HepG2_10x_high)\n",
    "\n",
    "# Run Diffusion Pseudotime with 1 branching event\n",
    "sc.tl.dpt(HepG2_10x_high)\n",
    "\n",
    "# Grab the output and store in our metadata DataFrame\n",
    "HepG2_10x_high.obs['dpt'] = HepG2_10x_high.obs['dpt_pseudotime']\n",
    "# HepG2_10x_high.obs['dpt_branch'] = HepG2_10x_high.obs['dpt_groups'].astype(int)\n",
    "HepG2_10x_high.obs.head()"
   ]
  },
  {
   "cell_type": "markdown",
   "id": "44d4b274",
   "metadata": {},
   "source": [
    "### Check the overlap between the highly variable genes"
   ]
  },
  {
   "cell_type": "code",
   "execution_count": null,
   "id": "7f9ff6dd",
   "metadata": {},
   "outputs": [],
   "source": [
    "def jaccard_similarity(list1, list2):\n",
    "    intersection = len(list(set(list1).intersection(list2)))\n",
    "    union = (len(set(list1)) + len(set(list2))) - intersection\n",
    "    return float(intersection) / union"
   ]
  },
  {
   "cell_type": "code",
   "execution_count": null,
   "id": "5294b191",
   "metadata": {},
   "outputs": [],
   "source": [
    "import seaborn as sns\n",
    "\n",
    "protocols=['Smart-seq2','10x']\n",
    "ct='HepG2'\n",
    "adatas=[HepG2_smart_high,HepG2_10x_high]\n",
    "\n",
    "jaccard=np.zeros((len(adatas),len(adatas)))\n",
    "\n",
    "i=0\n",
    "for (adata1,prot1) in zip(adatas,protocols):\n",
    "    j=0\n",
    "    for (adata2,prot2) in zip(adatas,protocols):\n",
    "        jaccard[i,j]=jaccard_similarity(list(adata1.var_names),list(adata2.var_names))\n",
    "        j+=1\n",
    "    i+=1"
   ]
  },
  {
   "cell_type": "code",
   "execution_count": null,
   "id": "0f7e37c1",
   "metadata": {},
   "outputs": [],
   "source": [
    "# Getting the Upper Triangle of the co-relation matrix\n",
    "matrix = np.triu(jaccard)\n",
    "\n",
    "fig,ax =plt.subplots()\n",
    "ax.set_title('HepG2')\n",
    "# using the upper triangle matrix as mask \n",
    "sns.heatmap(jaccard, annot=True, mask=matrix,ax=ax,\n",
    "           xticklabels=protocols,yticklabels=protocols)\n",
    "plt.show(),plt.close()"
   ]
  },
  {
   "cell_type": "markdown",
   "id": "7593a360",
   "metadata": {},
   "source": [
    "## K562"
   ]
  },
  {
   "cell_type": "markdown",
   "id": "c7fb4a11",
   "metadata": {},
   "source": [
    "### CEL-seq"
   ]
  },
  {
   "cell_type": "code",
   "execution_count": null,
   "id": "1ffd30c9",
   "metadata": {},
   "outputs": [],
   "source": [
    "sc.pp.highly_variable_genes(K562_CEL,max_mean=10,n_top_genes=2000)  #calculate highly variable genes\n",
    "K562_CEL_high = K562_CEL[:,K562_CEL.var['highly_variable']==True]  #select only highly variable genes\n",
    "sc.pp.scale(K562_CEL_high,max_value=10)\n",
    "sc.tl.pca(K562_CEL_high,svd_solver='arpack')\n",
    "sc.pl.pca_overview(K562_CEL_high)"
   ]
  },
  {
   "cell_type": "code",
   "execution_count": null,
   "id": "5dcebc7b",
   "metadata": {},
   "outputs": [],
   "source": [
    "sc.pp.neighbors(K562_CEL_high, n_neighbors=15, n_pcs=10)\n",
    "sc.tl.umap(K562_CEL_high)\n",
    "sc.pl.umap(K562_CEL_high)"
   ]
  },
  {
   "cell_type": "code",
   "execution_count": null,
   "id": "845fb127",
   "metadata": {},
   "outputs": [],
   "source": [
    "sc.tl.leiden(K562_CEL_high)\n",
    "sc.pl.umap(K562_CEL_high,color='leiden')"
   ]
  },
  {
   "cell_type": "code",
   "execution_count": null,
   "id": "fa3415fb",
   "metadata": {},
   "outputs": [],
   "source": [
    "K562_CEL_high.uns['iroot'] = np.argmin(K562_CEL_high.obsm['X_umap'][:,0])\n",
    "\n",
    "# Create the diffusion map\n",
    "sc.tl.diffmap(K562_CEL_high)\n",
    "\n",
    "# Run Diffusion Pseudotime with 1 branching event\n",
    "sc.tl.dpt(K562_CEL_high)\n",
    "\n",
    "# Grab the output and store in our metadata DataFrame\n",
    "K562_CEL_high.obs['dpt'] = K562_CEL_high.obs['dpt_pseudotime']\n",
    "K562_CEL_high.obs.head()"
   ]
  },
  {
   "cell_type": "markdown",
   "id": "ee904ade",
   "metadata": {},
   "source": [
    "### STORM-seq"
   ]
  },
  {
   "cell_type": "code",
   "execution_count": null,
   "id": "6b28a4da",
   "metadata": {},
   "outputs": [],
   "source": [
    "sc.pp.highly_variable_genes(K562_STORM_1M,max_mean=10,n_top_genes=2000)  #calculate highly variable genes\n",
    "K562_STORM_high = K562_STORM_1M[:,K562_STORM_1M.var['highly_variable']==True]  #select only highly variable genes\n",
    "sc.pp.scale(K562_STORM_high,max_value=10)\n",
    "sc.tl.pca(K562_STORM_high,svd_solver='arpack')\n",
    "sc.pl.pca_overview(K562_STORM_high)"
   ]
  },
  {
   "cell_type": "code",
   "execution_count": null,
   "id": "a6064a52",
   "metadata": {},
   "outputs": [],
   "source": [
    "# Drop one outlier cells very far away from the others in the PCA\n",
    "t = K562_STORM_1M.obs.drop(index=K562_STORM_1M.obs_names[np.argmax(K562_STORM_high.obsm['X_pca'][:,0])])\n",
    "K562_STORM_1M= K562_STORM_1M[K562_STORM_1M.obs.index.isin(t.index.to_list())].copy()"
   ]
  },
  {
   "cell_type": "code",
   "execution_count": null,
   "id": "4353f1fe",
   "metadata": {},
   "outputs": [],
   "source": [
    "sc.pp.highly_variable_genes(K562_STORM_1M,max_mean=10,n_top_genes=2000)  #calculate highly variable genes\n",
    "K562_STORM_high = K562_STORM_1M[:,K562_STORM_1M.var['highly_variable']==True]  #select only highly variable genes\n",
    "sc.pp.scale(K562_STORM_high,max_value=10)\n",
    "sc.tl.pca(K562_STORM_high,svd_solver='arpack')\n",
    "sc.pl.pca_overview(K562_STORM_high)"
   ]
  },
  {
   "cell_type": "code",
   "execution_count": null,
   "id": "27807fd2",
   "metadata": {},
   "outputs": [],
   "source": [
    "sc.pp.neighbors(K562_STORM_high, n_neighbors=15, n_pcs=10)\n",
    "sc.tl.umap(K562_STORM_high)\n",
    "sc.pl.umap(K562_STORM_high)"
   ]
  },
  {
   "cell_type": "code",
   "execution_count": null,
   "id": "5c52ed12",
   "metadata": {},
   "outputs": [],
   "source": [
    "sc.tl.leiden(K562_STORM_high)\n",
    "sc.pl.umap(K562_STORM_high,color='leiden')"
   ]
  },
  {
   "cell_type": "code",
   "execution_count": null,
   "id": "b22184a8",
   "metadata": {},
   "outputs": [],
   "source": [
    "K562_STORM_high.uns['iroot'] = np.argmax(K562_STORM_high.obsm['X_umap'][:,1])\n",
    "\n",
    "# Create the diffusion map\n",
    "sc.tl.diffmap(K562_STORM_high)\n",
    "\n",
    "# Run Diffusion Pseudotime with 1 branching event\n",
    "sc.tl.dpt(K562_STORM_high)\n",
    "\n",
    "# Grab the output and store in our metadata DataFrame\n",
    "K562_STORM_high.obs['dpt'] = K562_STORM_high.obs['dpt_pseudotime']\n",
    "K562_STORM_high.obs.head()"
   ]
  },
  {
   "cell_type": "markdown",
   "id": "ffb7eaba",
   "metadata": {},
   "source": [
    "### Smart-seq3"
   ]
  },
  {
   "cell_type": "code",
   "execution_count": null,
   "id": "48fb7333",
   "metadata": {},
   "outputs": [],
   "source": [
    "# NOTE: we remove the genes differentially expressed between the treatments\n",
    "DE_genes=np.loadtxt(K562_folder+\"K562_Smartseq3_DE_genes_treatment.txt\",dtype=str)\n",
    "print(len(DE_genes))\n",
    "\n",
    "print(K562_SMART3.n_vars)\n",
    "nonDEgenes = [name for name in K562_SMART3.var_names if not name in list(DE_genes)]\n",
    "print(len(nonDEgenes))"
   ]
  },
  {
   "cell_type": "code",
   "execution_count": null,
   "id": "0949a24f",
   "metadata": {},
   "outputs": [],
   "source": [
    "K562_SMART3=K562_SMART3[:,nonDEgenes].copy()\n",
    "K562_SMART3_for_ARACNe=K562_SMART3_for_ARACNe[:,nonDEgenes].copy()"
   ]
  },
  {
   "cell_type": "code",
   "execution_count": null,
   "id": "1a352a9a",
   "metadata": {},
   "outputs": [],
   "source": [
    "sc.pp.highly_variable_genes(K562_SMART3,max_mean=10,n_top_genes=2000)  #calculate highly variable genes\n",
    "K562_SMART3_high = K562_SMART3[:,K562_SMART3.var['highly_variable']==True]  #select only highly variable genes\n",
    "sc.pp.scale(K562_SMART3_high,max_value=10)\n",
    "sc.tl.pca(K562_SMART3_high,svd_solver='arpack')\n",
    "sc.pl.pca_overview(K562_SMART3_high)"
   ]
  },
  {
   "cell_type": "code",
   "execution_count": null,
   "id": "0fafc064",
   "metadata": {},
   "outputs": [],
   "source": [
    "sc.pp.neighbors(K562_SMART3_high, n_neighbors=15, n_pcs=10)\n",
    "sc.tl.umap(K562_SMART3_high)\n",
    "sc.pl.umap(K562_SMART3_high)"
   ]
  },
  {
   "cell_type": "code",
   "execution_count": null,
   "id": "ba199381",
   "metadata": {},
   "outputs": [],
   "source": [
    "sc.tl.leiden(K562_SMART3_high)\n",
    "sc.pl.umap(K562_SMART3_high,color='leiden')"
   ]
  },
  {
   "cell_type": "code",
   "execution_count": null,
   "id": "bf6ffdc0",
   "metadata": {},
   "outputs": [],
   "source": [
    "K562_SMART3_high.uns['iroot'] = np.argmax(K562_SMART3_high.obsm['X_umap'][:,0])\n",
    "\n",
    "# Create the diffusion map\n",
    "sc.tl.diffmap(K562_SMART3_high)\n",
    "\n",
    "# Run Diffusion Pseudotime with 1 branching event\n",
    "sc.tl.dpt(K562_SMART3_high)\n",
    "\n",
    "# Grab the output and store in our metadata DataFrame\n",
    "K562_SMART3_high.obs['dpt'] = K562_SMART3_high.obs['dpt_pseudotime']\n",
    "K562_SMART3_high.obs.head()"
   ]
  },
  {
   "cell_type": "markdown",
   "id": "b8559dbb",
   "metadata": {},
   "source": [
    "### Check the overlap between the highly variable genes"
   ]
  },
  {
   "cell_type": "code",
   "execution_count": null,
   "id": "8e89b7f0",
   "metadata": {},
   "outputs": [],
   "source": [
    "def jaccard_similarity(list1, list2):\n",
    "    intersection = len(list(set(list1).intersection(list2)))\n",
    "    union = (len(set(list1)) + len(set(list2))) - intersection\n",
    "    return float(intersection) / union"
   ]
  },
  {
   "cell_type": "code",
   "execution_count": null,
   "id": "64c4244f",
   "metadata": {},
   "outputs": [],
   "source": [
    "import seaborn as sns\n",
    "\n",
    "protocols=['CEL-seq','STORM-seq','Smart-seq3']\n",
    "ct='K562'\n",
    "adatas=[K562_CEL_high,K562_STORM_high,K562_SMART3_high]\n",
    "\n",
    "jaccard=np.zeros((len(adatas),len(adatas)))\n",
    "\n",
    "i=0\n",
    "for (adata1,prot1) in zip(adatas,protocols):\n",
    "    j=0\n",
    "    for (adata2,prot2) in zip(adatas,protocols):\n",
    "        jaccard[i,j]=jaccard_similarity(list(adata1.var_names),list(adata2.var_names))\n",
    "        j+=1\n",
    "    i+=1"
   ]
  },
  {
   "cell_type": "code",
   "execution_count": null,
   "id": "74b4d848",
   "metadata": {},
   "outputs": [],
   "source": [
    "# Getting the Upper Triangle of the co-relation matrix\n",
    "matrix = np.triu(jaccard)\n",
    "\n",
    "fig,ax =plt.subplots()\n",
    "ax.set_title('K562')\n",
    "# using the upper triangle matrix as mask \n",
    "sns.heatmap(jaccard, annot=True, mask=matrix,ax=ax,\n",
    "           xticklabels=protocols,yticklabels=protocols)\n",
    "plt.show(),plt.close()"
   ]
  },
  {
   "cell_type": "markdown",
   "id": "f8e63810",
   "metadata": {},
   "source": [
    "## Save pseudotime data"
   ]
  },
  {
   "cell_type": "code",
   "execution_count": null,
   "id": "75565623",
   "metadata": {},
   "outputs": [],
   "source": [
    "pseudo_folder=input_folder+'PseudoTime/'\n",
    "\n",
    "if os.path.isdir(pseudo_folder)==False:\n",
    "    os.mkdir(pseudo_folder)"
   ]
  },
  {
   "cell_type": "markdown",
   "id": "ab007cc4",
   "metadata": {},
   "source": [
    "### HepG2"
   ]
  },
  {
   "cell_type": "code",
   "execution_count": null,
   "id": "1d172665",
   "metadata": {},
   "outputs": [],
   "source": [
    "pseudo_df=pd.DataFrame(data=HepG2_smart_high.obs['dpt'], index=HepG2_smart_high.obs_names)\n",
    "pseudo_df.to_csv(pseudo_folder+'HepG2_Smartseq2_PseudoTime.csv')\n",
    "\n",
    "pseudo_df=pd.DataFrame(data=HepG2_10x_high.obs['dpt'], index=HepG2_10x_high.obs_names)\n",
    "pseudo_df.to_csv(pseudo_folder+'HepG2_10x_PseudoTime.csv')"
   ]
  },
  {
   "cell_type": "code",
   "execution_count": null,
   "id": "16ce7aab",
   "metadata": {},
   "outputs": [],
   "source": [
    "pseudo_df=pd.DataFrame(data=K562_CEL_high.obs['dpt'], index=K562_CEL_high.obs_names)\n",
    "pseudo_df.to_csv(pseudo_folder+'K562_CELseq_PseudoTime.csv')\n",
    "\n",
    "pseudo_df=pd.DataFrame(data=K562_STORM_high.obs['dpt'], index=K562_STORM_high.obs_names)\n",
    "pseudo_df.to_csv(pseudo_folder+'K562_STORMseq1M_PseudoTime.csv')\n",
    "\n",
    "pseudo_df=pd.DataFrame(data=K562_SMART3_high.obs['dpt'], index=K562_SMART3_high.obs_names)\n",
    "pseudo_df.to_csv(pseudo_folder+'K562_Smartseq3seq_PseudoTime.csv')"
   ]
  },
  {
   "cell_type": "markdown",
   "id": "8cabbfd6",
   "metadata": {},
   "source": [
    "## Save the processed data for gene selection"
   ]
  },
  {
   "cell_type": "code",
   "execution_count": null,
   "id": "4d038a3c",
   "metadata": {},
   "outputs": [],
   "source": [
    "proc_folder=input_folder+'processed_data/'\n",
    "if os.path.isdir(proc_folder)==False:\n",
    "    os.mkdir(proc_folder)"
   ]
  },
  {
   "cell_type": "code",
   "execution_count": null,
   "id": "1c7da99a",
   "metadata": {},
   "outputs": [],
   "source": [
    "HepG2_smart.write_h5ad(proc_folder+'processed_HepG2_Smartseq2.h5ad')\n",
    "HepG2_10x.write_h5ad(proc_folder+'processed_HepG2_10x.h5ad')\n",
    "\n",
    "K562_CEL.write_h5ad(proc_folder+'processed_K562_CELseq.h5ad')\n",
    "K562_CEL_for_ARACNe.write_h5ad(proc_folder+'processed_K562_CELseq_ARACNe.h5ad')\n",
    "\n",
    "K562_STORM_1M.write_h5ad(proc_folder+'processed_K562_STORMseq1M.h5ad')\n",
    "K562_SMART3.write_h5ad(proc_folder+'processed_K562_Smartseq3.h5ad')\n",
    "K562_SMART3_for_ARACNe.write_h5ad(proc_folder+'processed_K562_Smartseq3_ARACNe.h5ad')"
   ]
  }
 ],
 "metadata": {
  "kernelspec": {
   "display_name": "INTERACTomics-venv",
   "language": "python",
   "name": "interactomics-venv"
  },
  "language_info": {
   "codemirror_mode": {
    "name": "ipython",
    "version": 3
   },
   "file_extension": ".py",
   "mimetype": "text/x-python",
   "name": "python",
   "nbconvert_exporter": "python",
   "pygments_lexer": "ipython3",
   "version": "3.7.7"
  },
  "toc": {
   "base_numbering": 1,
   "nav_menu": {},
   "number_sections": true,
   "sideBar": true,
   "skip_h1_title": false,
   "title_cell": "Table of Contents",
   "title_sidebar": "Contents",
   "toc_cell": false,
   "toc_position": {
    "height": "calc(100% - 180px)",
    "left": "10px",
    "top": "150px",
    "width": "239.27499389648438px"
   },
   "toc_section_display": true,
   "toc_window_display": true
  }
 },
 "nbformat": 4,
 "nbformat_minor": 5
}
