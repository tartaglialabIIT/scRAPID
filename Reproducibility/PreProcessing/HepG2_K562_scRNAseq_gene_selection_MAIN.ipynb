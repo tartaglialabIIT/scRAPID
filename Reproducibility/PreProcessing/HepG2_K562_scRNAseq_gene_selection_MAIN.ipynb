{
 "cells": [
  {
   "cell_type": "markdown",
   "id": "5a4b83ed",
   "metadata": {},
   "source": [
    "# Gene selection for GRN inference"
   ]
  },
  {
   "cell_type": "markdown",
   "id": "c58fb41d",
   "metadata": {},
   "source": [
    "02/12/2022\n",
    "\n",
    "Here we select the set of genes for the GRN inference in the main text.\n",
    "\n",
    "We use the Smart-seq2, 10x and SCAN-seq2 (9CL) data for Hepg2, the CEL-seq, STORM-seq 1M reads, Smart-seq3, SCAN-seq2 9CL and UMI200 for K562.\n",
    "\n",
    "For each dataset we consider only genes present in the fasta file of the canonical isoforms used for the annotation of the eCLIP data. \n",
    "\n",
    "We select the following sets of genes:\n",
    "\n",
    "- HVTFs + top 500/1000 HVGs\n",
    "- eCLIP RBPs + top 500/1000 HVGs"
   ]
  },
  {
   "cell_type": "code",
   "execution_count": null,
   "id": "1c30e737",
   "metadata": {},
   "outputs": [],
   "source": [
    "%matplotlib inline"
   ]
  },
  {
   "cell_type": "code",
   "execution_count": null,
   "id": "9b35de34",
   "metadata": {},
   "outputs": [],
   "source": [
    "import scanpy as sc\n",
    "import anndata as ad\n",
    "import numpy as np\n",
    "import pandas as pd\n",
    "import os"
   ]
  },
  {
   "cell_type": "code",
   "execution_count": null,
   "id": "2f0a8190",
   "metadata": {},
   "outputs": [],
   "source": [
    "input_folder='./'\n",
    "proc_folder=input_folder+'processed_data/'"
   ]
  },
  {
   "cell_type": "markdown",
   "id": "ed9903a2",
   "metadata": {},
   "source": [
    "## Load the fasta file with the canonical isoforms"
   ]
  },
  {
   "cell_type": "code",
   "execution_count": null,
   "id": "6818ed71",
   "metadata": {},
   "outputs": [],
   "source": [
    "from Bio import SeqIO\n",
    "gname=[]\n",
    "gid=[]\n",
    "f_open = open(\"/Users/jonathan/Desktop/IIT/INTERACTomics/ENCODE_eCLIP_DATA/transcriptomes/hsapiens_gene_ensembl_107_canonical_new.fa\", \"rU\")\n",
    "for rec in SeqIO.parse(f_open, \"fasta\"):\n",
    "    myid = rec.id\n",
    "    gname.append(myid.split('|')[4])\n",
    "    gid.append(myid.split('|')[0])"
   ]
  },
  {
   "cell_type": "markdown",
   "id": "e8d31d33",
   "metadata": {},
   "source": [
    "## Loading scRNA-seq pre-processed data"
   ]
  },
  {
   "cell_type": "code",
   "execution_count": null,
   "id": "8bafbca9",
   "metadata": {},
   "outputs": [],
   "source": [
    "HepG2_SMART=ad.read_h5ad(proc_folder+'processed_HepG2_Smartseq2.h5ad')\n",
    "HepG2_10x=ad.read_h5ad(proc_folder+'processed_HepG2_10x.h5ad')\n",
    "\n",
    "HepG2_9CL_SCAN=ad.read_h5ad(proc_folder+'processed_HepG2_9CL_SCANseq2.h5ad')\n",
    "HepG2_9CL_SCAN_ARACNe=ad.read_h5ad(proc_folder+'processed_HepG2_9CL_SCANseq2_ARACNe.h5ad')\n",
    "\n",
    "\n",
    "K562_CEL=ad.read_h5ad(proc_folder+'processed_K562_CELseq.h5ad')\n",
    "K562_CEL_ARACNe=ad.read_h5ad(proc_folder+'processed_K562_CELseq_ARACNe.h5ad')\n",
    "\n",
    "K562_STORM=ad.read_h5ad(proc_folder+'processed_K562_STORMseq1M.h5ad')\n",
    "\n",
    "K562_SMART3=ad.read_h5ad(proc_folder+'processed_K562_Smartseq3.h5ad')\n",
    "K562_SMART3_ARACNe=ad.read_h5ad(proc_folder+'processed_K562_Smartseq3.h5ad')\n",
    "\n",
    "K562_9CL_SCAN=ad.read_h5ad(proc_folder+'processed_K562_9CL_SCANseq2.h5ad')\n",
    "K562_9CL_SCAN_ARACNe=ad.read_h5ad(proc_folder+'processed_K562_9CL_SCANseq2_ARACNe.h5ad')\n",
    "\n",
    "K562_UMI200_SCAN=ad.read_h5ad(proc_folder+'processed_K562_UMI200_SCANseq2.h5ad')\n",
    "K562_UMI200_SCAN_ARACNe=ad.read_h5ad(proc_folder+'processed_K562_UMI200_SCANseq2_ARACNe.h5ad')"
   ]
  },
  {
   "cell_type": "code",
   "execution_count": null,
   "id": "d18d5980",
   "metadata": {},
   "outputs": [],
   "source": [
    "# Consider only genes present in the fasta file\n",
    "def Genes_in_fasta(adata,gnames):\n",
    "    print(adata)\n",
    "    inters=list(set(adata.var_names).intersection(set(gnames)))\n",
    "    adata=adata[:,inters].copy()\n",
    "    print(adata)\n",
    "    return adata;"
   ]
  },
  {
   "cell_type": "code",
   "execution_count": null,
   "id": "72e68afa",
   "metadata": {},
   "outputs": [],
   "source": [
    "HepG2_SMART=Genes_in_fasta(HepG2_SMART,gname)\n",
    "HepG2_10x=Genes_in_fasta(HepG2_10x,gname)\n",
    "# HepG2_10x_ARACNe=Genes_in_fasta(HepG2_10x_ARACNe,gname)\n",
    "HepG2_9CL_SCAN=Genes_in_fasta(HepG2_9CL_SCAN,gname)\n",
    "HepG2_9CL_SCAN_ARACNe=Genes_in_fasta(HepG2_9CL_SCAN_ARACNe,gname)\n",
    "\n",
    "\n",
    "K562_CEL=Genes_in_fasta(K562_CEL,gname)\n",
    "K562_CEL_ARACNe=Genes_in_fasta(K562_CEL_ARACNe,gname)\n",
    "\n",
    "K562_STORM=Genes_in_fasta(K562_STORM,gname)\n",
    "K562_SMART3=Genes_in_fasta(K562_SMART3,gname)\n",
    "K562_SMART3_ARACNe=Genes_in_fasta(K562_SMART3_ARACNe,gname)\n",
    "\n",
    "K562_9CL_SCAN=Genes_in_fasta(K562_9CL_SCAN,gname)\n",
    "K562_9CL_SCAN_ARACNe=Genes_in_fasta(K562_9CL_SCAN_ARACNe,gname)\n",
    "\n",
    "K562_UMI200_SCAN=Genes_in_fasta(K562_UMI200_SCAN,gname)\n",
    "K562_UMI200_SCAN_ARACNe=Genes_in_fasta(K562_UMI200_SCAN_ARACNe,gname)"
   ]
  },
  {
   "cell_type": "markdown",
   "id": "07a4875f",
   "metadata": {},
   "source": [
    "## Load TFs and RBPs"
   ]
  },
  {
   "cell_type": "code",
   "execution_count": null,
   "id": "42a97436",
   "metadata": {},
   "outputs": [],
   "source": [
    "# Load TFs from Beeline\n",
    "TFs=pd.read_csv('human-tfs.csv')\n",
    "TFs=list(set(TFs['TF']))\n",
    "len(TFs)"
   ]
  },
  {
   "cell_type": "code",
   "execution_count": null,
   "id": "d1f0d808",
   "metadata": {},
   "outputs": [],
   "source": [
    "RBPs=list(np.loadtxt(\"eCLIP_RBPs.txt\",dtype=str))"
   ]
  },
  {
   "cell_type": "markdown",
   "id": "bacb03ae",
   "metadata": {},
   "source": [
    "## Gene sets"
   ]
  },
  {
   "cell_type": "code",
   "execution_count": null,
   "id": "11720119",
   "metadata": {},
   "outputs": [],
   "source": [
    "import seaborn as sns\n",
    "import matplotlib.pyplot as plt\n",
    "\n",
    "def jaccard_similarity(list1, list2):\n",
    "    intersection = len(list(set(list1).intersection(list2)))\n",
    "    union = (len(set(list1)) + len(set(list2))) - intersection\n",
    "    return float(intersection) / union\n",
    "\n",
    "def jaccard_heatmap(adatas,protocols,ct):\n",
    "    jaccard=np.zeros((len(adatas),len(adatas)))\n",
    "    i=0\n",
    "    for (adata1,prot1) in zip(adatas,protocols):\n",
    "        j=0\n",
    "        for (adata2,prot2) in zip(adatas,protocols):\n",
    "            jaccard[i,j]=jaccard_similarity(list(adata1),list(adata2))\n",
    "            j+=1\n",
    "        i+=1\n",
    "    \n",
    "    # Getting the Upper Triangle of the co-relation matrix\n",
    "    matrix = np.triu(jaccard)\n",
    "\n",
    "    fig,ax =plt.subplots()\n",
    "    ax.set_title(ct)\n",
    "    # using the upper triangle matrix as mask \n",
    "    sns.heatmap(jaccard, annot=True, mask=matrix,ax=ax,\n",
    "           xticklabels=protocols,yticklabels=protocols)\n",
    "    plt.show(),plt.close()"
   ]
  },
  {
   "cell_type": "markdown",
   "id": "5b65d196",
   "metadata": {},
   "source": [
    "### Highly variable genes"
   ]
  },
  {
   "cell_type": "code",
   "execution_count": null,
   "id": "81cd7916",
   "metadata": {},
   "outputs": [],
   "source": [
    "from gtfparse import read_gtf\n",
    "\n",
    "# gtf from GENCODE corresponding to ENSEMBL 107\n",
    "gtf_df = read_gtf(\"/Users/jonathan/Desktop/IIT/INTERACTomics/ENCODE_eCLIP_DATA/transcriptomes_gencode_V41/gencode.v41.primary_assembly.annotation.gtf\")\n",
    "gtf_df_pc=gtf_df[gtf_df.gene_type=='protein_coding']\n",
    "gnames_pc=set(gtf_df_pc.gene_name)\n",
    "gtf_df_lnc = read_gtf(\"/Users/jonathan/Desktop/IIT/INTERACTomics/ENCODE_eCLIP_DATA/transcriptomes_gencode_V41/gencode.v41.long_noncoding_RNAs.gtf\")\n",
    "gnames_nc=set(gtf_df_lnc.gene_name)\n",
    "    \n",
    "\n",
    "def HVgenes_noother(adata,eclip,ct,n):\n",
    "    \n",
    "    gnames=list(set(list(gnames_pc)+list(gnames_nc)))\n",
    "    print('Total nr genes',len(set(gnames).intersection(set(adata.var_names))))\n",
    "    inters=list(set(gnames).intersection(set(adata.var_names)))\n",
    "    \n",
    "    adata_all=adata[:,inters].copy()\n",
    "    sc.pp.highly_variable_genes(adata_all,max_mean=10,n_top_genes=n)\n",
    "    adata_HVGs=adata_all[:,adata_all.var['highly_variable']==True].copy()\n",
    "    \n",
    "    ordered_HVGs=adata_HVGs.var.sort_values('dispersions_norm',ascending=False).index\n",
    "    \n",
    "    return ordered_HVGs;"
   ]
  },
  {
   "cell_type": "code",
   "execution_count": null,
   "id": "c75beab4",
   "metadata": {},
   "outputs": [],
   "source": [
    "HVGs_noother_HepG2_Smartseq2_500=HVgenes_noother(HepG2_SMART,eclip_HepG2,'HepG2_Smartseq2',500)\n",
    "HVGs_noother_HepG2_Smartseq2_1000=HVgenes_noother(HepG2_SMART,eclip_HepG2,'HepG2_Smartseq2',1000)\n",
    "\n",
    "HVGs_noother_HepG2_10x_500=HVgenes_noother(HepG2_10x,eclip_HepG2,'HepG2_10x',500)\n",
    "HVGs_noother_HepG2_10x_1000=HVgenes_noother(HepG2_10x,eclip_HepG2,'HepG2_10x',1000)\n",
    "\n",
    "HVGs_noother_HepG2_9CL_SCAN_500=HVgenes_noother(HepG2_9CL_SCAN,eclip_HepG2,'HepG2_9CL_SCAN',500)\n",
    "HVGs_noother_HepG2_9CL_SCAN_1000=HVgenes_noother(HepG2_9CL_SCAN,eclip_HepG2,'HepG2_9CL_SCAN',1000)"
   ]
  },
  {
   "cell_type": "code",
   "execution_count": null,
   "id": "62e831f9",
   "metadata": {},
   "outputs": [],
   "source": [
    "jaccard_heatmap([HVGs_noother_HepG2_Smartseq2_500,HVGs_noother_HepG2_10x_500,\n",
    "                HVGs_noother_HepG2_9CL_SCAN_500],['Smart-seq2','10x', 'SCAN-seq2'],'HepG2')"
   ]
  },
  {
   "cell_type": "code",
   "execution_count": null,
   "id": "910455f7",
   "metadata": {},
   "outputs": [],
   "source": [
    "jaccard_heatmap([HVGs_noother_HepG2_Smartseq2_1000,HVGs_noother_HepG2_10x_1000,\n",
    "                HVGs_noother_HepG2_9CL_SCAN_1000],['Smart-seq2','10x','SCAN-seq2'],'HepG2')"
   ]
  },
  {
   "cell_type": "code",
   "execution_count": null,
   "id": "87c01ea0",
   "metadata": {},
   "outputs": [],
   "source": [
    "HVGs_noother_K562_CELseq_500=HVgenes_noother(K562_CEL,eclip_K562,'K562_CELseq',500)\n",
    "HVGs_noother_K562_CELseq_1000=HVgenes_noother(K562_CEL,eclip_K562,'K562_CELseq',1000)\n",
    "\n",
    "\n",
    "HVGs_noother_K562_STORMseq_500=HVgenes_noother(K562_STORM,eclip_K562,'K562_STORMseq',500)\n",
    "HVGs_noother_K562_STORMseq_1000=HVgenes_noother(K562_STORM,eclip_K562,'K562_STORMseq',1000)\n",
    "\n",
    "\n",
    "HVGs_noother_K562_Smartseq3_500=HVgenes_noother(K562_SMART3,eclip_K562,'K562_Smartseq3',500)\n",
    "HVGs_noother_K562_Smartseq3_1000=HVgenes_noother(K562_SMART3,eclip_K562,'K562_Smartseq3',1000)\n",
    "\n",
    "HVGs_noother_K562_9CL_SCAN_500=HVgenes_noother(K562_9CL_SCAN,eclip_K562,'K562_9CL_SCAN',500)\n",
    "HVGs_noother_K562_9CL_SCAN_1000=HVgenes_noother(K562_9CL_SCAN,eclip_K562,'K562_9CL_SCAN',1000)\n",
    "\n",
    "HVGs_noother_K562_UMI200_SCAN_500=HVgenes_noother(K562_UMI200_SCAN,eclip_K562,'K562_UMI200_SCAN',500)\n",
    "HVGs_noother_K562_UMI200_SCAN_1000=HVgenes_noother(K562_UMI200_SCAN,eclip_K562,'K562_UMI200_SCAN',1000)"
   ]
  },
  {
   "cell_type": "code",
   "execution_count": null,
   "id": "54277753",
   "metadata": {},
   "outputs": [],
   "source": [
    "jaccard_heatmap([HVGs_noother_K562_CELseq_500,HVGs_noother_K562_STORMseq_500,\n",
    "                 HVGs_noother_K562_Smartseq3_500,HVGs_noother_K562_9CL_SCAN_500,\n",
    "                HVGs_noother_K562_UMI200_SCAN_500],\n",
    "                ['CEL-seq','STORM-seq','Smart-seq3','9CL_SCAN-seq2','UMI200_SCAN-seq2'],'K562')"
   ]
  },
  {
   "cell_type": "code",
   "execution_count": null,
   "id": "e73606e4",
   "metadata": {},
   "outputs": [],
   "source": [
    "jaccard_heatmap([HVGs_noother_K562_CELseq_1000,HVGs_noother_K562_STORMseq_1000,\n",
    "                 HVGs_noother_K562_Smartseq3_1000,HVGs_noother_K562_9CL_SCAN_1000,\n",
    "                HVGs_noother_K562_UMI200_SCAN_1000],\n",
    "                ['CEL-seq','STORM-seq','Smart-seq3','9CL_SCAN-seq2','UMI200_SCAN-seq2'],'K562')"
   ]
  },
  {
   "cell_type": "markdown",
   "id": "89415076",
   "metadata": {},
   "source": [
    "## TFs and RBP selection"
   ]
  },
  {
   "cell_type": "code",
   "execution_count": null,
   "id": "9ea3f1d8",
   "metadata": {},
   "outputs": [],
   "source": [
    "def RBP_TF_selection(adata,all_TFs,all_RBPs):\n",
    "    sc.pp.highly_variable_genes(adata,max_mean=10)\n",
    "    high_var=adata[:,adata.var['highly_variable']==True].copy()\n",
    "    \n",
    "    myRBPs=list(set(all_RBPs).intersection(set(adata.var_names)))\n",
    "    \n",
    "    myHVTFs=list(set(all_TFs).intersection(set(high_var.var_names)))\n",
    "    \n",
    "    print(len(myRBPs),len(myHVTFs));\n",
    "    \n",
    "    return myRBPs, myHVTFs;"
   ]
  },
  {
   "cell_type": "code",
   "execution_count": null,
   "id": "577eec8d",
   "metadata": {},
   "outputs": [],
   "source": [
    "RBP_HepG2_Smartseq2, HVTFs_HepG2_Smartseq2 = RBP_TF_selection(HepG2_SMART,TFs,RBPs)\n",
    "RBP_HepG2_10x, HVTFs_HepG2_10x = RBP_TF_selection(HepG2_10x,TFs,RBPs)\n",
    "RBP_HepG2_9CL_SCAN, HVTFs_HepG2_9CL_SCAN = RBP_TF_selection(HepG2_9CL_SCAN,TFs,RBPs)\n",
    "\n",
    "\n",
    "RBP_K562_CELseq, HVTFs_K562_CELseq = RBP_TF_selection(K562_CEL,TFs,RBPs)\n",
    "RBP_K562_STORMseq, HVTFs_K562_STORMseq = RBP_TF_selection(K562_STORM,TFs,RBPs)\n",
    "RBP_K562_Smartseq3, HVTFs_K562_Smartseq3 = RBP_TF_selection(K562_SMART3,TFs,RBPs)\n",
    "RBP_K562_9CL_SCAN, HVTFs_K562_9CL_SCAN = RBP_TF_selection(K562_9CL_SCAN,TFs,RBPs)\n",
    "RBP_K562_UMI200_SCAN, HVTFs_K562_UMI200_SCAN = RBP_TF_selection(K562_UMI200_SCAN,TFs,RBPs)"
   ]
  },
  {
   "cell_type": "code",
   "execution_count": null,
   "id": "ee0ba741",
   "metadata": {},
   "outputs": [],
   "source": [
    "## Define the two sets of genes for all the datasets\n",
    "HepG2_Smartseq2_RBP_RNA_500 = list(set(list(HVGs_noother_HepG2_Smartseq2_500)+list(RBP_HepG2_Smartseq2)))\n",
    "HepG2_Smartseq2_TF_RNA_500 = list(set(list(HVGs_noother_HepG2_Smartseq2_500)+list(HVTFs_HepG2_Smartseq2)))\n",
    "\n",
    "HepG2_Smartseq2_RBP_RNA_1000 = list(set(list(HVGs_noother_HepG2_Smartseq2_1000)+list(RBP_HepG2_Smartseq2)))\n",
    "HepG2_Smartseq2_TF_RNA_1000 = list(set(list(HVGs_noother_HepG2_Smartseq2_1000)+list(HVTFs_HepG2_Smartseq2)))\n",
    "\n",
    "print(len(HepG2_Smartseq2_RBP_RNA_500),\n",
    "     len(HepG2_Smartseq2_TF_RNA_500))\n",
    "\n",
    "print(len(HepG2_Smartseq2_RBP_RNA_1000),\n",
    "     len(HepG2_Smartseq2_TF_RNA_1000))"
   ]
  },
  {
   "cell_type": "code",
   "execution_count": null,
   "id": "1b301549",
   "metadata": {},
   "outputs": [],
   "source": [
    "## Define the two sets of genes for all the datasets\n",
    "HepG2_10x_RBP_RNA_500 = list(set(list(HVGs_noother_HepG2_10x_500)+list(RBP_HepG2_10x)))\n",
    "HepG2_10x_TF_RNA_500 = list(set(list(HVGs_noother_HepG2_10x_500)+list(HVTFs_HepG2_10x)))\n",
    "\n",
    "HepG2_10x_RBP_RNA_1000 = list(set(list(HVGs_noother_HepG2_10x_1000)+list(RBP_HepG2_10x)))\n",
    "HepG2_10x_TF_RNA_1000 = list(set(list(HVGs_noother_HepG2_10x_1000)+list(HVTFs_HepG2_10x)))\n",
    "\n",
    "print(len(HepG2_10x_RBP_RNA_500),\n",
    "     len(HepG2_10x_TF_RNA_500))\n",
    "\n",
    "print(len(HepG2_10x_RBP_RNA_1000),\n",
    "     len(HepG2_10x_TF_RNA_1000))"
   ]
  },
  {
   "cell_type": "code",
   "execution_count": null,
   "id": "762350d8",
   "metadata": {},
   "outputs": [],
   "source": [
    "## Define the two sets of genes for all the datasets\n",
    "HepG2_9CL_SCAN_RBP_RNA_500 = list(set(list(HVGs_noother_HepG2_9CL_SCAN_500)+list(RBP_HepG2_9CL_SCAN)))\n",
    "HepG2_9CL_SCAN_TF_RNA_500 = list(set(list(HVGs_noother_HepG2_9CL_SCAN_500)+list(HVTFs_HepG2_9CL_SCAN)))\n",
    "\n",
    "HepG2_9CL_SCAN_RBP_RNA_1000 = list(set(list(HVGs_noother_HepG2_9CL_SCAN_1000)+list(RBP_HepG2_9CL_SCAN)))\n",
    "HepG2_9CL_SCAN_TF_RNA_1000 = list(set(list(HVGs_noother_HepG2_9CL_SCAN_1000)+list(HVTFs_HepG2_9CL_SCAN)))\n",
    "\n",
    "print(len(HepG2_9CL_SCAN_RBP_RNA_500),\n",
    "     len(HepG2_9CL_SCAN_TF_RNA_500))\n",
    "\n",
    "print(len(HepG2_9CL_SCAN_RBP_RNA_1000),\n",
    "     len(HepG2_9CL_SCAN_TF_RNA_1000))"
   ]
  },
  {
   "cell_type": "code",
   "execution_count": null,
   "id": "cfe21333",
   "metadata": {},
   "outputs": [],
   "source": [
    "## Define the two sets of genes for all the datasets\n",
    "K562_CELseq_RBP_RNA_500 = list(set(list(HVGs_noother_K562_CELseq_500)+list(RBP_K562_CELseq)))\n",
    "K562_CELseq_TF_RNA_500 = list(set(list(HVGs_noother_K562_CELseq_500)+list(HVTFs_K562_CELseq)))\n",
    "\n",
    "K562_CELseq_RBP_RNA_1000 = list(set(list(HVGs_noother_K562_CELseq_1000)+list(RBP_K562_CELseq)))\n",
    "K562_CELseq_TF_RNA_1000 = list(set(list(HVGs_noother_K562_CELseq_1000)+list(HVTFs_K562_CELseq)))\n",
    "\n",
    "print(len(K562_CELseq_RBP_RNA_500),\n",
    "     len(K562_CELseq_TF_RNA_500))\n",
    "\n",
    "print(len(K562_CELseq_RBP_RNA_1000),\n",
    "     len(K562_CELseq_TF_RNA_1000))"
   ]
  },
  {
   "cell_type": "code",
   "execution_count": null,
   "id": "80e1d9b8",
   "metadata": {},
   "outputs": [],
   "source": [
    "## Define the two sets of genes for all the datasets\n",
    "K562_STORMseq_RBP_RNA_500 = list(set(list(HVGs_noother_K562_STORMseq_500)+list(RBP_K562_STORMseq)))\n",
    "K562_STORMseq_TF_RNA_500 = list(set(list(HVGs_noother_K562_STORMseq_500)+list(HVTFs_K562_STORMseq)))\n",
    "\n",
    "K562_STORMseq_RBP_RNA_1000 = list(set(list(HVGs_noother_K562_STORMseq_1000)+list(RBP_K562_STORMseq)))\n",
    "K562_STORMseq_TF_RNA_1000 = list(set(list(HVGs_noother_K562_STORMseq_1000)+list(HVTFs_K562_STORMseq)))\n",
    "\n",
    "print(len(K562_STORMseq_RBP_RNA_500),\n",
    "     len(K562_STORMseq_TF_RNA_500))\n",
    "\n",
    "print(len(K562_STORMseq_RBP_RNA_1000),\n",
    "     len(K562_STORMseq_TF_RNA_1000))"
   ]
  },
  {
   "cell_type": "code",
   "execution_count": null,
   "id": "76d76b1b",
   "metadata": {},
   "outputs": [],
   "source": [
    "## Define the two sets of genes for all the datasets\n",
    "K562_Smartseq3_RBP_RNA_500 = list(set(list(HVGs_noother_K562_Smartseq3_500)+list(RBP_K562_Smartseq3)))\n",
    "K562_Smartseq3_TF_RNA_500 = list(set(list(HVGs_noother_K562_Smartseq3_500)+list(HVTFs_K562_Smartseq3)))\n",
    "\n",
    "K562_Smartseq3_RBP_RNA_1000 = list(set(list(HVGs_noother_K562_Smartseq3_1000)+list(RBP_K562_Smartseq3)))\n",
    "K562_Smartseq3_TF_RNA_1000 = list(set(list(HVGs_noother_K562_Smartseq3_1000)+list(HVTFs_K562_Smartseq3)))\n",
    "\n",
    "print(len(K562_Smartseq3_RBP_RNA_500),\n",
    "     len(K562_Smartseq3_TF_RNA_500))\n",
    "\n",
    "print(len(K562_Smartseq3_RBP_RNA_1000),\n",
    "     len(K562_Smartseq3_TF_RNA_1000))"
   ]
  },
  {
   "cell_type": "code",
   "execution_count": null,
   "id": "c77176ae",
   "metadata": {},
   "outputs": [],
   "source": [
    "## Define the two sets of genes for all the datasets\n",
    "K562_9CL_SCAN_RBP_RNA_500 = list(set(list(HVGs_noother_K562_9CL_SCAN_500)+list(RBP_K562_9CL_SCAN)))\n",
    "K562_9CL_SCAN_TF_RNA_500 = list(set(list(HVGs_noother_K562_9CL_SCAN_500)+list(HVTFs_K562_9CL_SCAN)))\n",
    "\n",
    "K562_9CL_SCAN_RBP_RNA_1000 = list(set(list(HVGs_noother_K562_9CL_SCAN_1000)+list(RBP_K562_9CL_SCAN)))\n",
    "K562_9CL_SCAN_TF_RNA_1000 = list(set(list(HVGs_noother_K562_9CL_SCAN_1000)+list(HVTFs_K562_9CL_SCAN)))\n",
    "\n",
    "print(len(K562_9CL_SCAN_RBP_RNA_500),\n",
    "     len(K562_9CL_SCAN_TF_RNA_500))\n",
    "\n",
    "print(len(K562_9CL_SCAN_RBP_RNA_1000),\n",
    "     len(K562_9CL_SCAN_TF_RNA_1000))"
   ]
  },
  {
   "cell_type": "code",
   "execution_count": null,
   "id": "b5ba97ba",
   "metadata": {},
   "outputs": [],
   "source": [
    "## Define the two sets of genes for all the datasets\n",
    "K562_UMI200_SCAN_RBP_RNA_500 = list(set(list(HVGs_noother_K562_UMI200_SCAN_500)+list(RBP_K562_UMI200_SCAN)))\n",
    "K562_UMI200_SCAN_TF_RNA_500 = list(set(list(HVGs_noother_K562_UMI200_SCAN_500)+list(HVTFs_K562_UMI200_SCAN)))\n",
    "\n",
    "K562_UMI200_SCAN_RBP_RNA_1000 = list(set(list(HVGs_noother_K562_UMI200_SCAN_1000)+list(RBP_K562_UMI200_SCAN)))\n",
    "K562_UMI200_SCAN_TF_RNA_1000 = list(set(list(HVGs_noother_K562_UMI200_SCAN_1000)+list(HVTFs_K562_UMI200_SCAN)))\n",
    "\n",
    "print(len(K562_UMI200_SCAN_RBP_RNA_500),\n",
    "     len(K562_UMI200_SCAN_TF_RNA_500))\n",
    "\n",
    "print(len(K562_UMI200_SCAN_RBP_RNA_1000),\n",
    "     len(K562_UMI200_SCAN_TF_RNA_1000))"
   ]
  },
  {
   "cell_type": "markdown",
   "id": "e9cf256a",
   "metadata": {},
   "source": [
    "# Save the data"
   ]
  },
  {
   "cell_type": "code",
   "execution_count": null,
   "id": "7d9aa5aa",
   "metadata": {},
   "outputs": [],
   "source": [
    "def SaveData(folder, adata, geneset, label1, label2):\n",
    "    \n",
    "    # Save the normalized data in a csv file\n",
    "    tmp_df=pd.DataFrame(data=adata[:,geneset].X.T, index=adata[:,geneset].var_names,\n",
    "                        columns=adata[:,geneset].obs_names)\n",
    "    tmp_df.to_csv(folder+label1+'NormalizedData_'+label2+'.csv')\n",
    "\n",
    "    # Save the raw data in a csv file\n",
    "    tmp_df=pd.DataFrame(data=adata.raw[:, geneset].X.T, index=adata.raw[:, geneset].var_names, \n",
    "                        columns=adata[:, geneset].obs_names)\n",
    "    tmp_df.to_csv(folder+label1+'RawData_'+label2+'.csv')"
   ]
  },
  {
   "cell_type": "code",
   "execution_count": null,
   "id": "120c016f",
   "metadata": {},
   "outputs": [],
   "source": [
    "os.mkdir(input_folder2+'HepG2_Smartseq2_TF_RNA500')\n",
    "os.mkdir(input_folder2+'HepG2_Smartseq2_RBP_RNA500')\n",
    "\n",
    "os.mkdir(input_folder2+'HepG2_Smartseq2_TF_RNA1000')\n",
    "os.mkdir(input_folder2+'HepG2_Smartseq2_RBP_RNA1000')\n",
    "\n",
    "os.mkdir(input_folder2+'HepG2_9CL_SCAN_TF_RNA500')\n",
    "os.mkdir(input_folder2+'HepG2_9CL_SCAN_RBP_RNA500')\n",
    "\n",
    "os.mkdir(input_folder2+'HepG2_9CL_SCAN_TF_RNA1000')\n",
    "os.mkdir(input_folder2+'HepG2_9CL_SCAN_RBP_RNA1000')\n",
    "\n",
    "os.mkdir(input_folder2+'HepG2_10x_TF_RNA500')\n",
    "os.mkdir(input_folder2+'HepG2_10x_RBP_RNA500')\n",
    "\n",
    "os.mkdir(input_folder2+'HepG2_10x_TF_RNA1000')\n",
    "os.mkdir(input_folder2+'HepG2_10x_RBP_RNA1000')\n",
    "\n",
    "SaveData(input_folder2+'HepG2_Smartseq2_TF_RNA500/', HepG2_SMART, HepG2_Smartseq2_TF_RNA_500,\n",
    "         'HepG2_Smartseq2', 'TF_RNA500')\n",
    "SaveData(input_folder2+'HepG2_Smartseq2_RBP_RNA500/', HepG2_SMART, HepG2_Smartseq2_RBP_RNA_500,\n",
    "         'HepG2_Smartseq2', 'RBP_RNA500')\n",
    "\n",
    "SaveData(input_folder2+'HepG2_Smartseq2_TF_RNA1000/', HepG2_SMART, HepG2_Smartseq2_TF_RNA_1000,\n",
    "         'HepG2_Smartseq2', 'TF_RNA1000')\n",
    "SaveData(input_folder2+'HepG2_Smartseq2_RBP_RNA1000/', HepG2_SMART, HepG2_Smartseq2_RBP_RNA_1000,\n",
    "         'HepG2_Smartseq2', 'RBP_RNA1000')\n",
    "\n",
    "\n",
    "SaveData(input_folder2+'HepG2_10x_TF_RNA500/', HepG2_10x, HepG2_10x_TF_RNA_500,\n",
    "         'HepG2_10x', 'TF_RNA500')\n",
    "SaveData(input_folder2+'HepG2_10x_RBP_RNA500/', HepG2_10x, HepG2_10x_RBP_RNA_500,\n",
    "         'HepG2_10x', 'RBP_RNA500')\n",
    "\n",
    "SaveData(input_folder2+'HepG2_10x_TF_RNA1000/', HepG2_10x, HepG2_10x_TF_RNA_1000,\n",
    "         'HepG2_10x', 'TF_RNA1000')\n",
    "SaveData(input_folder2+'HepG2_10x_RBP_RNA1000/', HepG2_10x, HepG2_10x_RBP_RNA_1000,\n",
    "         'HepG2_10x', 'RBP_RNA1000')\n",
    "\n",
    "SaveData(input_folder2+'HepG2_9CL_SCAN_TF_RNA500/', HepG2_9CL_SCAN, HepG2_9CL_SCAN_TF_RNA_500,\n",
    "         'HepG2_9CL_SCAN', 'TF_RNA500')\n",
    "SaveData(input_folder2+'HepG2_9CL_SCAN_RBP_RNA500/', HepG2_9CL_SCAN, HepG2_9CL_SCAN_RBP_RNA_500,\n",
    "         'HepG2_9CL_SCAN', 'RBP_RNA500')\n",
    "\n",
    "SaveData(input_folder2+'HepG2_9CL_SCAN_TF_RNA1000/', HepG2_9CL_SCAN, HepG2_9CL_SCAN_TF_RNA_1000,\n",
    "         'HepG2_9CL_SCAN', 'TF_RNA1000')\n",
    "SaveData(input_folder2+'HepG2_9CL_SCAN_RBP_RNA1000/', HepG2_9CL_SCAN, HepG2_9CL_SCAN_RBP_RNA_1000,\n",
    "         'HepG2_9CL_SCAN', 'RBP_RNA1000')"
   ]
  },
  {
   "cell_type": "code",
   "execution_count": null,
   "id": "681231a3",
   "metadata": {},
   "outputs": [],
   "source": [
    "os.mkdir(input_folder2+'K562_CELseq_TF_RNA500')\n",
    "os.mkdir(input_folder2+'K562_CELseq_RBP_RNA500')\n",
    "\n",
    "os.mkdir(input_folder2+'K562_STORMseq_TF_RNA500')\n",
    "os.mkdir(input_folder2+'K562_STORMseq_RBP_RNA500')\n",
    "\n",
    "os.mkdir(input_folder2+'K562_Smartseq3_TF_RNA500')\n",
    "os.mkdir(input_folder2+'K562_Smartseq3_RBP_RNA500')\n",
    "\n",
    "os.mkdir(input_folder2+'K562_9CL_SCAN_TF_RNA500')\n",
    "os.mkdir(input_folder2+'K562_9CL_SCAN_RBP_RNA500')\n",
    "\n",
    "os.mkdir(input_folder2+'K562_9CLMix_SCAN_TF_RNA500')\n",
    "os.mkdir(input_folder2+'K562_9CLMix_SCAN_RBP_RNA500')\n",
    "\n",
    "os.mkdir(input_folder2+'K562_UMI200_SCAN_TF_RNA500')\n",
    "os.mkdir(input_folder2+'K562_UMI200_SCAN_RBP_RNA500')\n",
    "\n",
    "os.mkdir(input_folder2+'K562_CELseq_TF_RNA1000')\n",
    "os.mkdir(input_folder2+'K562_CELseq_RBP_RNA1000')\n",
    "\n",
    "os.mkdir(input_folder2+'K562_STORMseq_TF_RNA1000')\n",
    "os.mkdir(input_folder2+'K562_STORMseq_RBP_RNA1000')\n",
    "\n",
    "os.mkdir(input_folder2+'K562_Smartseq3_TF_RNA1000')\n",
    "os.mkdir(input_folder2+'K562_Smartseq3_RBP_RNA1000')\n",
    "\n",
    "os.mkdir(input_folder2+'K562_9CL_SCAN_TF_RNA1000')\n",
    "os.mkdir(input_folder2+'K562_9CL_SCAN_RBP_RNA1000')\n",
    "\n",
    "os.mkdir(input_folder2+'K562_UMI200_SCAN_TF_RNA1000')\n",
    "os.mkdir(input_folder2+'K562_UMI200_SCAN_RBP_RNA1000')\n",
    "\n",
    "SaveData(input_folder2+'K562_CELseq_TF_RNA500/', K562_CEL, K562_CELseq_TF_RNA_500,\n",
    "         'K562_CELseq', 'TF_RNA500')\n",
    "SaveData(input_folder2+'K562_CELseq_RBP_RNA500/', K562_CEL, K562_CELseq_RBP_RNA_500,\n",
    "         'K562_CELseq', 'RBP_RNA500')\n",
    "\n",
    "SaveData(input_folder2+'K562_CELseq_TF_RNA1000/', K562_CEL, K562_CELseq_TF_RNA_1000,\n",
    "         'K562_CELseq', 'TF_RNA1000')\n",
    "SaveData(input_folder2+'K562_CELseq_RBP_RNA1000/', K562_CEL, K562_CELseq_RBP_RNA_1000,\n",
    "         'K562_CELseq', 'RBP_RNA1000')\n",
    "\n",
    "SaveData(input_folder2+'K562_STORMseq_TF_RNA500/', K562_STORM, K562_STORMseq_TF_RNA_500,\n",
    "         'K562_STORMseq', 'TF_RNA500')\n",
    "SaveData(input_folder2+'K562_STORMseq_RBP_RNA500/', K562_STORM, K562_STORMseq_RBP_RNA_500,\n",
    "         'K562_STORMseq', 'RBP_RNA500')\n",
    "\n",
    "SaveData(input_folder2+'K562_STORMseq_TF_RNA1000/', K562_STORM, K562_STORMseq_TF_RNA_1000,\n",
    "         'K562_STORMseq', 'TF_RNA1000')\n",
    "SaveData(input_folder2+'K562_STORMseq_RBP_RNA1000/', K562_STORM, K562_STORMseq_RBP_RNA_1000,\n",
    "         'K562_STORMseq', 'RBP_RNA1000')\n",
    "\n",
    "SaveData(input_folder2+'K562_Smartseq3_TF_RNA500/', K562_SMART3, K562_Smartseq3_TF_RNA_500,\n",
    "         'K562_Smartseq3', 'TF_RNA500')\n",
    "SaveData(input_folder2+'K562_Smartseq3_RBP_RNA500/', K562_SMART3, K562_Smartseq3_RBP_RNA_500,\n",
    "         'K562_Smartseq3', 'RBP_RNA500')\n",
    "\n",
    "SaveData(input_folder2+'K562_Smartseq3_TF_RNA1000/', K562_SMART3, K562_Smartseq3_TF_RNA_1000,\n",
    "         'K562_Smartseq3', 'TF_RNA1000')\n",
    "SaveData(input_folder2+'K562_Smartseq3_RBP_RNA1000/', K562_SMART3, K562_Smartseq3_RBP_RNA_1000,\n",
    "         'K562_Smartseq3', 'RBP_RNA1000')\n",
    "\n",
    "SaveData(input_folder2+'K562_9CL_SCAN_TF_RNA500/', K562_9CL_SCAN, K562_9CL_SCAN_TF_RNA_500,\n",
    "         'K562_9CL_SCAN', 'TF_RNA500')\n",
    "SaveData(input_folder2+'K562_9CL_SCAN_RBP_RNA500/', K562_9CL_SCAN, K562_9CL_SCAN_RBP_RNA_500,\n",
    "         'K562_9CL_SCAN', 'RBP_RNA500')\n",
    "\n",
    "SaveData(input_folder2+'K562_9CL_SCAN_TF_RNA1000/', K562_9CL_SCAN, K562_9CL_SCAN_TF_RNA_1000,\n",
    "         'K562_9CL_SCAN', 'TF_RNA1000')\n",
    "SaveData(input_folder2+'K562_9CL_SCAN_RBP_RNA1000/', K562_9CL_SCAN, K562_9CL_SCAN_RBP_RNA_1000,\n",
    "         'K562_9CL_SCAN', 'RBP_RNA1000')\n",
    "\n",
    "SaveData(input_folder2+'K562_UMI200_SCAN_TF_RNA500/', K562_UMI200_SCAN, K562_UMI200_SCAN_TF_RNA_500,\n",
    "         'K562_UMI200_SCAN', 'TF_RNA500')\n",
    "SaveData(input_folder2+'K562_UMI200_SCAN_RBP_RNA500/', K562_UMI200_SCAN, K562_UMI200_SCAN_RBP_RNA_500,\n",
    "         'K562_UMI200_SCAN', 'RBP_RNA500')\n",
    "\n",
    "SaveData(input_folder2+'K562_UMI200_SCAN_TF_RNA1000/', K562_UMI200_SCAN, K562_UMI200_SCAN_TF_RNA_1000,\n",
    "         'K562_UMI200_SCAN', 'TF_RNA1000')\n",
    "SaveData(input_folder2+'K562_UMI200_SCAN_RBP_RNA1000/', K562_UMI200_SCAN, K562_UMI200_SCAN_RBP_RNA_1000,\n",
    "         'K562_UMI200_SCAN', 'RBP_RNA1000')"
   ]
  },
  {
   "cell_type": "code",
   "execution_count": null,
   "id": "00ff2c40",
   "metadata": {},
   "outputs": [],
   "source": [
    "input_folder3=input_folder+'GENE_SELECTION_MAIN/ARACNe_INPUT/'\n",
    "\n",
    "if os.path.isdir(input_folder3)==False:\n",
    "    os.mkdir(input_folder3)"
   ]
  },
  {
   "cell_type": "code",
   "execution_count": null,
   "id": "80cea28d",
   "metadata": {},
   "outputs": [],
   "source": [
    "def SaveDataforARACNe(folder, adata, geneset, label1, label2):\n",
    "    adata_temp=ad.AnnData(X=adata[:,geneset].X)\n",
    "    adata_temp.obs_names=adata[:,geneset].obs_names\n",
    "    adata_temp.var_names=adata[:,geneset].var_names\n",
    "    adata_temp.obs['batch']=label1\n",
    "    adata_temp.write(folder+'processed_'+label1+'_'+label2+'.h5ad')"
   ]
  },
  {
   "cell_type": "markdown",
   "id": "e09eee51",
   "metadata": {},
   "source": [
    "For the HepG2 10x dataset we select metacells prior to GRN inference with ARACNe. See details and code in the Inference folder."
   ]
  },
  {
   "cell_type": "code",
   "execution_count": null,
   "id": "66a8f22e",
   "metadata": {},
   "outputs": [],
   "source": [
    "SaveDataforARACNe(input_folder3+'HepG2_Smartseq2_TF_RNA500', HepG2_SMART.raw, HepG2_Smartseq2_TF_RNA_500,\n",
    "         'HepG2_Smartseq2', 'TF_RNA500')\n",
    "SaveDataforARACNe(input_folder3+'HepG2_Smartseq2_RBP_RNA500', HepG2_SMART.raw, HepG2_Smartseq2_RBP_RNA_500,\n",
    "         'HepG2_Smartseq2', 'RBP_RNA500')\n",
    "\n",
    "SaveDataforARACNe(input_folder3+'HepG2_Smartseq2_TF_RNA1000', HepG2_SMART.raw, HepG2_Smartseq2_TF_RNA_1000,\n",
    "         'HepG2_Smartseq2', 'TF_RNA1000')\n",
    "SaveDataforARACNe(input_folder3+'HepG2_Smartseq2_RBP_RNA1000', HepG2_SMART.raw, HepG2_Smartseq2_RBP_RNA_1000,\n",
    "         'HepG2_Smartseq2', 'RBP_RNA1000')\n",
    "\n",
    "SaveDataforARACNe(input_folder3+'HepG2_9CL_SCAN_TF_RNA500', HepG2_9CL_SCAN_ARACNe, HepG2_9CL_SCAN_TF_RNA_500,\n",
    "         'HepG2_9CL_SCAN', 'TF_RNA500')\n",
    "SaveDataforARACNe(input_folder3+'HepG2_9CL_SCAN_RBP_RNA500', HepG2_9CL_SCAN_ARACNe, HepG2_9CL_SCAN_RBP_RNA_500,\n",
    "         'HepG2_9CL_SCAN', 'RBP_RNA500')\n",
    "\n",
    "SaveDataforARACNe(input_folder3+'HepG2_9CL_SCAN_TF_RNA1000', HepG2_9CL_SCAN_ARACNe, HepG2_9CL_SCAN_TF_RNA_1000,\n",
    "         'HepG2_9CL_SCAN', 'TF_RNA1000')\n",
    "SaveDataforARACNe(input_folder3+'HepG2_9CL_SCAN_RBP_RNA1000', HepG2_9CL_SCAN_ARACNe, HepG2_9CL_SCAN_RBP_RNA_1000,\n",
    "         'HepG2_9CL_SCAN', 'RBP_RNA1000')"
   ]
  },
  {
   "cell_type": "code",
   "execution_count": null,
   "id": "afdb6f1a",
   "metadata": {},
   "outputs": [],
   "source": [
    "SaveDataforARACNe(input_folder3+'K562_CELseq_TF_RNA500', K562_CEL_ARACNe, K562_CELseq_TF_RNA_500,\n",
    "         'K562_CELseq', 'TF_RNA500')\n",
    "SaveDataforARACNe(input_folder3+'K562_CELseq_RBP_RNA500', K562_CEL_ARACNe, K562_CELseq_RBP_RNA_500,\n",
    "         'K562_CELseq', 'RBP_RNA500')\n",
    "\n",
    "SaveDataforARACNe(input_folder3+'K562_CELseq_TF_RNA1000', K562_CEL_ARACNe, K562_CELseq_TF_RNA_1000,\n",
    "         'K562_CELseq', 'TF_RNA1000')\n",
    "SaveDataforARACNe(input_folder3+'K562_CELseq_RBP_RNA1000', K562_CEL_ARACNe, K562_CELseq_RBP_RNA_1000,\n",
    "         'K562_CELseq', 'RBP_RNA1000')\n",
    "\n",
    "SaveDataforARACNe(input_folder3+'K562_STORMseq_TF_RNA500', K562_STORM.raw, K562_STORMseq_TF_RNA_500,\n",
    "         'K562_STORMseq', 'TF_RNA500')\n",
    "SaveDataforARACNe(input_folder3+'K562_STORMseq_RBP_RNA500', K562_STORM.raw, K562_STORMseq_RBP_RNA_500,\n",
    "         'K562_STORMseq', 'RBP_RNA500')\n",
    "\n",
    "SaveDataforARACNe(input_folder3+'K562_STORMseq_TF_RNA1000', K562_STORM.raw, K562_STORMseq_TF_RNA_1000,\n",
    "         'K562_STORMseq', 'TF_RNA1000')\n",
    "SaveDataforARACNe(input_folder3+'K562_STORMseq_RBP_RNA1000', K562_STORM.raw, K562_STORMseq_RBP_RNA_1000,\n",
    "         'K562_STORMseq', 'RBP_RNA1000')\n",
    "\n",
    "\n",
    "SaveDataforARACNe(input_folder3+'K562_Smartseq3_TF_RNA500', K562_SMART3_ARACNe, K562_Smartseq3_TF_RNA_500,\n",
    "         'K562_Smartseq3', 'TF_RNA500')\n",
    "SaveDataforARACNe(input_folder3+'K562_Smartseq3_RBP_RNA500', K562_SMART3_ARACNe, K562_Smartseq3_RBP_RNA_500,\n",
    "         'K562_Smartseq3', 'RBP_RNA500')\n",
    "\n",
    "SaveDataforARACNe(input_folder3+'K562_Smartseq3_TF_RNA1000', K562_SMART3_ARACNe, K562_Smartseq3_TF_RNA_1000,\n",
    "         'K562_Smartseq3', 'TF_RNA1000')\n",
    "SaveDataforARACNe(input_folder3+'K562_Smartseq3_RBP_RNA1000', K562_SMART3_ARACNe, K562_Smartseq3_RBP_RNA_1000,\n",
    "         'K562_Smartseq3', 'RBP_RNA1000')\n",
    "\n",
    "\n",
    "SaveDataforARACNe(input_folder3+'K562_9CL_SCAN_TF_RNA500', K562_9CL_SCAN_ARACNe, K562_9CL_SCAN_TF_RNA_500,\n",
    "         'K562_9CL_SCAN', 'TF_RNA500')\n",
    "SaveDataforARACNe(input_folder3+'K562_9CL_SCAN_RBP_RNA500', K562_9CL_SCAN_ARACNe, K562_9CL_SCAN_RBP_RNA_500,\n",
    "         'K562_9CL_SCAN', 'RBP_RNA500')\n",
    "\n",
    "SaveDataforARACNe(input_folder3+'K562_9CL_SCAN_TF_RNA1000', K562_9CL_SCAN_ARACNe, K562_9CL_SCAN_TF_RNA_1000,\n",
    "         'K562_9CL_SCAN', 'TF_RNA1000')\n",
    "SaveDataforARACNe(input_folder3+'K562_9CL_SCAN_RBP_RNA1000', K562_9CL_SCAN_ARACNe, K562_9CL_SCAN_RBP_RNA_1000,\n",
    "         'K562_9CL_SCAN', 'RBP_RNA1000')\n",
    "\n",
    "SaveDataforARACNe(input_folder3+'K562_UMI200_SCAN_TF_RNA500', K562_UMI200_SCAN_ARACNe, K562_UMI200_SCAN_TF_RNA_500,\n",
    "         'K562_UMI200_SCAN', 'TF_RNA500')\n",
    "SaveDataforARACNe(input_folder3+'K562_UMI200_SCAN_RBP_RNA500', K562_UMI200_SCAN_ARACNe, K562_UMI200_SCAN_RBP_RNA_500,\n",
    "         'K562_UMI200_SCAN', 'RBP_RNA500')\n",
    "\n",
    "SaveDataforARACNe(input_folder3+'K562_UMI200_SCAN_TF_RNA1000', K562_UMI200_SCAN_ARACNe, K562_UMI200_SCAN_TF_RNA_1000,\n",
    "         'K562_UMI200_SCAN', 'TF_RNA1000')\n",
    "SaveDataforARACNe(input_folder3+'K562_UMI200_SCAN_RBP_RNA1000', K562_UMI200_SCAN_ARACNe, K562_UMI200_SCAN_RBP_RNA_1000,\n",
    "         'K562_UMI200_SCAN', 'RBP_RNA1000')"
   ]
  },
  {
   "cell_type": "code",
   "execution_count": null,
   "id": "1d255aa5",
   "metadata": {},
   "outputs": [],
   "source": [
    "gname_folder='./GENE_SELECTION_MAIN/gene_names/'\n",
    "\n",
    "if os.path.isdir(gname_folder)==False:\n",
    "    os.mkdir(gname_folder)"
   ]
  },
  {
   "cell_type": "code",
   "execution_count": null,
   "id": "81c40f55",
   "metadata": {},
   "outputs": [],
   "source": [
    "# Save the gene names for each dataset and their union for running catRAPID\n",
    "np.savetxt(gname_folder+'gnamesHepG2_Smartseq2_TF_RNA500.txt',np.c_[HepG2_Smartseq2_TF_RNA_500],fmt='%s')\n",
    "np.savetxt(gname_folder+'gnamesHepG2_Smartseq2_RBP_RNA500.txt',np.c_[HepG2_Smartseq2_RBP_RNA_500],fmt='%s')\n",
    "\n",
    "np.savetxt(gname_folder+'gnamesHepG2_Smartseq2_TF_RNA1000.txt',np.c_[HepG2_Smartseq2_TF_RNA_1000],fmt='%s')\n",
    "np.savetxt(gname_folder+'gnamesHepG2_Smartseq2_RBP_RNA1000.txt',np.c_[HepG2_Smartseq2_RBP_RNA_1000],fmt='%s')\n",
    "\n",
    "np.savetxt(gname_folder+'gnamesHepG2_10x_TF_RNA500.txt',np.c_[HepG2_10x_TF_RNA_500],fmt='%s')\n",
    "np.savetxt(gname_folder+'gnamesHepG2_10x_RBP_RNA500.txt',np.c_[HepG2_10x_RBP_RNA_500],fmt='%s')\n",
    "\n",
    "np.savetxt(gname_folder+'gnamesHepG2_10x_TF_RNA1000.txt',np.c_[HepG2_10x_TF_RNA_1000],fmt='%s')\n",
    "np.savetxt(gname_folder+'gnamesHepG2_10x_RBP_RNA1000.txt',np.c_[HepG2_10x_RBP_RNA_1000],fmt='%s')\n",
    "\n",
    "np.savetxt(gname_folder+'gnamesHepG2_9CL_SCAN_TF_RNA500.txt',np.c_[HepG2_9CL_SCAN_TF_RNA_500],fmt='%s')\n",
    "np.savetxt(gname_folder+'gnamesHepG2_9CL_SCAN_RBP_RNA500.txt',np.c_[HepG2_9CL_SCAN_RBP_RNA_500],fmt='%s')\n",
    "\n",
    "np.savetxt(gname_folder+'gnamesHepG2_9CL_SCAN_TF_RNA1000.txt',np.c_[HepG2_9CL_SCAN_TF_RNA_1000],fmt='%s')\n",
    "np.savetxt(gname_folder+'gnamesHepG2_9CL_SCAN_RBP_RNA1000.txt',np.c_[HepG2_9CL_SCAN_RBP_RNA_1000],fmt='%s')\n",
    "\n",
    "np.savetxt(gname_folder+'gnamesK562_CELseq_TF_RNA500.txt',np.c_[K562_CELseq_TF_RNA_500],fmt='%s')\n",
    "np.savetxt(gname_folder+'gnamesK562_CELseq_RBP_RNA500.txt',np.c_[K562_CELseq_RBP_RNA_500],fmt='%s')\n",
    "\n",
    "np.savetxt(gname_folder+'gnamesK562_CELseq_TF_RNA1000.txt',np.c_[K562_CELseq_TF_RNA_1000],fmt='%s')\n",
    "np.savetxt(gname_folder+'gnamesK562_CELseq_RBP_RNA1000.txt',np.c_[K562_CELseq_RBP_RNA_1000],fmt='%s')\n",
    "\n",
    "np.savetxt(gname_folder+'gnamesK562_STORMseq_TF_RNA500.txt',np.c_[K562_STORMseq_TF_RNA_500],fmt='%s')\n",
    "np.savetxt(gname_folder+'gnamesK562_STORMseq_RBP_RNA500.txt',np.c_[K562_STORMseq_RBP_RNA_500],fmt='%s')\n",
    "\n",
    "np.savetxt(gname_folder+'gnamesK562_STORMseq_TF_RNA1000.txt',np.c_[K562_STORMseq_TF_RNA_1000],fmt='%s')\n",
    "np.savetxt(gname_folder+'gnamesK562_STORMseq_RBP_RNA1000.txt',np.c_[K562_STORMseq_RBP_RNA_1000],fmt='%s')\n",
    "\n",
    "np.savetxt(gname_folder+'gnamesK562_Smartseq3_TF_RNA500.txt',np.c_[K562_Smartseq3_TF_RNA_500],fmt='%s')\n",
    "np.savetxt(gname_folder+'gnamesK562_Smartseq3_RBP_RNA500.txt',np.c_[K562_Smartseq3_RBP_RNA_500],fmt='%s')\n",
    "\n",
    "np.savetxt(gname_folder+'gnamesK562_Smartseq3_TF_RNA1000.txt',np.c_[K562_Smartseq3_TF_RNA_1000],fmt='%s')\n",
    "np.savetxt(gname_folder+'gnamesK562_Smartseq3_RBP_RNA1000.txt',np.c_[K562_Smartseq3_RBP_RNA_1000],fmt='%s')\n",
    "\n",
    "np.savetxt(gname_folder+'gnamesK562_9CL_SCAN_TF_RNA500.txt',np.c_[K562_9CL_SCAN_TF_RNA_500],fmt='%s')\n",
    "np.savetxt(gname_folder+'gnamesK562_9CL_SCAN_RBP_RNA500.txt',np.c_[K562_9CL_SCAN_RBP_RNA_500],fmt='%s')\n",
    "\n",
    "np.savetxt(gname_folder+'gnamesK562_9CL_SCAN_TF_RNA1000.txt',np.c_[K562_9CL_SCAN_TF_RNA_1000],fmt='%s')\n",
    "np.savetxt(gname_folder+'gnamesK562_9CL_SCAN_RBP_RNA1000.txt',np.c_[K562_9CL_SCAN_RBP_RNA_1000],fmt='%s')\n",
    "\n",
    "np.savetxt(gname_folder+'gnamesK562_UMI200_SCAN_TF_RNA500.txt',np.c_[K562_UMI200_SCAN_TF_RNA_500],fmt='%s')\n",
    "np.savetxt(gname_folder+'gnamesK562_UMI200_SCAN_RBP_RNA500.txt',np.c_[K562_UMI200_SCAN_RBP_RNA_500],fmt='%s')\n",
    "\n",
    "np.savetxt(gname_folder+'gnamesK562_UMI200_SCAN_TF_RNA1000.txt',np.c_[K562_UMI200_SCAN_TF_RNA_1000],fmt='%s')\n",
    "np.savetxt(gname_folder+'gnamesK562_UMI200_SCAN_RBP_RNA1000.txt',np.c_[K562_UMI200_SCAN_RBP_RNA_1000],fmt='%s')"
   ]
  }
 ],
 "metadata": {
  "kernelspec": {
   "display_name": "INTERACTomics-venv",
   "language": "python",
   "name": "interactomics-venv"
  },
  "language_info": {
   "codemirror_mode": {
    "name": "ipython",
    "version": 3
   },
   "file_extension": ".py",
   "mimetype": "text/x-python",
   "name": "python",
   "nbconvert_exporter": "python",
   "pygments_lexer": "ipython3",
   "version": "3.7.7"
  },
  "toc": {
   "base_numbering": 1,
   "nav_menu": {},
   "number_sections": true,
   "sideBar": true,
   "skip_h1_title": false,
   "title_cell": "Table of Contents",
   "title_sidebar": "Contents",
   "toc_cell": false,
   "toc_position": {
    "height": "calc(100% - 180px)",
    "left": "10px",
    "top": "150px",
    "width": "239.27499389648438px"
   },
   "toc_section_display": true,
   "toc_window_display": true
  }
 },
 "nbformat": 4,
 "nbformat_minor": 5
}
