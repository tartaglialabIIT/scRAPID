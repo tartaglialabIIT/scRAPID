{
 "cells": [
  {
   "cell_type": "code",
   "execution_count": 6,
   "id": "bd29fe0d",
   "metadata": {},
   "outputs": [],
   "source": [
    "%matplotlib inline"
   ]
  },
  {
   "cell_type": "code",
   "execution_count": 7,
   "id": "c0fa074e",
   "metadata": {},
   "outputs": [],
   "source": [
    "import pandas as pd\n",
    "import seaborn as sns\n",
    "import matplotlib.pyplot as plt"
   ]
  },
  {
   "cell_type": "code",
   "execution_count": 8,
   "id": "e5b58b4e",
   "metadata": {},
   "outputs": [],
   "source": [
    "import matplotlib"
   ]
  },
  {
   "cell_type": "code",
   "execution_count": 9,
   "id": "d2965ee1",
   "metadata": {},
   "outputs": [],
   "source": [
    "matplotlib.rcParams.update({'font.size': 14})"
   ]
  },
  {
   "cell_type": "code",
   "execution_count": 20,
   "id": "bf644ca3",
   "metadata": {},
   "outputs": [
    {
     "data": {
      "text/html": [
       "<div>\n",
       "<style scoped>\n",
       "    .dataframe tbody tr th:only-of-type {\n",
       "        vertical-align: middle;\n",
       "    }\n",
       "\n",
       "    .dataframe tbody tr th {\n",
       "        vertical-align: top;\n",
       "    }\n",
       "\n",
       "    .dataframe thead th {\n",
       "        text-align: right;\n",
       "    }\n",
       "</style>\n",
       "<table border=\"1\" class=\"dataframe\">\n",
       "  <thead>\n",
       "    <tr style=\"text-align: right;\">\n",
       "      <th></th>\n",
       "      <th>Unnamed: 0</th>\n",
       "      <th>X</th>\n",
       "      <th>Method</th>\n",
       "      <th>Reg_Type</th>\n",
       "      <th>EPR</th>\n",
       "      <th>Dataset</th>\n",
       "    </tr>\n",
       "  </thead>\n",
       "  <tbody>\n",
       "    <tr>\n",
       "      <th>0</th>\n",
       "      <td>1</td>\n",
       "      <td>0</td>\n",
       "      <td>PIDC</td>\n",
       "      <td>TF</td>\n",
       "      <td>0.521846</td>\n",
       "      <td>HepG2_Smartseq2</td>\n",
       "    </tr>\n",
       "    <tr>\n",
       "      <th>1</th>\n",
       "      <td>2</td>\n",
       "      <td>1</td>\n",
       "      <td>PIDC</td>\n",
       "      <td>RBP</td>\n",
       "      <td>0.615583</td>\n",
       "      <td>HepG2_Smartseq2</td>\n",
       "    </tr>\n",
       "    <tr>\n",
       "      <th>2</th>\n",
       "      <td>3</td>\n",
       "      <td>2</td>\n",
       "      <td>GRNBOOST2</td>\n",
       "      <td>TF</td>\n",
       "      <td>1.073924</td>\n",
       "      <td>HepG2_Smartseq2</td>\n",
       "    </tr>\n",
       "    <tr>\n",
       "      <th>3</th>\n",
       "      <td>4</td>\n",
       "      <td>3</td>\n",
       "      <td>GRNBOOST2</td>\n",
       "      <td>RBP</td>\n",
       "      <td>1.192959</td>\n",
       "      <td>HepG2_Smartseq2</td>\n",
       "    </tr>\n",
       "    <tr>\n",
       "      <th>4</th>\n",
       "      <td>5</td>\n",
       "      <td>4</td>\n",
       "      <td>SINCERITIES</td>\n",
       "      <td>TF</td>\n",
       "      <td>1.030041</td>\n",
       "      <td>HepG2_Smartseq2</td>\n",
       "    </tr>\n",
       "    <tr>\n",
       "      <th>...</th>\n",
       "      <td>...</td>\n",
       "      <td>...</td>\n",
       "      <td>...</td>\n",
       "      <td>...</td>\n",
       "      <td>...</td>\n",
       "      <td>...</td>\n",
       "    </tr>\n",
       "    <tr>\n",
       "      <th>123</th>\n",
       "      <td>124</td>\n",
       "      <td>11</td>\n",
       "      <td>TENET_B</td>\n",
       "      <td>RBP</td>\n",
       "      <td>1.284533</td>\n",
       "      <td>K562_SCANseq2_UMI200</td>\n",
       "    </tr>\n",
       "    <tr>\n",
       "      <th>124</th>\n",
       "      <td>125</td>\n",
       "      <td>12</td>\n",
       "      <td>DeePSEM_CT</td>\n",
       "      <td>TF</td>\n",
       "      <td>1.099730</td>\n",
       "      <td>K562_SCANseq2_UMI200</td>\n",
       "    </tr>\n",
       "    <tr>\n",
       "      <th>125</th>\n",
       "      <td>126</td>\n",
       "      <td>13</td>\n",
       "      <td>DeePSEM_CT</td>\n",
       "      <td>RBP</td>\n",
       "      <td>1.348370</td>\n",
       "      <td>K562_SCANseq2_UMI200</td>\n",
       "    </tr>\n",
       "    <tr>\n",
       "      <th>126</th>\n",
       "      <td>127</td>\n",
       "      <td>14</td>\n",
       "      <td>ARACNe_FDR</td>\n",
       "      <td>TF</td>\n",
       "      <td>1.213807</td>\n",
       "      <td>K562_SCANseq2_UMI200</td>\n",
       "    </tr>\n",
       "    <tr>\n",
       "      <th>127</th>\n",
       "      <td>128</td>\n",
       "      <td>15</td>\n",
       "      <td>ARACNe_FDR</td>\n",
       "      <td>RBP</td>\n",
       "      <td>1.171034</td>\n",
       "      <td>K562_SCANseq2_UMI200</td>\n",
       "    </tr>\n",
       "  </tbody>\n",
       "</table>\n",
       "<p>128 rows × 6 columns</p>\n",
       "</div>"
      ],
      "text/plain": [
       "     Unnamed: 0   X       Method Reg_Type       EPR               Dataset\n",
       "0             1   0         PIDC       TF  0.521846       HepG2_Smartseq2\n",
       "1             2   1         PIDC      RBP  0.615583       HepG2_Smartseq2\n",
       "2             3   2    GRNBOOST2       TF  1.073924       HepG2_Smartseq2\n",
       "3             4   3    GRNBOOST2      RBP  1.192959       HepG2_Smartseq2\n",
       "4             5   4  SINCERITIES       TF  1.030041       HepG2_Smartseq2\n",
       "..          ...  ..          ...      ...       ...                   ...\n",
       "123         124  11      TENET_B      RBP  1.284533  K562_SCANseq2_UMI200\n",
       "124         125  12   DeePSEM_CT       TF  1.099730  K562_SCANseq2_UMI200\n",
       "125         126  13   DeePSEM_CT      RBP  1.348370  K562_SCANseq2_UMI200\n",
       "126         127  14   ARACNe_FDR       TF  1.213807  K562_SCANseq2_UMI200\n",
       "127         128  15   ARACNe_FDR      RBP  1.171034  K562_SCANseq2_UMI200\n",
       "\n",
       "[128 rows x 6 columns]"
      ]
     },
     "execution_count": 20,
     "metadata": {},
     "output_type": "execute_result"
    }
   ],
   "source": [
    "# This uses the output file produced by the R script that makes the bar plots of the EPR\n",
    "data500=pd.read_csv(\"./TF_RBP_500.csv\")\n",
    "data500"
   ]
  },
  {
   "cell_type": "code",
   "execution_count": 21,
   "id": "4f992e64",
   "metadata": {},
   "outputs": [],
   "source": [
    "data500_orig=data500[data500['Reg_Type']=='TF'].copy()\n",
    "data500_cat=data500[data500['Reg_Type']=='RBP'].copy()"
   ]
  },
  {
   "cell_type": "code",
   "execution_count": 22,
   "id": "0db55e80",
   "metadata": {},
   "outputs": [
    {
     "data": {
      "text/plain": [
       "KstestResult(statistic=0.4065540194572453, pvalue=4.425425502685432e-05)"
      ]
     },
     "execution_count": 22,
     "metadata": {},
     "output_type": "execute_result"
    }
   ],
   "source": [
    "from scipy.stats import kstest\n",
    "kstest(data500_orig[data500_orig.EPR>0].EPR,data500_cat[data500_cat.EPR>0].EPR)"
   ]
  },
  {
   "cell_type": "code",
   "execution_count": 23,
   "id": "6fd4bc05",
   "metadata": {},
   "outputs": [
    {
     "data": {
      "text/plain": [
       "0      0.521846\n",
       "2      1.073924\n",
       "4      1.030041\n",
       "6      1.068279\n",
       "8      0.756060\n",
       "         ...   \n",
       "118    1.129355\n",
       "120    1.320143\n",
       "122    1.196208\n",
       "124    1.099730\n",
       "126    1.213807\n",
       "Name: EPR, Length: 63, dtype: float64"
      ]
     },
     "execution_count": 23,
     "metadata": {},
     "output_type": "execute_result"
    }
   ],
   "source": [
    "data500_orig[data500_orig.EPR>0].EPR"
   ]
  },
  {
   "cell_type": "code",
   "execution_count": 24,
   "id": "8c33f920",
   "metadata": {},
   "outputs": [
    {
     "data": {
      "image/png": "[encoded data removed]",
      "text/plain": [
       "<Figure size 432x288 with 1 Axes>"
      ]
     },
     "metadata": {
      "needs_background": "light"
     },
     "output_type": "display_data"
    }
   ],
   "source": [
    "fig,ax=plt.subplots(figsize=(6,4))\n",
    "ax.set_xlabel('EPR',fontsize=12)\n",
    "ax.set_ylabel('Probability Density',fontsize=12)\n",
    "sns.kdeplot(data500_orig[data500_orig.EPR>0].EPR, color='#a1e9f0', shade=True, label='TF')\n",
    "sns.kdeplot(data500_cat[data500_cat.EPR>0].EPR, color='#d9b1f0', shade=True, label='RBP')\n",
    "ax.axvline(data500_orig[data500_orig.EPR>0].EPR.mean(),color='#a1e9f0',lw=3)\n",
    "ax.axvline(data500_cat[data500_cat.EPR>0].EPR.mean(),color='#d9b1f0',lw=3)\n",
    "ax.axvline(1,color='black',lw=3,linestyle='dashed',label='Random pred.')\n",
    "ax.legend(loc=0,frameon=False)\n",
    "fig.tight_layout()\n",
    "plt.savefig(\"TF_RBP_500.pdf\",bbox_inches='tight')"
   ]
  },
  {
   "cell_type": "code",
   "execution_count": null,
   "id": "83e7d2bc",
   "metadata": {},
   "outputs": [],
   "source": []
  },
  {
   "cell_type": "code",
   "execution_count": 25,
   "id": "7330d9d4",
   "metadata": {},
   "outputs": [],
   "source": [
    "data1000=pd.read_csv(\"./TF_RBP_1000.csv\")\n",
    "\n",
    "data1000_orig=data1000[data1000['Reg_Type']=='TF'].copy()\n",
    "data1000_cat=data1000[data1000['Reg_Type']=='RBP'].copy()"
   ]
  },
  {
   "cell_type": "code",
   "execution_count": 26,
   "id": "0aad49f6",
   "metadata": {},
   "outputs": [
    {
     "data": {
      "text/plain": [
       "KstestResult(statistic=0.40625, pvalue=4.143883435611462e-05)"
      ]
     },
     "execution_count": 26,
     "metadata": {},
     "output_type": "execute_result"
    }
   ],
   "source": [
    "from scipy.stats import kstest\n",
    "kstest(data1000_orig[data1000_orig.EPR>0].EPR,data1000_cat[data1000_cat.EPR>0].EPR)"
   ]
  },
  {
   "cell_type": "code",
   "execution_count": 27,
   "id": "aae83697",
   "metadata": {},
   "outputs": [
    {
     "data": {
      "image/png": "[encoded data removed]",
      "text/plain": [
       "<Figure size 432x288 with 1 Axes>"
      ]
     },
     "metadata": {
      "needs_background": "light"
     },
     "output_type": "display_data"
    }
   ],
   "source": [
    "fig,ax=plt.subplots(figsize=(6,4))\n",
    "ax.set_xlabel('EPR',fontsize=12)\n",
    "ax.set_ylabel('Probability Density',fontsize=12)\n",
    "sns.kdeplot(data1000_orig[data1000_orig.EPR>0].EPR, color='#a1e9f0', shade=True, label='TF')\n",
    "sns.kdeplot(data1000_cat[data1000_cat.EPR>0].EPR, color='#d9b1f0', shade=True, label='RBP')\n",
    "ax.axvline(data1000_orig[data1000_orig.EPR>0].EPR.mean(),color='#a1e9f0',lw=3)\n",
    "ax.axvline(data1000_cat[data1000_cat.EPR>0].EPR.mean(),color='#d9b1f0',lw=3)\n",
    "ax.axvline(1,color='black',lw=3,linestyle='dashed',label='Random pred.')\n",
    "ax.legend(loc=0,frameon=False)\n",
    "fig.tight_layout()\n",
    "plt.savefig(\"TF_RBP_1000.pdf\",bbox_inches='tight')"
   ]
  },
  {
   "cell_type": "code",
   "execution_count": null,
   "id": "72d66435",
   "metadata": {},
   "outputs": [],
   "source": []
  }
 ],
 "metadata": {
  "kernelspec": {
   "display_name": "INTERACTomics-venv",
   "language": "python",
   "name": "interactomics-venv"
  },
  "language_info": {
   "codemirror_mode": {
    "name": "ipython",
    "version": 3
   },
   "file_extension": ".py",
   "mimetype": "text/x-python",
   "name": "python",
   "nbconvert_exporter": "python",
   "pygments_lexer": "ipython3",
   "version": "3.7.7"
  },
  "toc": {
   "base_numbering": 1,
   "nav_menu": {},
   "number_sections": true,
   "sideBar": true,
   "skip_h1_title": false,
   "title_cell": "Table of Contents",
   "title_sidebar": "Contents",
   "toc_cell": false,
   "toc_position": {},
   "toc_section_display": true,
   "toc_window_display": false
  }
 },
 "nbformat": 4,
 "nbformat_minor": 5
}
